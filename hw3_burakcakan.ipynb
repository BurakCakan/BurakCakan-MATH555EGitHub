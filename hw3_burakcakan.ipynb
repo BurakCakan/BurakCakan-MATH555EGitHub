{
 "cells": [
  {
   "cell_type": "markdown",
   "metadata": {},
   "source": [
    "# Homework #3\n",
    "\n"
   ]
  },
  {
   "cell_type": "markdown",
   "metadata": {},
   "source": [
    "## Question #1\n",
    "\n",
    "For this question you will use [Olivetti Face Dataset](https://scikit-learn.org/0.19/datasets/olivetti_faces.html).\n",
    "\n",
    "### Part 1\n",
    "\n",
    "1. Split your dataset as train and test subset. But make sure that each test set contains exactly one random image from each distinct individual. This means, you will have to write your own train_test_split function for this dataset.\n",
    "\n",
    "2. Construct an SVM model on your train set, and test its accuracy on your test set. For this part, the images viewed as integer vectors of length 4096 are independent variables while the id number of the person that picture belongs to is the dependent variable. In other words, you are trying to construct an SVM model that recognizes individuals based on their pictures.\n",
    "\n",
    "3. Repeat Step 2 ten times.\n",
    "\n",
    "4. Calculate the mean accuracy and get 95% confidence interval using the t-test.\n",
    "\n",
    "### Part 2\n",
    "\n",
    "Do the same things you did in Part 1 but with a multinomial regression model."
   ]
  },
  {
   "cell_type": "code",
   "execution_count": 15,
   "metadata": {},
   "outputs": [],
   "source": [
    "from sklearn.datasets import fetch_olivetti_faces\n",
    "import numpy as np\n",
    "from sklearn.svm import LinearSVC\n",
    "from sklearn.metrics import confusion_matrix, accuracy_score\n",
    "from scipy.stats import t\n",
    "from sklearn.linear_model import LogisticRegression"
   ]
  },
  {
   "cell_type": "code",
   "execution_count": 16,
   "metadata": {},
   "outputs": [],
   "source": [
    "#Part 1.1\n",
    "\n",
    "faces = fetch_olivetti_faces()\n",
    "x_test = []\n",
    "y_test = []\n",
    "x_train = []\n",
    "y_train = []\n",
    "\n",
    "fn = np.vectorize(lambda x: not x)\n",
    "\n",
    "for i in range(40):\n",
    "    y_test.append(i)\n",
    "    individual = faces.data[faces.target==i]\n",
    "    rand = np.random.randint(10)\n",
    "    x_test.append(individual[rand])\n",
    "    for j in range(10):\n",
    "        if j != rand:\n",
    "            y_train.append(i)\n",
    "            x_train.append(individual[j])\n"
   ]
  },
  {
   "cell_type": "code",
   "execution_count": 17,
   "metadata": {},
   "outputs": [
    {
     "name": "stdout",
     "output_type": "stream",
     "text": [
      "0.975\n"
     ]
    },
    {
     "name": "stderr",
     "output_type": "stream",
     "text": [
      "/Users/burak.cakan/opt/anaconda3/lib/python3.8/site-packages/sklearn/svm/_base.py:985: ConvergenceWarning: Liblinear failed to converge, increase the number of iterations.\n",
      "  warnings.warn(\"Liblinear failed to converge, increase \"\n"
     ]
    }
   ],
   "source": [
    "#Part 1.2\n",
    "        \n",
    "model = LinearSVC(max_iter=50)\n",
    "model.fit(x_train,y_train)\n",
    "predicted = model.predict(x_test)\n",
    "print(accuracy_score(predicted,y_test))\n",
    "\n"
   ]
  },
  {
   "cell_type": "code",
   "execution_count": 18,
   "metadata": {},
   "outputs": [
    {
     "name": "stderr",
     "output_type": "stream",
     "text": [
      "/Users/burak.cakan/opt/anaconda3/lib/python3.8/site-packages/sklearn/svm/_base.py:985: ConvergenceWarning: Liblinear failed to converge, increase the number of iterations.\n",
      "  warnings.warn(\"Liblinear failed to converge, increase \"\n",
      "/Users/burak.cakan/opt/anaconda3/lib/python3.8/site-packages/sklearn/svm/_base.py:985: ConvergenceWarning: Liblinear failed to converge, increase the number of iterations.\n",
      "  warnings.warn(\"Liblinear failed to converge, increase \"\n",
      "/Users/burak.cakan/opt/anaconda3/lib/python3.8/site-packages/sklearn/svm/_base.py:985: ConvergenceWarning: Liblinear failed to converge, increase the number of iterations.\n",
      "  warnings.warn(\"Liblinear failed to converge, increase \"\n",
      "/Users/burak.cakan/opt/anaconda3/lib/python3.8/site-packages/sklearn/svm/_base.py:985: ConvergenceWarning: Liblinear failed to converge, increase the number of iterations.\n",
      "  warnings.warn(\"Liblinear failed to converge, increase \"\n",
      "/Users/burak.cakan/opt/anaconda3/lib/python3.8/site-packages/sklearn/svm/_base.py:985: ConvergenceWarning: Liblinear failed to converge, increase the number of iterations.\n",
      "  warnings.warn(\"Liblinear failed to converge, increase \"\n",
      "/Users/burak.cakan/opt/anaconda3/lib/python3.8/site-packages/sklearn/svm/_base.py:985: ConvergenceWarning: Liblinear failed to converge, increase the number of iterations.\n",
      "  warnings.warn(\"Liblinear failed to converge, increase \"\n",
      "/Users/burak.cakan/opt/anaconda3/lib/python3.8/site-packages/sklearn/svm/_base.py:985: ConvergenceWarning: Liblinear failed to converge, increase the number of iterations.\n",
      "  warnings.warn(\"Liblinear failed to converge, increase \"\n",
      "/Users/burak.cakan/opt/anaconda3/lib/python3.8/site-packages/sklearn/svm/_base.py:985: ConvergenceWarning: Liblinear failed to converge, increase the number of iterations.\n",
      "  warnings.warn(\"Liblinear failed to converge, increase \"\n",
      "/Users/burak.cakan/opt/anaconda3/lib/python3.8/site-packages/sklearn/svm/_base.py:985: ConvergenceWarning: Liblinear failed to converge, increase the number of iterations.\n",
      "  warnings.warn(\"Liblinear failed to converge, increase \"\n"
     ]
    },
    {
     "name": "stdout",
     "output_type": "stream",
     "text": [
      "0.9674999999999999\n",
      "(0.9166014638383276, 1.0183985361616723)\n"
     ]
    },
    {
     "name": "stderr",
     "output_type": "stream",
     "text": [
      "/Users/burak.cakan/opt/anaconda3/lib/python3.8/site-packages/sklearn/svm/_base.py:985: ConvergenceWarning: Liblinear failed to converge, increase the number of iterations.\n",
      "  warnings.warn(\"Liblinear failed to converge, increase \"\n"
     ]
    }
   ],
   "source": [
    "#Part 1.3&4\n",
    "\n",
    "accuracy_scores = []\n",
    "\n",
    "for i in range(10):\n",
    "    model.fit(x_train,y_train)\n",
    "    predicted = model.predict(x_test)\n",
    "    accuracy_scores.append(accuracy_score(predicted,y_test)) \n",
    "\n",
    "avg_accuracy_score = sum(accuracy_scores)/len(accuracy_scores)\n",
    "\n",
    "m = np.mean(accuracy_scores)\n",
    "dev = np.std(accuracy_scores)\n",
    "confidence_interval = t.interval(0.95, 9, loc=m, scale=dev)\n",
    "\n",
    "print(avg_accuracy_score)\n",
    "print(confidence_interval)"
   ]
  },
  {
   "cell_type": "code",
   "execution_count": 19,
   "metadata": {},
   "outputs": [
    {
     "name": "stderr",
     "output_type": "stream",
     "text": [
      "/Users/burak.cakan/opt/anaconda3/lib/python3.8/site-packages/sklearn/linear_model/_sag.py:328: ConvergenceWarning: The max_iter was reached which means the coef_ did not converge\n",
      "  warnings.warn(\"The max_iter was reached which means \"\n"
     ]
    },
    {
     "name": "stdout",
     "output_type": "stream",
     "text": [
      "0.8\n"
     ]
    },
    {
     "name": "stderr",
     "output_type": "stream",
     "text": [
      "/Users/burak.cakan/opt/anaconda3/lib/python3.8/site-packages/sklearn/linear_model/_sag.py:328: ConvergenceWarning: The max_iter was reached which means the coef_ did not converge\n",
      "  warnings.warn(\"The max_iter was reached which means \"\n",
      "/Users/burak.cakan/opt/anaconda3/lib/python3.8/site-packages/sklearn/linear_model/_sag.py:328: ConvergenceWarning: The max_iter was reached which means the coef_ did not converge\n",
      "  warnings.warn(\"The max_iter was reached which means \"\n",
      "/Users/burak.cakan/opt/anaconda3/lib/python3.8/site-packages/sklearn/linear_model/_sag.py:328: ConvergenceWarning: The max_iter was reached which means the coef_ did not converge\n",
      "  warnings.warn(\"The max_iter was reached which means \"\n",
      "/Users/burak.cakan/opt/anaconda3/lib/python3.8/site-packages/sklearn/linear_model/_sag.py:328: ConvergenceWarning: The max_iter was reached which means the coef_ did not converge\n",
      "  warnings.warn(\"The max_iter was reached which means \"\n",
      "/Users/burak.cakan/opt/anaconda3/lib/python3.8/site-packages/sklearn/linear_model/_sag.py:328: ConvergenceWarning: The max_iter was reached which means the coef_ did not converge\n",
      "  warnings.warn(\"The max_iter was reached which means \"\n",
      "/Users/burak.cakan/opt/anaconda3/lib/python3.8/site-packages/sklearn/linear_model/_sag.py:328: ConvergenceWarning: The max_iter was reached which means the coef_ did not converge\n",
      "  warnings.warn(\"The max_iter was reached which means \"\n",
      "/Users/burak.cakan/opt/anaconda3/lib/python3.8/site-packages/sklearn/linear_model/_sag.py:328: ConvergenceWarning: The max_iter was reached which means the coef_ did not converge\n",
      "  warnings.warn(\"The max_iter was reached which means \"\n",
      "/Users/burak.cakan/opt/anaconda3/lib/python3.8/site-packages/sklearn/linear_model/_sag.py:328: ConvergenceWarning: The max_iter was reached which means the coef_ did not converge\n",
      "  warnings.warn(\"The max_iter was reached which means \"\n",
      "/Users/burak.cakan/opt/anaconda3/lib/python3.8/site-packages/sklearn/linear_model/_sag.py:328: ConvergenceWarning: The max_iter was reached which means the coef_ did not converge\n",
      "  warnings.warn(\"The max_iter was reached which means \"\n"
     ]
    },
    {
     "name": "stdout",
     "output_type": "stream",
     "text": [
      "0.7975000000000001\n",
      "(0.7505227783257618, 0.8444772216742384)\n"
     ]
    },
    {
     "name": "stderr",
     "output_type": "stream",
     "text": [
      "/Users/burak.cakan/opt/anaconda3/lib/python3.8/site-packages/sklearn/linear_model/_sag.py:328: ConvergenceWarning: The max_iter was reached which means the coef_ did not converge\n",
      "  warnings.warn(\"The max_iter was reached which means \"\n"
     ]
    }
   ],
   "source": [
    "#Part 2\n",
    "\n",
    "model_2 = LogisticRegression(multi_class='multinomial',max_iter=10,solver='saga')\n",
    "model_2.fit(x_train,y_train)\n",
    "predicted_2 = model_2.predict(x_test)\n",
    "print(accuracy_score(predicted_2,y_test))\n",
    "\n",
    "accuracy_scores_2 = []\n",
    "\n",
    "for i in range(10):\n",
    "    model_2.fit(x_train,y_train)\n",
    "    predicted_2 = model_2.predict(x_test)\n",
    "    accuracy_scores_2.append(accuracy_score(predicted_2,y_test)) \n",
    "\n",
    "avg_accuracy_score_2 = sum(accuracy_scores_2)/len(accuracy_scores_2)\n",
    "\n",
    "m_2 = np.mean(accuracy_scores_2)\n",
    "dev_2 = np.std(accuracy_scores_2)\n",
    "confidence_interval_2 = t.interval(0.95, 9, loc=m_2, scale=dev_2)\n",
    "\n",
    "print(avg_accuracy_score_2)\n",
    "print(confidence_interval_2)"
   ]
  },
  {
   "cell_type": "markdown",
   "metadata": {},
   "source": [
    "## Question #2\n",
    "\n",
    "For this question you will use [Large Movie Review Dataset](https://ai.stanford.edu/~amaas/data/sentiment/).\n",
    "\n",
    "### Part 1\n",
    "\n",
    "Convert the dataset into numerical data using [`CountVectorizer`](https://scikit-learn.org/stable/modules/generated/sklearn.feature_extraction.text.CountVectorizer.html#sklearn.feature_extraction.text.CountVectorizer) from SciKitLearn's `sklearn.feature_extraction.text` module. Make sure that you also record whether a given movie review is positive or negative or neutral. Calling on `CountVectorizer` on individual entries is not going to be enough. You will have to do some preliminary work. Read the documentation carefully.\n",
    "\n",
    "### Part 2\n",
    "\n",
    "Using the numerical data you constructed in Part 1, construct an LDA model to see if data projects into a 2D space with clear separation. Analyze your result.\n",
    "\n",
    "\n",
    "### Part 3\n",
    "\n",
    "Using the numerical data you constructed in Part 1, \n",
    "\n",
    "1. Split the data as train and test using SciKitLearn's `train_test_split` function.\n",
    "2. Form a multiclass SVM model on the train set and test its accuracy.\n",
    "3. Repeat a small number of times and get mean accuracy and its error band.\n",
    "\n",
    "### Part 4\n",
    "\n",
    "Repeat Part 3 using multinomial regression models instead of SVM.\n",
    "\n",
    "### Part 5\n",
    "\n",
    "Using the numerical data you constructed in Part 1, \n",
    "\n",
    "1. Construct an PCA model and look at the eigenvalues from largest to smallest. \n",
    "2. How many dimensions needed to capture 90% of the variation of the data? (Read the documentation of [PCA](https://scikit-learn.org/stable/modules/generated/sklearn.decomposition.PCA.html) form SciKitLearn)\n",
    "3. Transform your data using the result you obtained in Step 2.\n",
    "4. Construct an SVM model on the new dataset you constructed and cross-validate it.\n",
    "5. Compare your result with the result you obtained in Part 3.\n"
   ]
  },
  {
   "cell_type": "code",
   "execution_count": 20,
   "metadata": {},
   "outputs": [],
   "source": [
    "#QUESTION 2 - libraries\n",
    "import os\n",
    "from sklearn.feature_extraction.text import CountVectorizer\n",
    "from random import sample\n",
    "from sklearn.discriminant_analysis import LinearDiscriminantAnalysis\n",
    "from scipy.sparse import csr_matrix as csr\n",
    "import matplotlib.pyplot as plt\n",
    "import numpy as np\n",
    "from sklearn.model_selection import train_test_split\n",
    "from sklearn.svm import LinearSVC\n",
    "from sklearn.metrics import confusion_matrix, accuracy_score, mean_absolute_error\n",
    "from scipy.stats import t\n",
    "from sklearn.linear_model import LogisticRegression\n",
    "from sklearn.model_selection import cross_val_score\n",
    "from sklearn.decomposition import PCA"
   ]
  },
  {
   "cell_type": "markdown",
   "metadata": {},
   "source": [
    "**#Part 1 - get data and vectorize**\n",
    "In the first part, I will read the data and then vectorize the text data. Because the vectorized data is stored as csr sparse matrix format, I will convert it to array format. "
   ]
  },
  {
   "cell_type": "code",
   "execution_count": 21,
   "metadata": {},
   "outputs": [],
   "source": [
    "test_neg = os.listdir(\"aclImdb/test/neg\")\n",
    "test_pos = os.listdir(\"aclImdb/test/pos\")\n",
    "train_neg = os.listdir(\"aclImdb/train/neg\")\n",
    "train_pos = os.listdir(\"aclImdb/train/pos\")\n",
    "\n",
    "xs = []\n",
    "ys = []\n",
    "    \n",
    "for i in range(len(train_neg)):\n",
    "    b = \"/Users/burak.cakan/Desktop/aclImdb/train/neg/\"+train_neg[i]\n",
    "    f = open(b, \"r\")\n",
    "    xs.append(f.read())\n",
    "    ys.append(0)\n",
    "    \n",
    "for i in range(len(train_pos)):\n",
    "    b = \"/Users/burak.cakan/Desktop/aclImdb/train/pos/\"+train_pos[i]\n",
    "    f = open(b, \"r\")\n",
    "    xs.append(f.read())\n",
    "    ys.append(1)\n",
    "\n",
    "for i in range(len(test_neg)):\n",
    "    b = \"/Users/burak.cakan/Desktop/aclImdb/test/neg/\"+test_neg[i]\n",
    "    f = open(b, \"r\")\n",
    "    xs.append(f.read())\n",
    "    ys.append(0)\n",
    "\n",
    "for i in range(len(test_pos)):\n",
    "    b = \"/Users/burak.cakan/Desktop/aclImdb/test/pos/\"+test_pos[i]\n",
    "    f = open(b, \"r\")\n",
    "    xs.append(f.read())\n",
    "    ys.append(1)\n",
    "    \n",
    "cv = CountVectorizer()\n",
    "count_vector = cv.fit_transform(xs)\n",
    "\n",
    "xn = []\n",
    "xp = []\n",
    "c = count_vector.toarray()\n",
    "\n",
    "for i in range(len(xs)):\n",
    "    if ys[i] == 0:\n",
    "        xn.append(c[i])\n",
    "    else:\n",
    "        xp.append(c[i])\n",
    "        "
   ]
  },
  {
   "cell_type": "markdown",
   "metadata": {},
   "source": [
    "**#Part 2 - LDA**\n",
    "In some computations like LDA and PCA for this homework, size of the data could be a problem. I will use the sample from whole population in case of encountering memory error. To do this, there are some statistical formulas to find the best sample size for 95% confidence interval. I used this approach with the help of a calculator. (https://www.calculator.net/sample-size-calculator.html?type=1&cl=95&ci=5&pp=50&ps=50000&x=76&y=8)\n",
    "The result from this calculator was 379 but I wanted to work with a bigger sample to minimize the information loss. Thus, I chose the sample size as 500."
   ]
  },
  {
   "cell_type": "code",
   "execution_count": 22,
   "metadata": {},
   "outputs": [
    {
     "data": {
      "image/png": "[encoded data removed]",
      "text/plain": [
       "<Figure size 432x288 with 1 Axes>"
      ]
     },
     "metadata": {
      "needs_background": "light"
     },
     "output_type": "display_data"
    },
    {
     "data": {
      "image/png": "[encoded data removed]",
      "text/plain": [
       "<Figure size 432x288 with 1 Axes>"
      ]
     },
     "metadata": {
      "needs_background": "light"
     },
     "output_type": "display_data"
    },
    {
     "data": {
      "image/png": "[encoded data removed]",
      "text/plain": [
       "<Figure size 432x288 with 1 Axes>"
      ]
     },
     "metadata": {
      "needs_background": "light"
     },
     "output_type": "display_data"
    },
    {
     "data": {
      "image/png": "[encoded data removed]",
      "text/plain": [
       "<Figure size 432x288 with 1 Axes>"
      ]
     },
     "metadata": {
      "needs_background": "light"
     },
     "output_type": "display_data"
    },
    {
     "data": {
      "image/png": "[encoded data removed]",
      "text/plain": [
       "<Figure size 432x288 with 1 Axes>"
      ]
     },
     "metadata": {
      "needs_background": "light"
     },
     "output_type": "display_data"
    }
   ],
   "source": [
    "#sample size 379 --> 500\n",
    "for i in range(5): \n",
    "    xns = sample(xn,500)\n",
    "    xps = sample(xp,500)\n",
    "\n",
    "    x = xns + xps\n",
    "    y = [0]*500 + [1]*500\n",
    "\n",
    "    model = LinearDiscriminantAnalysis()\n",
    "    transformed = model.fit_transform(x,y)\n",
    "    plt.figure()\n",
    "    plt.scatter(transformed[:,0],np.zeros(len(transformed)),c=y)\n",
    "plt.show()"
   ]
  },
  {
   "cell_type": "markdown",
   "metadata": {},
   "source": [
    "#Part 2 - Analysis on LDA:\n",
    "Accarding to plots of different samples shown above, it is hard to say that there is a clear separation after LDA implementation to the data. One of the cause of this could be very high dimensionality (more than 100.000 attributes) in the dataset."
   ]
  },
  {
   "cell_type": "markdown",
   "metadata": {},
   "source": [
    "#Part 3 - SVM Implementation\n",
    "To use full data without error, I started this notebook with this command: \n",
    "terminal>> jupyter notebook --NotebookApp.iopub_data_rate_limit=1.0e10\n",
    "Thus, I used full dateset in part 3 and 4.\n",
    "\n",
    "In step 2 of part 3, I will try both cramer_singer and ovl method of svm multi class classification. Then I will choose best one in accuracy for the other step.\n",
    "\n",
    "In step 3, I will calculate error band like calculating 95% confidence interval of mean. More basically, I will find average of error for 10 iterations. Then, I will calculate standart deviation of error values. At the end, the formula of confidence interval is implemented (x̄ ± z*σ/(√n)) and this will represent my error band."
   ]
  },
  {
   "cell_type": "code",
   "execution_count": 23,
   "metadata": {},
   "outputs": [],
   "source": [
    "#Part 3.1 - train/test split\n",
    "x_train, x_test, y_train, y_test = train_test_split(c,ys,test_size=0.2)"
   ]
  },
  {
   "cell_type": "code",
   "execution_count": 24,
   "metadata": {},
   "outputs": [
    {
     "name": "stderr",
     "output_type": "stream",
     "text": [
      "/Users/burak.cakan/opt/anaconda3/lib/python3.8/site-packages/sklearn/svm/_base.py:985: ConvergenceWarning: Liblinear failed to converge, increase the number of iterations.\n",
      "  warnings.warn(\"Liblinear failed to converge, increase \"\n",
      "/Users/burak.cakan/opt/anaconda3/lib/python3.8/site-packages/sklearn/svm/_base.py:985: ConvergenceWarning: Liblinear failed to converge, increase the number of iterations.\n",
      "  warnings.warn(\"Liblinear failed to converge, increase \"\n"
     ]
    },
    {
     "name": "stdout",
     "output_type": "stream",
     "text": [
      "Accuracy with cramer_singer: 0.8687\n",
      "Accuracy with ovr: 0.8726\n"
     ]
    }
   ],
   "source": [
    "#Part 3.2 \n",
    "def svcMulti(class_type):\n",
    "    model = LinearSVC(multi_class=class_type)\n",
    "    model.fit(x_train,y_train)\n",
    "    predicted = model.predict(x_test)\n",
    "    return accuracy_score(predicted,y_test)\n",
    "a=svcMulti('crammer_singer')\n",
    "b=svcMulti('ovr')\n",
    "print('Accuracy with cramer_singer:', a)\n",
    "print('Accuracy with ovr:', b)"
   ]
  },
  {
   "cell_type": "markdown",
   "metadata": {},
   "source": [
    "Because ovr is a little bit better than cramer_singer, I go on with ovr in the following section:"
   ]
  },
  {
   "cell_type": "code",
   "execution_count": 25,
   "metadata": {},
   "outputs": [
    {
     "name": "stderr",
     "output_type": "stream",
     "text": [
      "/Users/burak.cakan/opt/anaconda3/lib/python3.8/site-packages/sklearn/svm/_base.py:985: ConvergenceWarning: Liblinear failed to converge, increase the number of iterations.\n",
      "  warnings.warn(\"Liblinear failed to converge, increase \"\n",
      "/Users/burak.cakan/opt/anaconda3/lib/python3.8/site-packages/sklearn/svm/_base.py:985: ConvergenceWarning: Liblinear failed to converge, increase the number of iterations.\n",
      "  warnings.warn(\"Liblinear failed to converge, increase \"\n",
      "/Users/burak.cakan/opt/anaconda3/lib/python3.8/site-packages/sklearn/svm/_base.py:985: ConvergenceWarning: Liblinear failed to converge, increase the number of iterations.\n",
      "  warnings.warn(\"Liblinear failed to converge, increase \"\n",
      "/Users/burak.cakan/opt/anaconda3/lib/python3.8/site-packages/sklearn/svm/_base.py:985: ConvergenceWarning: Liblinear failed to converge, increase the number of iterations.\n",
      "  warnings.warn(\"Liblinear failed to converge, increase \"\n",
      "/Users/burak.cakan/opt/anaconda3/lib/python3.8/site-packages/sklearn/svm/_base.py:985: ConvergenceWarning: Liblinear failed to converge, increase the number of iterations.\n",
      "  warnings.warn(\"Liblinear failed to converge, increase \"\n"
     ]
    },
    {
     "name": "stdout",
     "output_type": "stream",
     "text": [
      "Average accuracy score: 0.8726800000000001\n",
      "Average mean absolute error: 0.12731999999999996\n",
      "Avg. Std of errors: 9.797958971131634e-05\n",
      "Error Band: (0.8724583547693322, 0.872901645230668)\n"
     ]
    }
   ],
   "source": [
    "#Part3.3 \n",
    "accuracy_scores = []\n",
    "mean_absolute_errors = []\n",
    "\n",
    "for i in range(5):\n",
    "    bb=svcMulti('ovr')\n",
    "    accuracy_scores.append(bb) \n",
    "    mean_absolute_errors.append(1-bb)\n",
    "\n",
    "avg_accuracy_score = sum(accuracy_scores)/len(accuracy_scores)\n",
    "avg_mean_abs_error = sum(mean_absolute_errors)/len(mean_absolute_errors)\n",
    "\n",
    "stdev_error = np.std(mean_absolute_errors)\n",
    "error_interval = t.interval(0.95, 9, loc=avg_accuracy_score, scale=stdev_error)\n",
    "\n",
    "print('Average accuracy score:',avg_accuracy_score)\n",
    "print('Average mean absolute error:',avg_mean_abs_error)\n",
    "print('Avg. Std of errors:',stdev_error)\n",
    "print('Error Band:',error_interval)"
   ]
  },
  {
   "cell_type": "markdown",
   "metadata": {},
   "source": [
    "#Part 4\n",
    "In this part, I will do the same steps in the previous step but I will use regression instead of svm."
   ]
  },
  {
   "cell_type": "code",
   "execution_count": null,
   "metadata": {},
   "outputs": [],
   "source": [
    "#Part 4\n",
    "\n",
    "model_2 = LogisticRegression(multi_class='multinomial',max_iter=10,solver='saga')\n",
    "model_2.fit(x_train,y_train)\n",
    "predicted_2 = model_2.predict(x_test)\n",
    "print(accuracy_score(predicted_2,y_test))\n",
    "\n",
    "accuracy_scores_2 = []\n",
    "mean_absolute_errors_2 = []\n",
    "\n",
    "for i in range(5):\n",
    "    model_2.fit(x_train,y_train)\n",
    "    predicted_2 = model_2.predict(x_test)\n",
    "    accuracy_scores_2.append(accuracy_score(predicted_2,y_test)) \n",
    "    mean_absolute_errors_2.append(mean_absolute_error(y_test,predicted))\n",
    "\n",
    "m_2 = np.mean(accuracy_scores_2)\n",
    "\n",
    "stdev_error_2 = np.std(mean_absolute_errors_2)\n",
    "error_interval_2 = t.interval(0.95, 9, loc=m_2, scale=stdev_error_2)\n",
    "\n",
    "\n",
    "print(m_2)\n",
    "print(stdev_error)\n",
    "print(error_interval_2)\n"
   ]
  },
  {
   "cell_type": "markdown",
   "metadata": {},
   "source": [
    "Because all error values are the same, the standart deviation of error is about zero. That's why, error band is printed as \"nan\". Error band could be [0.1383,0.1383]."
   ]
  },
  {
   "cell_type": "code",
   "execution_count": null,
   "metadata": {},
   "outputs": [],
   "source": [
    "#Part 4 (extended)\n",
    "print(mean_absolute_errors_2)\n"
   ]
  },
  {
   "cell_type": "markdown",
   "metadata": {},
   "source": [
    "Part 5 - PCA\n",
    "\n",
    "5.1 - In the first part, I will find eigenvalues by using the explained_variance_ component."
   ]
  },
  {
   "cell_type": "code",
   "execution_count": null,
   "metadata": {},
   "outputs": [],
   "source": [
    "#5.1\n",
    "\n",
    "xns = sample(xn,500)\n",
    "xps = sample(xp,500)\n",
    "\n",
    "x = xns + xps\n",
    "y = [0]*500 + [1]*500\n",
    "\n",
    "\n",
    "model = PCA()\n",
    "model.fit(x) \n",
    "\n",
    "print(model.explained_variance_) #eigenvalues\n"
   ]
  },
  {
   "cell_type": "markdown",
   "metadata": {},
   "source": [
    "#Part 5.2\n",
    "I found the number of attributes that covers the 90% of the variation in two ways:"
   ]
  },
  {
   "cell_type": "code",
   "execution_count": null,
   "metadata": {},
   "outputs": [],
   "source": [
    "#5.2\n",
    "count = 0\n",
    "vr = 0\n",
    "i = 0\n",
    "a=model.explained_variance_ratio_\n",
    "\n",
    "while vr < 0.9:\n",
    "    vr += a[i]\n",
    "    count += 1\n",
    "    i += 1\n",
    "\n",
    "print(count)\n"
   ]
  },
  {
   "cell_type": "code",
   "execution_count": null,
   "metadata": {},
   "outputs": [],
   "source": [
    "pca = PCA(0.9)\n",
    "pca.fit(x)\n",
    "pca.n_components_"
   ]
  },
  {
   "cell_type": "code",
   "execution_count": null,
   "metadata": {},
   "outputs": [],
   "source": [
    "pca = PCA(0.9)\n",
    "transformed = pca.fit_transform(x)\n"
   ]
  },
  {
   "cell_type": "code",
   "execution_count": null,
   "metadata": {},
   "outputs": [],
   "source": [
    "plt.scatter(transformed[:,0],np.zeros(len(transformed)),c=y)\n",
    "#plt.scatter(transformed[:,0],np.zeros(len(transformed)),c=y)\n"
   ]
  },
  {
   "cell_type": "code",
   "execution_count": null,
   "metadata": {},
   "outputs": [],
   "source": [
    "# Part 5.4 with 10 different samples: \n",
    "mean_acc = []\n",
    "for i in range(10):\n",
    "    xns = sample(xn,500)\n",
    "    xps = sample(xp,500)\n",
    "\n",
    "    x = xns + xps\n",
    "    y = [0]*500 + [1]*500\n",
    "    \n",
    "    pca = PCA(0.9)\n",
    "    pca.fit(x)\n",
    "    transformed = pca.fit_transform(x)\n",
    "    clf = LinearSVC()\n",
    "    scores = cross_val_score(clf, transformed, y, cv=10)\n",
    "    n = np.mean(scores)\n",
    "    mean_acc.append(n)\n",
    "    \n",
    "average_acc = sum(mean_acc)/len(mean_acc)\n",
    "print(average_acc)\n",
    "\n",
    "    "
   ]
  },
  {
   "cell_type": "markdown",
   "metadata": {},
   "source": [
    "#Part 5.5\n",
    "In the mean of compating with part 2, according to scatter plots of LDA and PCA just above, LDA had a better performance for separating but both of them cannot give a clear separation.\n",
    "In the mean of compating with part 3, mean accuracy score is about 0.86. In PCA, we have using the model with less dimensions. Thus, we have sacrificed some of accuracy. And after dimentionality reduction in pca, my accuracy value is 0.736."
   ]
  }
 ],
 "metadata": {
  "kernelspec": {
   "display_name": "Python 3",
   "language": "python",
   "name": "python3"
  },
  "language_info": {
   "codemirror_mode": {
    "name": "ipython",
    "version": 3
   },
   "file_extension": ".py",
   "mimetype": "text/x-python",
   "name": "python",
   "nbconvert_exporter": "python",
   "pygments_lexer": "ipython3",
   "version": "3.8.5"
  }
 },
 "nbformat": 4,
 "nbformat_minor": 5
}
