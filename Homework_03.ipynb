{
 "cells": [
  {
   "cell_type": "markdown",
   "metadata": {},
   "source": [
    "# Homework #3\n",
    "\n"
   ]
  },
  {
   "cell_type": "markdown",
   "metadata": {},
   "source": [
    "## Question #1\n",
    "\n",
    "For this question you will use [Olivetti Face Dataset](https://scikit-learn.org/0.19/datasets/olivetti_faces.html).\n",
    "\n",
    "### Part 1\n",
    "\n",
    "1. Split your dataset as train and test subset. But make sure that each test set contains exactly one random image from each distinct individual. This means, you will have to write your own train_test_split function for this dataset.\n",
    "\n",
    "2. Construct an SVM model on your train set, and test its accuracy on your test set. For this part, the images viewed as integer vectors of length 4096 are independent variables while the id number of the person that picture belongs to is the dependent variable. In other words, you are trying to construct an SVM model that recognizes individuals based on their pictures.\n",
    "\n",
    "3. Repeat Step 2 ten times.\n",
    "\n",
    "4. Calculate the mean accuracy and get 95% confidence interval using the t-test.\n",
    "\n",
    "### Part 2\n",
    "\n",
    "Do the same things you did in Part 1 but with a multinomial regression model."
   ]
  },
  {
   "cell_type": "code",
   "execution_count": 15,
   "metadata": {},
   "outputs": [],
   "source": [
    "from sklearn.datasets import fetch_olivetti_faces\n",
    "import numpy as np\n",
    "from sklearn.svm import LinearSVC\n",
    "from sklearn.metrics import confusion_matrix, accuracy_score\n",
    "from scipy.stats import t\n",
    "from sklearn.linear_model import LogisticRegression"
   ]
  },
  {
   "cell_type": "code",
   "execution_count": 16,
   "metadata": {},
   "outputs": [],
   "source": [
    "#Part 1.1\n",
    "\n",
    "faces = fetch_olivetti_faces()\n",
    "x_test = []\n",
    "y_test = []\n",
    "x_train = []\n",
    "y_train = []\n",
    "\n",
    "fn = np.vectorize(lambda x: not x)\n",
    "\n",
    "for i in range(40):\n",
    "    y_test.append(i)\n",
    "    individual = faces.data[faces.target==i]\n",
    "    rand = np.random.randint(10)\n",
    "    x_test.append(individual[rand])\n",
    "    for j in range(10):\n",
    "        if j != rand:\n",
    "            y_train.append(i)\n",
    "            x_train.append(individual[j])\n"
   ]
  },
  {
   "cell_type": "code",
   "execution_count": 17,
   "metadata": {},
   "outputs": [
    {
     "name": "stdout",
     "output_type": "stream",
     "text": [
      "0.975\n"
     ]
    },
    {
     "name": "stderr",
     "output_type": "stream",
     "text": [
      "/Users/burak.cakan/opt/anaconda3/lib/python3.8/site-packages/sklearn/svm/_base.py:985: ConvergenceWarning: Liblinear failed to converge, increase the number of iterations.\n",
      "  warnings.warn(\"Liblinear failed to converge, increase \"\n"
     ]
    }
   ],
   "source": [
    "#Part 1.2\n",
    "        \n",
    "model = LinearSVC(max_iter=50)\n",
    "model.fit(x_train,y_train)\n",
    "predicted = model.predict(x_test)\n",
    "print(accuracy_score(predicted,y_test))\n",
    "\n"
   ]
  },
  {
   "cell_type": "code",
   "execution_count": 18,
   "metadata": {},
   "outputs": [
    {
     "name": "stderr",
     "output_type": "stream",
     "text": [
      "/Users/burak.cakan/opt/anaconda3/lib/python3.8/site-packages/sklearn/svm/_base.py:985: ConvergenceWarning: Liblinear failed to converge, increase the number of iterations.\n",
      "  warnings.warn(\"Liblinear failed to converge, increase \"\n",
      "/Users/burak.cakan/opt/anaconda3/lib/python3.8/site-packages/sklearn/svm/_base.py:985: ConvergenceWarning: Liblinear failed to converge, increase the number of iterations.\n",
      "  warnings.warn(\"Liblinear failed to converge, increase \"\n",
      "/Users/burak.cakan/opt/anaconda3/lib/python3.8/site-packages/sklearn/svm/_base.py:985: ConvergenceWarning: Liblinear failed to converge, increase the number of iterations.\n",
      "  warnings.warn(\"Liblinear failed to converge, increase \"\n",
      "/Users/burak.cakan/opt/anaconda3/lib/python3.8/site-packages/sklearn/svm/_base.py:985: ConvergenceWarning: Liblinear failed to converge, increase the number of iterations.\n",
      "  warnings.warn(\"Liblinear failed to converge, increase \"\n",
      "/Users/burak.cakan/opt/anaconda3/lib/python3.8/site-packages/sklearn/svm/_base.py:985: ConvergenceWarning: Liblinear failed to converge, increase the number of iterations.\n",
      "  warnings.warn(\"Liblinear failed to converge, increase \"\n",
      "/Users/burak.cakan/opt/anaconda3/lib/python3.8/site-packages/sklearn/svm/_base.py:985: ConvergenceWarning: Liblinear failed to converge, increase the number of iterations.\n",
      "  warnings.warn(\"Liblinear failed to converge, increase \"\n",
      "/Users/burak.cakan/opt/anaconda3/lib/python3.8/site-packages/sklearn/svm/_base.py:985: ConvergenceWarning: Liblinear failed to converge, increase the number of iterations.\n",
      "  warnings.warn(\"Liblinear failed to converge, increase \"\n",
      "/Users/burak.cakan/opt/anaconda3/lib/python3.8/site-packages/sklearn/svm/_base.py:985: ConvergenceWarning: Liblinear failed to converge, increase the number of iterations.\n",
      "  warnings.warn(\"Liblinear failed to converge, increase \"\n",
      "/Users/burak.cakan/opt/anaconda3/lib/python3.8/site-packages/sklearn/svm/_base.py:985: ConvergenceWarning: Liblinear failed to converge, increase the number of iterations.\n",
      "  warnings.warn(\"Liblinear failed to converge, increase \"\n"
     ]
    },
    {
     "name": "stdout",
     "output_type": "stream",
     "text": [
      "0.9674999999999999\n",
      "(0.9166014638383276, 1.0183985361616723)\n"
     ]
    },
    {
     "name": "stderr",
     "output_type": "stream",
     "text": [
      "/Users/burak.cakan/opt/anaconda3/lib/python3.8/site-packages/sklearn/svm/_base.py:985: ConvergenceWarning: Liblinear failed to converge, increase the number of iterations.\n",
      "  warnings.warn(\"Liblinear failed to converge, increase \"\n"
     ]
    }
   ],
   "source": [
    "#Part 1.3&4\n",
    "\n",
    "accuracy_scores = []\n",
    "\n",
    "for i in range(10):\n",
    "    model.fit(x_train,y_train)\n",
    "    predicted = model.predict(x_test)\n",
    "    accuracy_scores.append(accuracy_score(predicted,y_test)) \n",
    "\n",
    "avg_accuracy_score = sum(accuracy_scores)/len(accuracy_scores)\n",
    "\n",
    "m = np.mean(accuracy_scores)\n",
    "dev = np.std(accuracy_scores)\n",
    "confidence_interval = t.interval(0.95, 9, loc=m, scale=dev)\n",
    "\n",
    "print(avg_accuracy_score)\n",
    "print(confidence_interval)"
   ]
  },
  {
   "cell_type": "code",
   "execution_count": 19,
   "metadata": {},
   "outputs": [
    {
     "name": "stderr",
     "output_type": "stream",
     "text": [
      "/Users/burak.cakan/opt/anaconda3/lib/python3.8/site-packages/sklearn/linear_model/_sag.py:328: ConvergenceWarning: The max_iter was reached which means the coef_ did not converge\n",
      "  warnings.warn(\"The max_iter was reached which means \"\n"
     ]
    },
    {
     "name": "stdout",
     "output_type": "stream",
     "text": [
      "0.8\n"
     ]
    },
    {
     "name": "stderr",
     "output_type": "stream",
     "text": [
      "/Users/burak.cakan/opt/anaconda3/lib/python3.8/site-packages/sklearn/linear_model/_sag.py:328: ConvergenceWarning: The max_iter was reached which means the coef_ did not converge\n",
      "  warnings.warn(\"The max_iter was reached which means \"\n",
      "/Users/burak.cakan/opt/anaconda3/lib/python3.8/site-packages/sklearn/linear_model/_sag.py:328: ConvergenceWarning: The max_iter was reached which means the coef_ did not converge\n",
      "  warnings.warn(\"The max_iter was reached which means \"\n",
      "/Users/burak.cakan/opt/anaconda3/lib/python3.8/site-packages/sklearn/linear_model/_sag.py:328: ConvergenceWarning: The max_iter was reached which means the coef_ did not converge\n",
      "  warnings.warn(\"The max_iter was reached which means \"\n",
      "/Users/burak.cakan/opt/anaconda3/lib/python3.8/site-packages/sklearn/linear_model/_sag.py:328: ConvergenceWarning: The max_iter was reached which means the coef_ did not converge\n",
      "  warnings.warn(\"The max_iter was reached which means \"\n",
      "/Users/burak.cakan/opt/anaconda3/lib/python3.8/site-packages/sklearn/linear_model/_sag.py:328: ConvergenceWarning: The max_iter was reached which means the coef_ did not converge\n",
      "  warnings.warn(\"The max_iter was reached which means \"\n",
      "/Users/burak.cakan/opt/anaconda3/lib/python3.8/site-packages/sklearn/linear_model/_sag.py:328: ConvergenceWarning: The max_iter was reached which means the coef_ did not converge\n",
      "  warnings.warn(\"The max_iter was reached which means \"\n",
      "/Users/burak.cakan/opt/anaconda3/lib/python3.8/site-packages/sklearn/linear_model/_sag.py:328: ConvergenceWarning: The max_iter was reached which means the coef_ did not converge\n",
      "  warnings.warn(\"The max_iter was reached which means \"\n",
      "/Users/burak.cakan/opt/anaconda3/lib/python3.8/site-packages/sklearn/linear_model/_sag.py:328: ConvergenceWarning: The max_iter was reached which means the coef_ did not converge\n",
      "  warnings.warn(\"The max_iter was reached which means \"\n",
      "/Users/burak.cakan/opt/anaconda3/lib/python3.8/site-packages/sklearn/linear_model/_sag.py:328: ConvergenceWarning: The max_iter was reached which means the coef_ did not converge\n",
      "  warnings.warn(\"The max_iter was reached which means \"\n"
     ]
    },
    {
     "name": "stdout",
     "output_type": "stream",
     "text": [
      "0.7975000000000001\n",
      "(0.7505227783257618, 0.8444772216742384)\n"
     ]
    },
    {
     "name": "stderr",
     "output_type": "stream",
     "text": [
      "/Users/burak.cakan/opt/anaconda3/lib/python3.8/site-packages/sklearn/linear_model/_sag.py:328: ConvergenceWarning: The max_iter was reached which means the coef_ did not converge\n",
      "  warnings.warn(\"The max_iter was reached which means \"\n"
     ]
    }
   ],
   "source": [
    "#Part 2\n",
    "\n",
    "model_2 = LogisticRegression(multi_class='multinomial',max_iter=10,solver='saga')\n",
    "model_2.fit(x_train,y_train)\n",
    "predicted_2 = model_2.predict(x_test)\n",
    "print(accuracy_score(predicted_2,y_test))\n",
    "\n",
    "accuracy_scores_2 = []\n",
    "\n",
    "for i in range(10):\n",
    "    model_2.fit(x_train,y_train)\n",
    "    predicted_2 = model_2.predict(x_test)\n",
    "    accuracy_scores_2.append(accuracy_score(predicted_2,y_test)) \n",
    "\n",
    "avg_accuracy_score_2 = sum(accuracy_scores_2)/len(accuracy_scores_2)\n",
    "\n",
    "m_2 = np.mean(accuracy_scores_2)\n",
    "dev_2 = np.std(accuracy_scores_2)\n",
    "confidence_interval_2 = t.interval(0.95, 9, loc=m_2, scale=dev_2)\n",
    "\n",
    "print(avg_accuracy_score_2)\n",
    "print(confidence_interval_2)"
   ]
  },
  {
   "cell_type": "markdown",
   "metadata": {},
   "source": [
    "## Question #2\n",
    "\n",
    "For this question you will use [Large Movie Review Dataset](https://ai.stanford.edu/~amaas/data/sentiment/).\n",
    "\n",
    "### Part 1\n",
    "\n",
    "Convert the dataset into numerical data using [`CountVectorizer`](https://scikit-learn.org/stable/modules/generated/sklearn.feature_extraction.text.CountVectorizer.html#sklearn.feature_extraction.text.CountVectorizer) from SciKitLearn's `sklearn.feature_extraction.text` module. Make sure that you also record whether a given movie review is positive or negative or neutral. Calling on `CountVectorizer` on individual entries is not going to be enough. You will have to do some preliminary work. Read the documentation carefully.\n",
    "\n",
    "### Part 2\n",
    "\n",
    "Using the numerical data you constructed in Part 1, construct an LDA model to see if data projects into a 2D space with clear separation. Analyze your result.\n",
    "\n",
    "\n",
    "### Part 3\n",
    "\n",
    "Using the numerical data you constructed in Part 1, \n",
    "\n",
    "1. Split the data as train and test using SciKitLearn's `train_test_split` function.\n",
    "2. Form a multiclass SVM model on the train set and test its accuracy.\n",
    "3. Repeat a small number of times and get mean accuracy and its error band.\n",
    "\n",
    "### Part 4\n",
    "\n",
    "Repeat Part 3 using multinomial regression models instead of SVM.\n",
    "\n",
    "### Part 5\n",
    "\n",
    "Using the numerical data you constructed in Part 1, \n",
    "\n",
    "1. Construct an PCA model and look at the eigenvalues from largest to smallest. \n",
    "2. How many dimensions needed to capture 90% of the variation of the data? (Read the documentation of [PCA](https://scikit-learn.org/stable/modules/generated/sklearn.decomposition.PCA.html) form SciKitLearn)\n",
    "3. Transform your data using the result you obtained in Step 2.\n",
    "4. Construct an SVM model on the new dataset you constructed and cross-validate it.\n",
    "5. Compare your result with the result you obtained in Part 3.\n"
   ]
  },
  {
   "cell_type": "code",
   "execution_count": 1,
   "metadata": {},
   "outputs": [],
   "source": [
    "#QUESTION 2 - libraries\n",
    "import os\n",
    "from sklearn.feature_extraction.text import CountVectorizer\n",
    "from random import sample\n",
    "from sklearn.discriminant_analysis import LinearDiscriminantAnalysis\n",
    "from scipy.sparse import csr_matrix as csr\n",
    "import matplotlib.pyplot as plt\n",
    "import numpy as np\n",
    "from sklearn.model_selection import train_test_split\n",
    "from sklearn.svm import LinearSVC\n",
    "from sklearn.metrics import confusion_matrix, accuracy_score, mean_absolute_error\n",
    "from scipy.stats import t\n",
    "from sklearn.linear_model import LogisticRegression\n",
    "from sklearn.model_selection import cross_val_score\n",
    "from sklearn.decomposition import PCA"
   ]
  },
  {
   "cell_type": "markdown",
   "metadata": {},
   "source": [
    "**#Part 1 - get data and vectorize**\n",
    "In the first part, I will read the data and then vectorize the text data. Because the vectorized data is stored as csr sparse matrix format, I will convert it to array format. "
   ]
  },
  {
   "cell_type": "code",
   "execution_count": 2,
   "metadata": {},
   "outputs": [],
   "source": [
    "test_neg = os.listdir(\"aclImdb/test/neg\")\n",
    "test_pos = os.listdir(\"aclImdb/test/pos\")\n",
    "train_neg = os.listdir(\"aclImdb/train/neg\")\n",
    "train_pos = os.listdir(\"aclImdb/train/pos\")\n",
    "\n",
    "xs = []\n",
    "ys = []\n",
    "    \n",
    "for i in range(len(train_neg)):\n",
    "    b = \"/Users/burak.cakan/Desktop/aclImdb/train/neg/\"+train_neg[i]\n",
    "    f = open(b, \"r\")\n",
    "    xs.append(f.read())\n",
    "    ys.append(0)\n",
    "    \n",
    "for i in range(len(train_pos)):\n",
    "    b = \"/Users/burak.cakan/Desktop/aclImdb/train/pos/\"+train_pos[i]\n",
    "    f = open(b, \"r\")\n",
    "    xs.append(f.read())\n",
    "    ys.append(1)\n",
    "\n",
    "for i in range(len(test_neg)):\n",
    "    b = \"/Users/burak.cakan/Desktop/aclImdb/test/neg/\"+test_neg[i]\n",
    "    f = open(b, \"r\")\n",
    "    xs.append(f.read())\n",
    "    ys.append(0)\n",
    "\n",
    "for i in range(len(test_pos)):\n",
    "    b = \"/Users/burak.cakan/Desktop/aclImdb/test/pos/\"+test_pos[i]\n",
    "    f = open(b, \"r\")\n",
    "    xs.append(f.read())\n",
    "    ys.append(1)\n",
    "    \n",
    "cv = CountVectorizer()\n",
    "count_vector = cv.fit_transform(xs)\n",
    "\n",
    "xn = []\n",
    "xp = []\n",
    "c = count_vector.toarray()\n",
    "\n",
    "for i in range(len(xs)):\n",
    "    if ys[i] == 0:\n",
    "        xn.append(c[i])\n",
    "    else:\n",
    "        xp.append(c[i])\n",
    "        "
   ]
  },
  {
   "cell_type": "markdown",
   "metadata": {},
   "source": [
    "**#Part 2 - LDA**\n",
    "In some computations like LDA and PCA for this homework, size of the data could be a problem. I will use the sample from whole population in case of encountering memory error. To do this, there are some statistical formulas to find the best sample size for 95% confidence interval. I used this approach with the help of a calculator. (https://www.calculator.net/sample-size-calculator.html?type=1&cl=95&ci=5&pp=50&ps=50000&x=76&y=8)\n",
    "The result from this calculator was 379 but I wanted to work with a bigger sample to minimize the information loss. Thus, I chose the sample size as 500."
   ]
  },
  {
   "cell_type": "code",
   "execution_count": 22,
   "metadata": {},
   "outputs": [
    {
     "data": {
      "image/png": "[encoded data removed]",
      "text/plain": [
       "<Figure size 432x288 with 1 Axes>"
      ]
     },
     "metadata": {
      "needs_background": "light"
     },
     "output_type": "display_data"
    },
    {
     "data": {
      "image/png": "[encoded data removed]",
      "text/plain": [
       "<Figure size 432x288 with 1 Axes>"
      ]
     },
     "metadata": {
      "needs_background": "light"
     },
     "output_type": "display_data"
    },
    {
     "data": {
      "image/png": "[encoded data removed]",
      "text/plain": [
       "<Figure size 432x288 with 1 Axes>"
      ]
     },
     "metadata": {
      "needs_background": "light"
     },
     "output_type": "display_data"
    },
    {
     "data": {
      "image/png": "[encoded data removed]",
      "text/plain": [
       "<Figure size 432x288 with 1 Axes>"
      ]
     },
     "metadata": {
      "needs_background": "light"
     },
     "output_type": "display_data"
    },
    {
     "data": {
      "image/png": "[encoded data removed]",
      "text/plain": [
       "<Figure size 432x288 with 1 Axes>"
      ]
     },
     "metadata": {
      "needs_background": "light"
     },
     "output_type": "display_data"
    }
   ],
   "source": [
    "#sample size 379 --> 500\n",
    "for i in range(5): \n",
    "    xns = sample(xn,500)\n",
    "    xps = sample(xp,500)\n",
    "\n",
    "    x = xns + xps\n",
    "    y = [0]*500 + [1]*500\n",
    "\n",
    "    model = LinearDiscriminantAnalysis()\n",
    "    transformed = model.fit_transform(x,y)\n",
    "    plt.figure()\n",
    "    plt.scatter(transformed[:,0],np.zeros(len(transformed)),c=y)\n",
    "plt.show()"
   ]
  },
  {
   "cell_type": "markdown",
   "metadata": {},
   "source": [
    "#Part 2 - Analysis on LDA:\n",
    "Accarding to plots of different samples shown above, it is hard to say that there is a clear separation after LDA implementation to the data. One of the cause of this could be very high dimensionality (more than 100.000 attributes) in the dataset."
   ]
  },
  {
   "cell_type": "markdown",
   "metadata": {},
   "source": [
    "#Part 3 - SVM Implementation\n",
    "To use full data without error, I started this notebook with this command: \n",
    "terminal>> jupyter notebook --NotebookApp.iopub_data_rate_limit=1.0e10\n",
    "Thus, I used full dateset in part 3 and 4.\n",
    "\n",
    "In step 2 of part 3, I will try both cramer_singer and ovl method of svm multi class classification. Then I will choose best one in accuracy for the other step.\n",
    "\n",
    "In step 3, I will calculate error band like calculating 95% confidence interval of mean. More basically, I will find average of error for 10 iterations. Then, I will calculate standart deviation of error values. At the end, the formula of confidence interval is implemented (x̄ ± z*σ/(√n)) and this will represent my error band."
   ]
  },
  {
   "cell_type": "code",
   "execution_count": 3,
   "metadata": {},
   "outputs": [],
   "source": [
    "#Part 3.1 - train/test split\n",
    "x_train, x_test, y_train, y_test = train_test_split(c,ys,test_size=0.2)"
   ]
  },
  {
   "cell_type": "code",
   "execution_count": 4,
   "metadata": {},
   "outputs": [
    {
     "name": "stderr",
     "output_type": "stream",
     "text": [
      "/Users/burak.cakan/opt/anaconda3/lib/python3.8/site-packages/sklearn/svm/_base.py:985: ConvergenceWarning: Liblinear failed to converge, increase the number of iterations.\n",
      "  warnings.warn(\"Liblinear failed to converge, increase \"\n",
      "/Users/burak.cakan/opt/anaconda3/lib/python3.8/site-packages/sklearn/svm/_base.py:985: ConvergenceWarning: Liblinear failed to converge, increase the number of iterations.\n",
      "  warnings.warn(\"Liblinear failed to converge, increase \"\n"
     ]
    },
    {
     "name": "stdout",
     "output_type": "stream",
     "text": [
      "Accuracy with cramer_singer: 0.8696\n",
      "Accuracy with ovr: 0.8736\n"
     ]
    }
   ],
   "source": [
    "#Part 3.2 \n",
    "def svcMulti(class_type):\n",
    "    model = LinearSVC(multi_class=class_type)\n",
    "    model.fit(x_train,y_train)\n",
    "    predicted = model.predict(x_test)\n",
    "    return accuracy_score(predicted,y_test)\n",
    "a=svcMulti('crammer_singer')\n",
    "b=svcMulti('ovr')\n",
    "print('Accuracy with cramer_singer:', a)\n",
    "print('Accuracy with ovr:', b)"
   ]
  },
  {
   "cell_type": "markdown",
   "metadata": {},
   "source": [
    "Because ovr is a little bit better than cramer_singer, I go on with ovr in the following section:"
   ]
  },
  {
   "cell_type": "code",
   "execution_count": 5,
   "metadata": {},
   "outputs": [
    {
     "name": "stderr",
     "output_type": "stream",
     "text": [
      "/Users/burak.cakan/opt/anaconda3/lib/python3.8/site-packages/sklearn/svm/_base.py:985: ConvergenceWarning: Liblinear failed to converge, increase the number of iterations.\n",
      "  warnings.warn(\"Liblinear failed to converge, increase \"\n",
      "/Users/burak.cakan/opt/anaconda3/lib/python3.8/site-packages/sklearn/svm/_base.py:985: ConvergenceWarning: Liblinear failed to converge, increase the number of iterations.\n",
      "  warnings.warn(\"Liblinear failed to converge, increase \"\n",
      "/Users/burak.cakan/opt/anaconda3/lib/python3.8/site-packages/sklearn/svm/_base.py:985: ConvergenceWarning: Liblinear failed to converge, increase the number of iterations.\n",
      "  warnings.warn(\"Liblinear failed to converge, increase \"\n",
      "/Users/burak.cakan/opt/anaconda3/lib/python3.8/site-packages/sklearn/svm/_base.py:985: ConvergenceWarning: Liblinear failed to converge, increase the number of iterations.\n",
      "  warnings.warn(\"Liblinear failed to converge, increase \"\n",
      "/Users/burak.cakan/opt/anaconda3/lib/python3.8/site-packages/sklearn/svm/_base.py:985: ConvergenceWarning: Liblinear failed to converge, increase the number of iterations.\n",
      "  warnings.warn(\"Liblinear failed to converge, increase \"\n"
     ]
    },
    {
     "name": "stdout",
     "output_type": "stream",
     "text": [
      "Average accuracy score: 0.87354\n"
     ]
    }
   ],
   "source": [
    "#Part3.3 \n",
    "accuracy_scores = []\n",
    "mean_absolute_errors = []\n",
    "\n",
    "for i in range(5):\n",
    "    bb=svcMulti('ovr')\n",
    "    accuracy_scores.append(bb) \n",
    "    mean_absolute_errors.append(1-bb)\n",
    "    \n",
    "avg_accuracy_score = sum(accuracy_scores)/len(accuracy_scores)\n",
    "print('Average accuracy score:',avg_accuracy_score)\n",
    "\n"
   ]
  },
  {
   "cell_type": "code",
   "execution_count": 6,
   "metadata": {},
   "outputs": [
    {
     "name": "stdout",
     "output_type": "stream",
     "text": [
      "Average mean absolute error: 0.12646\n",
      "Avg. Std of errors: 0.00018547236990993913\n",
      "Error Band: (0.12604043234991769, 0.1268795676500823)\n"
     ]
    }
   ],
   "source": [
    "#Part3.3 (extended)\n",
    "avg_mean_abs_error = sum(mean_absolute_errors)/len(mean_absolute_errors)\n",
    "\n",
    "stdev_error = np.std(mean_absolute_errors)\n",
    "error_interval = t.interval(0.95, 9, loc=avg_mean_abs_error, scale=stdev_error)\n",
    "\n",
    "print('Average mean absolute error:',avg_mean_abs_error)\n",
    "print('Avg. Std of errors:',stdev_error)\n",
    "print('Error Band:',error_interval)"
   ]
  },
  {
   "cell_type": "markdown",
   "metadata": {},
   "source": [
    "If the number of trials increases, error band is probably going to be larger."
   ]
  },
  {
   "cell_type": "markdown",
   "metadata": {},
   "source": [
    "#Part 4\n",
    "In this part, I will do the same steps in the previous step but I will use regression instead of svm."
   ]
  },
  {
   "cell_type": "code",
   "execution_count": 9,
   "metadata": {},
   "outputs": [
    {
     "name": "stderr",
     "output_type": "stream",
     "text": [
      "/Users/burak.cakan/opt/anaconda3/lib/python3.8/site-packages/sklearn/linear_model/_sag.py:328: ConvergenceWarning: The max_iter was reached which means the coef_ did not converge\n",
      "  warnings.warn(\"The max_iter was reached which means \"\n"
     ]
    },
    {
     "name": "stdout",
     "output_type": "stream",
     "text": [
      "0.8318\n"
     ]
    },
    {
     "name": "stderr",
     "output_type": "stream",
     "text": [
      "/Users/burak.cakan/opt/anaconda3/lib/python3.8/site-packages/sklearn/linear_model/_sag.py:328: ConvergenceWarning: The max_iter was reached which means the coef_ did not converge\n",
      "  warnings.warn(\"The max_iter was reached which means \"\n",
      "/Users/burak.cakan/opt/anaconda3/lib/python3.8/site-packages/sklearn/linear_model/_sag.py:328: ConvergenceWarning: The max_iter was reached which means the coef_ did not converge\n",
      "  warnings.warn(\"The max_iter was reached which means \"\n",
      "/Users/burak.cakan/opt/anaconda3/lib/python3.8/site-packages/sklearn/linear_model/_sag.py:328: ConvergenceWarning: The max_iter was reached which means the coef_ did not converge\n",
      "  warnings.warn(\"The max_iter was reached which means \"\n",
      "/Users/burak.cakan/opt/anaconda3/lib/python3.8/site-packages/sklearn/linear_model/_sag.py:328: ConvergenceWarning: The max_iter was reached which means the coef_ did not converge\n",
      "  warnings.warn(\"The max_iter was reached which means \"\n",
      "/Users/burak.cakan/opt/anaconda3/lib/python3.8/site-packages/sklearn/linear_model/_sag.py:328: ConvergenceWarning: The max_iter was reached which means the coef_ did not converge\n",
      "  warnings.warn(\"The max_iter was reached which means \"\n"
     ]
    },
    {
     "name": "stdout",
     "output_type": "stream",
     "text": [
      "0.8322200000000001\n"
     ]
    },
    {
     "ename": "NameError",
     "evalue": "name 'stdev_error' is not defined",
     "output_type": "error",
     "traceback": [
      "\u001b[0;31m---------------------------------------------------------------------------\u001b[0m",
      "\u001b[0;31mNameError\u001b[0m                                 Traceback (most recent call last)",
      "\u001b[0;32m<ipython-input-9-933adb511919>\u001b[0m in \u001b[0;36m<module>\u001b[0;34m\u001b[0m\n\u001b[1;32m     22\u001b[0m \u001b[0;34m\u001b[0m\u001b[0m\n\u001b[1;32m     23\u001b[0m \u001b[0mprint\u001b[0m\u001b[0;34m(\u001b[0m\u001b[0mm_2\u001b[0m\u001b[0;34m)\u001b[0m\u001b[0;34m\u001b[0m\u001b[0;34m\u001b[0m\u001b[0m\n\u001b[0;32m---> 24\u001b[0;31m \u001b[0mprint\u001b[0m\u001b[0;34m(\u001b[0m\u001b[0mstdev_error\u001b[0m\u001b[0;34m)\u001b[0m\u001b[0;34m\u001b[0m\u001b[0;34m\u001b[0m\u001b[0m\n\u001b[0m\u001b[1;32m     25\u001b[0m \u001b[0mprint\u001b[0m\u001b[0;34m(\u001b[0m\u001b[0merror_interval_2\u001b[0m\u001b[0;34m)\u001b[0m\u001b[0;34m\u001b[0m\u001b[0;34m\u001b[0m\u001b[0m\n",
      "\u001b[0;31mNameError\u001b[0m: name 'stdev_error' is not defined"
     ]
    }
   ],
   "source": [
    "#Part 4\n",
    "\n",
    "model_2 = LogisticRegression(multi_class='multinomial',max_iter=5,solver='saga')\n",
    "model_2.fit(x_train,y_train)\n",
    "predicted_2 = model_2.predict(x_test)\n",
    "print(accuracy_score(predicted_2,y_test))\n",
    "\n",
    "accuracy_scores_2 = []\n",
    "mean_absolute_errors_2 = []\n",
    "\n",
    "for i in range(5):\n",
    "    model_2.fit(x_train,y_train)\n",
    "    predicted_2 = model_2.predict(x_test)\n",
    "    accuracy_scores_2.append(accuracy_score(predicted_2,y_test)) \n",
    "    mean_absolute_errors_2.append(mean_absolute_error(y_test,predicted_2))\n",
    "\n",
    "m_2 = np.mean(accuracy_scores_2)\n"
   ]
  },
  {
   "cell_type": "code",
   "execution_count": 18,
   "metadata": {},
   "outputs": [
    {
     "name": "stdout",
     "output_type": "stream",
     "text": [
      "Mean Accuracy:  0.8322200000000001\n",
      "Mean Error:  0.16778\n",
      "Std of Error:  0.00040199502484483907\n",
      "Error Band:  (0.166870624075161, 0.168689375924839)\n"
     ]
    }
   ],
   "source": [
    "#Part 4 (extended)\n",
    "mean_error=np.mean(mean_absolute_errors_2)\n",
    "stdev_error_2 = np.std(mean_absolute_errors_2)\n",
    "error_interval_2 = t.interval(0.95, 9, loc=mean_error, scale=stdev_error_2)\n",
    "print('Mean Accuracy: ',m_2)\n",
    "print('Mean Error: ',mean_error)\n",
    "print('Std of Error: ',stdev_error_2)\n",
    "print('Error Band: ',error_interval_2)"
   ]
  },
  {
   "cell_type": "markdown",
   "metadata": {},
   "source": [
    "Part 5 - PCA\n",
    "\n",
    "5.1 - In the first part, I will find eigenvalues by using the explained_variance_ component."
   ]
  },
  {
   "cell_type": "code",
   "execution_count": 11,
   "metadata": {},
   "outputs": [
    {
     "name": "stdout",
     "output_type": "stream",
     "text": [
      "[2.27143756e+02 1.96313018e+01 1.39539975e+01 1.14194295e+01\n",
      " 9.34122149e+00 8.64536924e+00 7.82848140e+00 5.95790912e+00\n",
      " 5.50787041e+00 5.07138074e+00 4.69114735e+00 4.61961667e+00\n",
      " 4.03334855e+00 3.90723856e+00 3.46577908e+00 3.09938133e+00\n",
      " 2.70408277e+00 2.60601686e+00 2.48480991e+00 2.33826881e+00\n",
      " 2.26396850e+00 2.11155462e+00 2.04319273e+00 1.95075043e+00\n",
      " 1.85874906e+00 1.74260696e+00 1.69526421e+00 1.68106310e+00\n",
      " 1.62878125e+00 1.57129855e+00 1.54559874e+00 1.53188883e+00\n",
      " 1.48325880e+00 1.46045851e+00 1.41039011e+00 1.38243538e+00\n",
      " 1.36367325e+00 1.33881345e+00 1.29682542e+00 1.26511019e+00\n",
      " 1.22961710e+00 1.19996294e+00 1.17998933e+00 1.15461553e+00\n",
      " 1.14046698e+00 1.13791400e+00 1.10105952e+00 1.07706831e+00\n",
      " 1.05173289e+00 1.04927086e+00 1.03335202e+00 1.00613912e+00\n",
      " 9.97887950e-01 9.87325069e-01 9.76085843e-01 9.49635732e-01\n",
      " 9.41880816e-01 9.25865860e-01 9.09166773e-01 8.99603147e-01\n",
      " 8.84483170e-01 8.70681210e-01 8.67010118e-01 8.61597662e-01\n",
      " 8.42206219e-01 8.28350890e-01 8.21956495e-01 8.01794374e-01\n",
      " 7.85748414e-01 7.79655884e-01 7.73626339e-01 7.70259620e-01\n",
      " 7.64780415e-01 7.52981790e-01 7.39137096e-01 7.22533582e-01\n",
      " 7.16988540e-01 7.09247745e-01 6.98491484e-01 6.92671482e-01\n",
      " 6.88417353e-01 6.79888373e-01 6.79231820e-01 6.60157169e-01\n",
      " 6.56706564e-01 6.47178718e-01 6.41950912e-01 6.37062023e-01\n",
      " 6.33895882e-01 6.26913913e-01 6.19946643e-01 6.16326596e-01\n",
      " 6.11097060e-01 6.09378921e-01 6.03063462e-01 5.90043644e-01\n",
      " 5.81669201e-01 5.80197320e-01 5.77277301e-01 5.67560747e-01\n",
      " 5.59967686e-01 5.58653899e-01 5.52596831e-01 5.51580709e-01\n",
      " 5.49152468e-01 5.42717949e-01 5.38613030e-01 5.33296849e-01\n",
      " 5.27608872e-01 5.21220260e-01 5.16392118e-01 5.14400705e-01\n",
      " 5.06702394e-01 5.04487992e-01 5.02781490e-01 4.96163722e-01\n",
      " 4.90103414e-01 4.85304912e-01 4.81934417e-01 4.79961371e-01\n",
      " 4.75088319e-01 4.73383756e-01 4.68225790e-01 4.62754467e-01\n",
      " 4.60680716e-01 4.59147572e-01 4.54497973e-01 4.52996854e-01\n",
      " 4.49363227e-01 4.47249067e-01 4.45340881e-01 4.41566532e-01\n",
      " 4.37159775e-01 4.35587744e-01 4.30932010e-01 4.29514639e-01\n",
      " 4.25562872e-01 4.24775987e-01 4.18069217e-01 4.16806692e-01\n",
      " 4.15546786e-01 4.12840729e-01 4.07712033e-01 4.06415801e-01\n",
      " 4.01639290e-01 4.00467841e-01 3.97582972e-01 3.92904753e-01\n",
      " 3.91763140e-01 3.88159446e-01 3.85516757e-01 3.82275355e-01\n",
      " 3.79917230e-01 3.77596189e-01 3.75039319e-01 3.73587726e-01\n",
      " 3.72020308e-01 3.67848049e-01 3.66718403e-01 3.63792023e-01\n",
      " 3.61575910e-01 3.59194911e-01 3.57620255e-01 3.55459406e-01\n",
      " 3.52769770e-01 3.48688249e-01 3.47045800e-01 3.44458669e-01\n",
      " 3.40908583e-01 3.39192169e-01 3.38097571e-01 3.36857342e-01\n",
      " 3.33651005e-01 3.33184748e-01 3.31616494e-01 3.29136224e-01\n",
      " 3.27668999e-01 3.25366300e-01 3.22993403e-01 3.19247043e-01\n",
      " 3.17420481e-01 3.14114667e-01 3.13997947e-01 3.11838747e-01\n",
      " 3.10978945e-01 3.10264741e-01 3.08511059e-01 3.06393886e-01\n",
      " 3.03673451e-01 3.01552788e-01 3.01254139e-01 3.00477287e-01\n",
      " 2.98599744e-01 2.96546054e-01 2.95301111e-01 2.94696808e-01\n",
      " 2.92144266e-01 2.90994017e-01 2.89531070e-01 2.86772651e-01\n",
      " 2.86396208e-01 2.85028622e-01 2.83756938e-01 2.81862555e-01\n",
      " 2.79776730e-01 2.78583169e-01 2.77311197e-01 2.76800579e-01\n",
      " 2.75819205e-01 2.73523265e-01 2.72959326e-01 2.70528410e-01\n",
      " 2.69525840e-01 2.68210401e-01 2.67399889e-01 2.65905066e-01\n",
      " 2.64553726e-01 2.62198520e-01 2.60828833e-01 2.60210908e-01\n",
      " 2.58630687e-01 2.57586850e-01 2.56499644e-01 2.55392300e-01\n",
      " 2.54265205e-01 2.53334707e-01 2.51258564e-01 2.50541081e-01\n",
      " 2.49739467e-01 2.46941048e-01 2.46631249e-01 2.45844763e-01\n",
      " 2.44708390e-01 2.43377684e-01 2.42611309e-01 2.40518468e-01\n",
      " 2.38370357e-01 2.37202415e-01 2.36081812e-01 2.35239607e-01\n",
      " 2.34814600e-01 2.33975962e-01 2.32619718e-01 2.31685031e-01\n",
      " 2.30792638e-01 2.29211568e-01 2.28398472e-01 2.27445369e-01\n",
      " 2.26724865e-01 2.25388769e-01 2.24446814e-01 2.23095223e-01\n",
      " 2.22539985e-01 2.21396223e-01 2.20247929e-01 2.19630216e-01\n",
      " 2.18069955e-01 2.16243233e-01 2.15735198e-01 2.15177413e-01\n",
      " 2.14989515e-01 2.13357393e-01 2.12529857e-01 2.11899642e-01\n",
      " 2.10782479e-01 2.09242770e-01 2.08384822e-01 2.07879913e-01\n",
      " 2.06746395e-01 2.06487131e-01 2.06228045e-01 2.04833297e-01\n",
      " 2.04705596e-01 2.03530994e-01 2.02711360e-01 2.01244059e-01\n",
      " 2.00349036e-01 1.99854495e-01 1.99685163e-01 1.98402443e-01\n",
      " 1.97149659e-01 1.96503884e-01 1.95729041e-01 1.95048771e-01\n",
      " 1.94614810e-01 1.94203441e-01 1.93270182e-01 1.92466047e-01\n",
      " 1.91816058e-01 1.89990446e-01 1.89759329e-01 1.88790100e-01\n",
      " 1.88545272e-01 1.87733050e-01 1.86394618e-01 1.85937235e-01\n",
      " 1.85027072e-01 1.84504502e-01 1.83659129e-01 1.82665612e-01\n",
      " 1.81816466e-01 1.80923094e-01 1.80807143e-01 1.79172371e-01\n",
      " 1.78979963e-01 1.78507973e-01 1.77906806e-01 1.77018822e-01\n",
      " 1.76227561e-01 1.75838781e-01 1.75541946e-01 1.74731493e-01\n",
      " 1.74065545e-01 1.73067818e-01 1.72822914e-01 1.72143872e-01\n",
      " 1.71467062e-01 1.70835825e-01 1.70335204e-01 1.69925343e-01\n",
      " 1.68726309e-01 1.68275117e-01 1.67339127e-01 1.66597864e-01\n",
      " 1.66152922e-01 1.65061477e-01 1.63956858e-01 1.63607382e-01\n",
      " 1.63218837e-01 1.62435255e-01 1.62033459e-01 1.61570294e-01\n",
      " 1.60926279e-01 1.60246202e-01 1.59546281e-01 1.59407345e-01\n",
      " 1.58742392e-01 1.57736542e-01 1.57125587e-01 1.56510307e-01\n",
      " 1.56061085e-01 1.55627366e-01 1.55281589e-01 1.54725225e-01\n",
      " 1.54138145e-01 1.54004026e-01 1.53111192e-01 1.52813306e-01\n",
      " 1.52709707e-01 1.51960721e-01 1.51395211e-01 1.50675826e-01\n",
      " 1.50240701e-01 1.49849252e-01 1.49220418e-01 1.48612703e-01\n",
      " 1.47770409e-01 1.47215740e-01 1.46874739e-01 1.46073789e-01\n",
      " 1.45652850e-01 1.45034301e-01 1.44437898e-01 1.44108932e-01\n",
      " 1.43853990e-01 1.43236736e-01 1.42762815e-01 1.42241074e-01\n",
      " 1.41614396e-01 1.41447779e-01 1.40956658e-01 1.40597500e-01\n",
      " 1.39632977e-01 1.39309913e-01 1.39124156e-01 1.38394021e-01\n",
      " 1.38080182e-01 1.37566893e-01 1.36928766e-01 1.36021583e-01\n",
      " 1.35365418e-01 1.35001694e-01 1.34518701e-01 1.34142552e-01\n",
      " 1.33906153e-01 1.33642955e-01 1.33257210e-01 1.32924061e-01\n",
      " 1.32335782e-01 1.32074716e-01 1.31899300e-01 1.31137480e-01\n",
      " 1.30925645e-01 1.30304697e-01 1.29909159e-01 1.29275030e-01\n",
      " 1.29165429e-01 1.28901527e-01 1.28139436e-01 1.27689858e-01\n",
      " 1.27392187e-01 1.27171280e-01 1.26663816e-01 1.26165748e-01\n",
      " 1.25628634e-01 1.25566296e-01 1.24761496e-01 1.24128086e-01\n",
      " 1.23893734e-01 1.23449876e-01 1.23173158e-01 1.22662259e-01\n",
      " 1.22402146e-01 1.22226997e-01 1.21662122e-01 1.21194321e-01\n",
      " 1.20849930e-01 1.20460228e-01 1.20196377e-01 1.19683969e-01\n",
      " 1.19366343e-01 1.19134144e-01 1.18502061e-01 1.18281990e-01\n",
      " 1.18055675e-01 1.17505436e-01 1.17394535e-01 1.16817963e-01\n",
      " 1.16364342e-01 1.15958825e-01 1.15683741e-01 1.14868923e-01\n",
      " 1.14723693e-01 1.14522692e-01 1.13911354e-01 1.13610614e-01\n",
      " 1.13252037e-01 1.12541039e-01 1.12363082e-01 1.12208874e-01\n",
      " 1.12131633e-01 1.11384001e-01 1.11200579e-01 1.10611587e-01\n",
      " 1.10489074e-01 1.09730015e-01 1.09679173e-01 1.09352059e-01\n",
      " 1.08886848e-01 1.08515108e-01 1.07970922e-01 1.07942536e-01\n",
      " 1.07535226e-01 1.06918933e-01 1.06797561e-01 1.06751838e-01\n",
      " 1.06176015e-01 1.05858016e-01 1.05265827e-01 1.05045967e-01\n",
      " 1.04798154e-01 1.04615471e-01 1.04200474e-01 1.03816740e-01\n",
      " 1.03634123e-01 1.03268751e-01 1.03151062e-01 1.02662890e-01\n",
      " 1.02397008e-01 1.01854499e-01 1.01765027e-01 1.01123954e-01\n",
      " 1.00937452e-01 1.00570474e-01 1.00243963e-01 1.00205827e-01\n",
      " 1.00081576e-01 9.99248818e-02 9.94288517e-02 9.89922751e-02\n",
      " 9.87454264e-02 9.79769442e-02 9.78448805e-02 9.76561392e-02\n",
      " 9.70553727e-02 9.65132028e-02 9.64699153e-02 9.62451017e-02\n",
      " 9.59096893e-02 9.58093586e-02 9.56451275e-02 9.52071205e-02\n",
      " 9.47936799e-02 9.46729110e-02 9.45065435e-02 9.42484025e-02\n",
      " 9.37116465e-02 9.33435301e-02 9.30197793e-02 9.29266357e-02\n",
      " 9.26027793e-02 9.24200354e-02 9.21595015e-02 9.19898301e-02\n",
      " 9.15147592e-02 9.13297261e-02 9.08211654e-02 9.04269648e-02\n",
      " 8.99039427e-02 8.97517567e-02 8.96270465e-02 8.91924741e-02\n",
      " 8.90322577e-02 8.88788841e-02 8.84659063e-02 8.83180110e-02\n",
      " 8.78057851e-02 8.77121262e-02 8.69699314e-02 8.69011527e-02\n",
      " 8.67306973e-02 8.66994989e-02 8.63493714e-02 8.62474086e-02\n",
      " 8.57267778e-02 8.56199471e-02 8.53138413e-02 8.50281539e-02\n",
      " 8.49477368e-02 8.44929946e-02 8.42144680e-02 8.39418747e-02\n",
      " 8.37681775e-02 8.36624167e-02 8.35263027e-02 8.32082936e-02\n",
      " 8.29988091e-02 8.28501173e-02 8.25763614e-02 8.24292209e-02\n",
      " 8.19299421e-02 8.14544806e-02 8.10993524e-02 8.08734155e-02\n",
      " 8.08344867e-02 8.07214031e-02 8.06234216e-02 8.05374774e-02\n",
      " 8.03197673e-02 8.01769991e-02 8.00632476e-02 7.95660670e-02\n",
      " 7.94595347e-02 7.91364829e-02 7.88009286e-02 7.84731419e-02\n",
      " 7.83986195e-02 7.81124143e-02 7.78794263e-02 7.77340256e-02\n",
      " 7.75252527e-02 7.74006286e-02 7.69213147e-02 7.68223366e-02\n",
      " 7.64631349e-02 7.63565665e-02 7.60170482e-02 7.57294117e-02\n",
      " 7.55730442e-02 7.54070945e-02 7.49569337e-02 7.46580412e-02\n",
      " 7.43195619e-02 7.42714996e-02 7.41796478e-02 7.39466321e-02\n",
      " 7.36370841e-02 7.33885567e-02 7.30886363e-02 7.30146107e-02\n",
      " 7.26398843e-02 7.23843487e-02 7.22338586e-02 7.19568556e-02\n",
      " 7.17804414e-02 7.15236700e-02 7.14339863e-02 7.12684359e-02\n",
      " 7.10174750e-02 7.09190683e-02 7.06257336e-02 7.05435637e-02\n",
      " 7.01689318e-02 7.00848852e-02 6.99489267e-02 6.97621761e-02\n",
      " 6.94992626e-02 6.94721056e-02 6.91408507e-02 6.90756919e-02\n",
      " 6.87351919e-02 6.85238859e-02 6.83781884e-02 6.81280055e-02\n",
      " 6.77598661e-02 6.75882541e-02 6.75162202e-02 6.72889292e-02\n",
      " 6.71582342e-02 6.69043019e-02 6.68933621e-02 6.66422092e-02\n",
      " 6.65361078e-02 6.62399831e-02 6.58801632e-02 6.55797312e-02\n",
      " 6.54984070e-02 6.53490423e-02 6.51323814e-02 6.50171057e-02\n",
      " 6.49212495e-02 6.47158939e-02 6.44067025e-02 6.42215310e-02\n",
      " 6.41234357e-02 6.39644879e-02 6.36985451e-02 6.35205958e-02\n",
      " 6.33623128e-02 6.29772715e-02 6.28102989e-02 6.26007200e-02\n",
      " 6.25867057e-02 6.23266170e-02 6.21494847e-02 6.19574851e-02\n",
      " 6.18402650e-02 6.15183645e-02 6.14415568e-02 6.12274144e-02\n",
      " 6.10195477e-02 6.07792693e-02 6.05326377e-02 6.04314472e-02\n",
      " 6.03201659e-02 6.01644699e-02 6.00093765e-02 5.97156550e-02\n",
      " 5.96233069e-02 5.94294524e-02 5.93378342e-02 5.92037610e-02\n",
      " 5.90532948e-02 5.87674037e-02 5.86951767e-02 5.83040182e-02\n",
      " 5.80873015e-02 5.80427038e-02 5.79525489e-02 5.77488565e-02\n",
      " 5.76386744e-02 5.74800609e-02 5.73132646e-02 5.69931614e-02\n",
      " 5.69658385e-02 5.69641315e-02 5.66036607e-02 5.64261791e-02\n",
      " 5.61489051e-02 5.60554289e-02 5.56653011e-02 5.56333525e-02\n",
      " 5.54391411e-02 5.53498183e-02 5.52374665e-02 5.50394465e-02\n",
      " 5.49821859e-02 5.48846703e-02 5.47431009e-02 5.46127079e-02\n",
      " 5.45445021e-02 5.44874451e-02 5.41569090e-02 5.40157339e-02\n",
      " 5.37527606e-02 5.36389800e-02 5.33473222e-02 5.33140415e-02\n",
      " 5.30722981e-02 5.28981579e-02 5.28277863e-02 5.27030553e-02\n",
      " 5.25164589e-02 5.24174099e-02 5.23550978e-02 5.21244212e-02\n",
      " 5.20453718e-02 5.16644543e-02 5.16153158e-02 5.14588381e-02\n",
      " 5.12842824e-02 5.11105887e-02 5.10005205e-02 5.07587005e-02\n",
      " 5.06131434e-02 5.04818725e-02 5.03410832e-02 5.02832009e-02\n",
      " 5.01709112e-02 5.00131764e-02 4.99803829e-02 4.97767352e-02\n",
      " 4.96226805e-02 4.94804352e-02 4.94292308e-02 4.92372870e-02\n",
      " 4.90955788e-02 4.89671602e-02 4.87465731e-02 4.85441976e-02\n",
      " 4.84983457e-02 4.83379667e-02 4.82290728e-02 4.81513340e-02\n",
      " 4.79693109e-02 4.76954437e-02 4.76057990e-02 4.74727204e-02\n",
      " 4.74170989e-02 4.71616090e-02 4.70167240e-02 4.68928803e-02\n",
      " 4.67450355e-02 4.66591049e-02 4.64495942e-02 4.64306052e-02\n",
      " 4.63311022e-02 4.62615761e-02 4.61553352e-02 4.59810865e-02\n",
      " 4.58793132e-02 4.58219129e-02 4.55106652e-02 4.54457347e-02\n",
      " 4.53868964e-02 4.52528070e-02 4.52181905e-02 4.49527238e-02\n",
      " 4.46941103e-02 4.43959592e-02 4.43183004e-02 4.42730739e-02\n",
      " 4.40990449e-02 4.40495044e-02 4.39377498e-02 4.37489779e-02\n",
      " 4.35246517e-02 4.34888808e-02 4.33529105e-02 4.31912414e-02\n",
      " 4.30263597e-02 4.28972044e-02 4.27433056e-02 4.26730271e-02\n",
      " 4.26011038e-02 4.25816514e-02 4.23144785e-02 4.21934174e-02\n",
      " 4.20720356e-02 4.19387230e-02 4.17403793e-02 4.15751884e-02\n",
      " 4.14604975e-02 4.13780458e-02 4.12039840e-02 4.10587109e-02\n",
      " 4.09618076e-02 4.08937461e-02 4.06244619e-02 4.05345728e-02\n",
      " 4.03356371e-02 4.02058280e-02 4.00706444e-02 3.97689479e-02\n",
      " 3.97120553e-02 3.95507577e-02 3.94490463e-02 3.94009240e-02\n",
      " 3.93150395e-02 3.91498196e-02 3.90569759e-02 3.89756267e-02\n",
      " 3.89267219e-02 3.88301643e-02 3.87015033e-02 3.86200123e-02\n",
      " 3.84215177e-02 3.82686059e-02 3.81116753e-02 3.80693249e-02\n",
      " 3.78314287e-02 3.77688621e-02 3.76190531e-02 3.74574375e-02\n",
      " 3.73442939e-02 3.72641995e-02 3.71426062e-02 3.70333511e-02\n",
      " 3.68728683e-02 3.68290432e-02 3.66414364e-02 3.65777780e-02\n",
      " 3.64613309e-02 3.63875414e-02 3.62682229e-02 3.61802294e-02\n",
      " 3.61323003e-02 3.59736544e-02 3.58348102e-02 3.57472831e-02\n",
      " 3.54130687e-02 3.53069110e-02 3.52814736e-02 3.51590282e-02\n",
      " 3.50998401e-02 3.50616535e-02 3.48118533e-02 3.46562281e-02\n",
      " 3.45349688e-02 3.43879827e-02 3.43392370e-02 3.42175842e-02\n",
      " 3.39342242e-02 3.37894699e-02 3.36929520e-02 3.36367927e-02\n",
      " 3.35454462e-02 3.34518265e-02 3.33333211e-02 3.32024336e-02\n",
      " 3.30316220e-02 3.29289051e-02 3.27814361e-02 3.26418124e-02\n",
      " 3.25885331e-02 3.24449417e-02 3.23815138e-02 3.22015975e-02\n",
      " 3.20840295e-02 3.19481256e-02 3.18816470e-02 3.17471905e-02\n",
      " 3.16990712e-02 3.14329215e-02 3.13288946e-02 3.12436701e-02\n",
      " 3.11025580e-02 3.09926092e-02 3.08984050e-02 3.08194199e-02\n",
      " 3.07510748e-02 3.05721169e-02 3.05451827e-02 3.04406479e-02\n",
      " 3.03090493e-02 3.01724848e-02 2.99964735e-02 2.99609701e-02\n",
      " 2.97704551e-02 2.97093758e-02 2.95328495e-02 2.92565699e-02\n",
      " 2.91771556e-02 2.91068848e-02 2.90315764e-02 2.89651840e-02\n",
      " 2.86824863e-02 2.86148482e-02 2.85539800e-02 2.84549029e-02\n",
      " 2.83755431e-02 2.82821927e-02 2.81106565e-02 2.78662797e-02\n",
      " 2.78504136e-02 2.77538310e-02 2.77165398e-02 2.74288925e-02\n",
      " 2.72949576e-02 2.70988963e-02 2.70165965e-02 2.67782020e-02\n",
      " 2.66586610e-02 2.66091944e-02 2.64712922e-02 2.63202750e-02\n",
      " 2.61988546e-02 2.60466671e-02 2.58562318e-02 2.57749423e-02\n",
      " 2.57353854e-02 2.56107439e-02 2.54608517e-02 2.53239345e-02\n",
      " 2.52851099e-02 2.49586295e-02 2.48396206e-02 2.46672244e-02\n",
      " 2.45586207e-02 2.44220937e-02 2.43534025e-02 2.42461290e-02\n",
      " 2.40392424e-02 2.37563354e-02 2.37342499e-02 2.35632155e-02\n",
      " 2.33390829e-02 2.32483226e-02 2.31649390e-02 2.28616863e-02\n",
      " 2.26810322e-02 2.25947593e-02 2.25353649e-02 2.23823400e-02\n",
      " 2.21337605e-02 2.20585514e-02 2.18925734e-02 2.16930243e-02\n",
      " 2.16167581e-02 2.13752841e-02 2.12738912e-02 2.10607321e-02\n",
      " 2.07995590e-02 2.06160401e-02 2.05849967e-02 2.04570318e-02\n",
      " 2.03338710e-02 2.01486817e-02 1.98464720e-02 1.97362485e-02\n",
      " 1.96570594e-02 1.94324581e-02 1.93550592e-02 1.89896787e-02\n",
      " 1.88900774e-02 1.88349936e-02 1.86808446e-02 1.85567591e-02\n",
      " 1.83858017e-02 1.82746695e-02 1.81475192e-02 1.79603646e-02\n",
      " 1.77970599e-02 1.75760813e-02 1.75051721e-02 1.72477399e-02\n",
      " 1.71805922e-02 1.68946809e-02 1.66268369e-02 1.65743228e-02\n",
      " 1.64747113e-02 1.62349191e-02 1.59838277e-02 1.57417421e-02\n",
      " 1.56545634e-02 1.56143701e-02 1.53254756e-02 1.50490788e-02\n",
      " 1.49767038e-02 1.45832818e-02 1.44018034e-02 1.41761492e-02\n",
      " 1.39796509e-02 1.36943827e-02 1.33846269e-02 1.30959334e-02\n",
      " 1.29348987e-02 1.26996022e-02 1.25996608e-02 1.23825318e-02\n",
      " 1.22533142e-02 1.19569370e-02 1.18642616e-02 1.16749789e-02\n",
      " 1.16168464e-02 1.12572688e-02 1.10972693e-02 1.05900878e-02\n",
      " 1.04905708e-02 1.02148688e-02 9.95504836e-03 9.65637372e-03\n",
      " 9.25934847e-03 8.94521403e-03 8.52078689e-03 8.38608906e-03\n",
      " 7.82678589e-03 7.45547169e-03 4.74639524e-03 2.14295061e-28]\n"
     ]
    }
   ],
   "source": [
    "#5.1\n",
    "\n",
    "xns = sample(xn,500)\n",
    "xps = sample(xp,500)\n",
    "\n",
    "x = xns + xps\n",
    "y = [0]*500 + [1]*500\n",
    "\n",
    "\n",
    "model = PCA()\n",
    "model.fit(x) \n",
    "\n",
    "print(model.explained_variance_) #eigenvalues\n"
   ]
  },
  {
   "cell_type": "markdown",
   "metadata": {},
   "source": [
    "#Part 5.2\n",
    "I found the number of attributes that covers the 90% of the variation in two ways:"
   ]
  },
  {
   "cell_type": "code",
   "execution_count": 12,
   "metadata": {},
   "outputs": [
    {
     "name": "stdout",
     "output_type": "stream",
     "text": [
      "276\n"
     ]
    }
   ],
   "source": [
    "#5.2\n",
    "count = 0\n",
    "vr = 0\n",
    "i = 0\n",
    "a=model.explained_variance_ratio_\n",
    "\n",
    "while vr < 0.9:\n",
    "    vr += a[i]\n",
    "    count += 1\n",
    "    i += 1\n",
    "\n",
    "print(count)\n"
   ]
  },
  {
   "cell_type": "code",
   "execution_count": 13,
   "metadata": {},
   "outputs": [
    {
     "data": {
      "text/plain": [
       "276"
      ]
     },
     "execution_count": 13,
     "metadata": {},
     "output_type": "execute_result"
    }
   ],
   "source": [
    "pca = PCA(0.9)\n",
    "pca.fit(x)\n",
    "pca.n_components_"
   ]
  },
  {
   "cell_type": "code",
   "execution_count": 14,
   "metadata": {},
   "outputs": [],
   "source": [
    "pca = PCA(0.9)\n",
    "transformed = pca.fit_transform(x)\n"
   ]
  },
  {
   "cell_type": "code",
   "execution_count": 15,
   "metadata": {},
   "outputs": [
    {
     "data": {
      "text/plain": [
       "<matplotlib.collections.PathCollection at 0x7faa4de61c40>"
      ]
     },
     "execution_count": 15,
     "metadata": {},
     "output_type": "execute_result"
    },
    {
     "data": {
      "image/png": "[encoded data removed]",
      "text/plain": [
       "<Figure size 432x288 with 1 Axes>"
      ]
     },
     "metadata": {
      "needs_background": "light"
     },
     "output_type": "display_data"
    }
   ],
   "source": [
    "plt.scatter(transformed[:,0],np.zeros(len(transformed)),c=y)\n",
    "#plt.scatter(transformed[:,0],np.zeros(len(transformed)),c=y)\n"
   ]
  },
  {
   "cell_type": "code",
   "execution_count": 16,
   "metadata": {},
   "outputs": [
    {
     "name": "stderr",
     "output_type": "stream",
     "text": [
      "/Users/burak.cakan/opt/anaconda3/lib/python3.8/site-packages/sklearn/svm/_base.py:985: ConvergenceWarning: Liblinear failed to converge, increase the number of iterations.\n",
      "  warnings.warn(\"Liblinear failed to converge, increase \"\n",
      "/Users/burak.cakan/opt/anaconda3/lib/python3.8/site-packages/sklearn/svm/_base.py:985: ConvergenceWarning: Liblinear failed to converge, increase the number of iterations.\n",
      "  warnings.warn(\"Liblinear failed to converge, increase \"\n",
      "/Users/burak.cakan/opt/anaconda3/lib/python3.8/site-packages/sklearn/svm/_base.py:985: ConvergenceWarning: Liblinear failed to converge, increase the number of iterations.\n",
      "  warnings.warn(\"Liblinear failed to converge, increase \"\n",
      "/Users/burak.cakan/opt/anaconda3/lib/python3.8/site-packages/sklearn/svm/_base.py:985: ConvergenceWarning: Liblinear failed to converge, increase the number of iterations.\n",
      "  warnings.warn(\"Liblinear failed to converge, increase \"\n",
      "/Users/burak.cakan/opt/anaconda3/lib/python3.8/site-packages/sklearn/svm/_base.py:985: ConvergenceWarning: Liblinear failed to converge, increase the number of iterations.\n",
      "  warnings.warn(\"Liblinear failed to converge, increase \"\n",
      "/Users/burak.cakan/opt/anaconda3/lib/python3.8/site-packages/sklearn/svm/_base.py:985: ConvergenceWarning: Liblinear failed to converge, increase the number of iterations.\n",
      "  warnings.warn(\"Liblinear failed to converge, increase \"\n",
      "/Users/burak.cakan/opt/anaconda3/lib/python3.8/site-packages/sklearn/svm/_base.py:985: ConvergenceWarning: Liblinear failed to converge, increase the number of iterations.\n",
      "  warnings.warn(\"Liblinear failed to converge, increase \"\n",
      "/Users/burak.cakan/opt/anaconda3/lib/python3.8/site-packages/sklearn/svm/_base.py:985: ConvergenceWarning: Liblinear failed to converge, increase the number of iterations.\n",
      "  warnings.warn(\"Liblinear failed to converge, increase \"\n",
      "/Users/burak.cakan/opt/anaconda3/lib/python3.8/site-packages/sklearn/svm/_base.py:985: ConvergenceWarning: Liblinear failed to converge, increase the number of iterations.\n",
      "  warnings.warn(\"Liblinear failed to converge, increase \"\n",
      "/Users/burak.cakan/opt/anaconda3/lib/python3.8/site-packages/sklearn/svm/_base.py:985: ConvergenceWarning: Liblinear failed to converge, increase the number of iterations.\n",
      "  warnings.warn(\"Liblinear failed to converge, increase \"\n",
      "/Users/burak.cakan/opt/anaconda3/lib/python3.8/site-packages/sklearn/svm/_base.py:985: ConvergenceWarning: Liblinear failed to converge, increase the number of iterations.\n",
      "  warnings.warn(\"Liblinear failed to converge, increase \"\n",
      "/Users/burak.cakan/opt/anaconda3/lib/python3.8/site-packages/sklearn/svm/_base.py:985: ConvergenceWarning: Liblinear failed to converge, increase the number of iterations.\n",
      "  warnings.warn(\"Liblinear failed to converge, increase \"\n",
      "/Users/burak.cakan/opt/anaconda3/lib/python3.8/site-packages/sklearn/svm/_base.py:985: ConvergenceWarning: Liblinear failed to converge, increase the number of iterations.\n",
      "  warnings.warn(\"Liblinear failed to converge, increase \"\n",
      "/Users/burak.cakan/opt/anaconda3/lib/python3.8/site-packages/sklearn/svm/_base.py:985: ConvergenceWarning: Liblinear failed to converge, increase the number of iterations.\n",
      "  warnings.warn(\"Liblinear failed to converge, increase \"\n",
      "/Users/burak.cakan/opt/anaconda3/lib/python3.8/site-packages/sklearn/svm/_base.py:985: ConvergenceWarning: Liblinear failed to converge, increase the number of iterations.\n",
      "  warnings.warn(\"Liblinear failed to converge, increase \"\n",
      "/Users/burak.cakan/opt/anaconda3/lib/python3.8/site-packages/sklearn/svm/_base.py:985: ConvergenceWarning: Liblinear failed to converge, increase the number of iterations.\n",
      "  warnings.warn(\"Liblinear failed to converge, increase \"\n",
      "/Users/burak.cakan/opt/anaconda3/lib/python3.8/site-packages/sklearn/svm/_base.py:985: ConvergenceWarning: Liblinear failed to converge, increase the number of iterations.\n",
      "  warnings.warn(\"Liblinear failed to converge, increase \"\n",
      "/Users/burak.cakan/opt/anaconda3/lib/python3.8/site-packages/sklearn/svm/_base.py:985: ConvergenceWarning: Liblinear failed to converge, increase the number of iterations.\n",
      "  warnings.warn(\"Liblinear failed to converge, increase \"\n",
      "/Users/burak.cakan/opt/anaconda3/lib/python3.8/site-packages/sklearn/svm/_base.py:985: ConvergenceWarning: Liblinear failed to converge, increase the number of iterations.\n",
      "  warnings.warn(\"Liblinear failed to converge, increase \"\n",
      "/Users/burak.cakan/opt/anaconda3/lib/python3.8/site-packages/sklearn/svm/_base.py:985: ConvergenceWarning: Liblinear failed to converge, increase the number of iterations.\n",
      "  warnings.warn(\"Liblinear failed to converge, increase \"\n",
      "/Users/burak.cakan/opt/anaconda3/lib/python3.8/site-packages/sklearn/svm/_base.py:985: ConvergenceWarning: Liblinear failed to converge, increase the number of iterations.\n",
      "  warnings.warn(\"Liblinear failed to converge, increase \"\n",
      "/Users/burak.cakan/opt/anaconda3/lib/python3.8/site-packages/sklearn/svm/_base.py:985: ConvergenceWarning: Liblinear failed to converge, increase the number of iterations.\n",
      "  warnings.warn(\"Liblinear failed to converge, increase \"\n",
      "/Users/burak.cakan/opt/anaconda3/lib/python3.8/site-packages/sklearn/svm/_base.py:985: ConvergenceWarning: Liblinear failed to converge, increase the number of iterations.\n",
      "  warnings.warn(\"Liblinear failed to converge, increase \"\n",
      "/Users/burak.cakan/opt/anaconda3/lib/python3.8/site-packages/sklearn/svm/_base.py:985: ConvergenceWarning: Liblinear failed to converge, increase the number of iterations.\n",
      "  warnings.warn(\"Liblinear failed to converge, increase \"\n",
      "/Users/burak.cakan/opt/anaconda3/lib/python3.8/site-packages/sklearn/svm/_base.py:985: ConvergenceWarning: Liblinear failed to converge, increase the number of iterations.\n",
      "  warnings.warn(\"Liblinear failed to converge, increase \"\n",
      "/Users/burak.cakan/opt/anaconda3/lib/python3.8/site-packages/sklearn/svm/_base.py:985: ConvergenceWarning: Liblinear failed to converge, increase the number of iterations.\n",
      "  warnings.warn(\"Liblinear failed to converge, increase \"\n",
      "/Users/burak.cakan/opt/anaconda3/lib/python3.8/site-packages/sklearn/svm/_base.py:985: ConvergenceWarning: Liblinear failed to converge, increase the number of iterations.\n",
      "  warnings.warn(\"Liblinear failed to converge, increase \"\n",
      "/Users/burak.cakan/opt/anaconda3/lib/python3.8/site-packages/sklearn/svm/_base.py:985: ConvergenceWarning: Liblinear failed to converge, increase the number of iterations.\n",
      "  warnings.warn(\"Liblinear failed to converge, increase \"\n",
      "/Users/burak.cakan/opt/anaconda3/lib/python3.8/site-packages/sklearn/svm/_base.py:985: ConvergenceWarning: Liblinear failed to converge, increase the number of iterations.\n",
      "  warnings.warn(\"Liblinear failed to converge, increase \"\n",
      "/Users/burak.cakan/opt/anaconda3/lib/python3.8/site-packages/sklearn/svm/_base.py:985: ConvergenceWarning: Liblinear failed to converge, increase the number of iterations.\n",
      "  warnings.warn(\"Liblinear failed to converge, increase \"\n",
      "/Users/burak.cakan/opt/anaconda3/lib/python3.8/site-packages/sklearn/svm/_base.py:985: ConvergenceWarning: Liblinear failed to converge, increase the number of iterations.\n",
      "  warnings.warn(\"Liblinear failed to converge, increase \"\n",
      "/Users/burak.cakan/opt/anaconda3/lib/python3.8/site-packages/sklearn/svm/_base.py:985: ConvergenceWarning: Liblinear failed to converge, increase the number of iterations.\n",
      "  warnings.warn(\"Liblinear failed to converge, increase \"\n",
      "/Users/burak.cakan/opt/anaconda3/lib/python3.8/site-packages/sklearn/svm/_base.py:985: ConvergenceWarning: Liblinear failed to converge, increase the number of iterations.\n",
      "  warnings.warn(\"Liblinear failed to converge, increase \"\n",
      "/Users/burak.cakan/opt/anaconda3/lib/python3.8/site-packages/sklearn/svm/_base.py:985: ConvergenceWarning: Liblinear failed to converge, increase the number of iterations.\n",
      "  warnings.warn(\"Liblinear failed to converge, increase \"\n",
      "/Users/burak.cakan/opt/anaconda3/lib/python3.8/site-packages/sklearn/svm/_base.py:985: ConvergenceWarning: Liblinear failed to converge, increase the number of iterations.\n",
      "  warnings.warn(\"Liblinear failed to converge, increase \"\n",
      "/Users/burak.cakan/opt/anaconda3/lib/python3.8/site-packages/sklearn/svm/_base.py:985: ConvergenceWarning: Liblinear failed to converge, increase the number of iterations.\n",
      "  warnings.warn(\"Liblinear failed to converge, increase \"\n"
     ]
    },
    {
     "name": "stderr",
     "output_type": "stream",
     "text": [
      "/Users/burak.cakan/opt/anaconda3/lib/python3.8/site-packages/sklearn/svm/_base.py:985: ConvergenceWarning: Liblinear failed to converge, increase the number of iterations.\n",
      "  warnings.warn(\"Liblinear failed to converge, increase \"\n",
      "/Users/burak.cakan/opt/anaconda3/lib/python3.8/site-packages/sklearn/svm/_base.py:985: ConvergenceWarning: Liblinear failed to converge, increase the number of iterations.\n",
      "  warnings.warn(\"Liblinear failed to converge, increase \"\n",
      "/Users/burak.cakan/opt/anaconda3/lib/python3.8/site-packages/sklearn/svm/_base.py:985: ConvergenceWarning: Liblinear failed to converge, increase the number of iterations.\n",
      "  warnings.warn(\"Liblinear failed to converge, increase \"\n",
      "/Users/burak.cakan/opt/anaconda3/lib/python3.8/site-packages/sklearn/svm/_base.py:985: ConvergenceWarning: Liblinear failed to converge, increase the number of iterations.\n",
      "  warnings.warn(\"Liblinear failed to converge, increase \"\n",
      "/Users/burak.cakan/opt/anaconda3/lib/python3.8/site-packages/sklearn/svm/_base.py:985: ConvergenceWarning: Liblinear failed to converge, increase the number of iterations.\n",
      "  warnings.warn(\"Liblinear failed to converge, increase \"\n",
      "/Users/burak.cakan/opt/anaconda3/lib/python3.8/site-packages/sklearn/svm/_base.py:985: ConvergenceWarning: Liblinear failed to converge, increase the number of iterations.\n",
      "  warnings.warn(\"Liblinear failed to converge, increase \"\n",
      "/Users/burak.cakan/opt/anaconda3/lib/python3.8/site-packages/sklearn/svm/_base.py:985: ConvergenceWarning: Liblinear failed to converge, increase the number of iterations.\n",
      "  warnings.warn(\"Liblinear failed to converge, increase \"\n",
      "/Users/burak.cakan/opt/anaconda3/lib/python3.8/site-packages/sklearn/svm/_base.py:985: ConvergenceWarning: Liblinear failed to converge, increase the number of iterations.\n",
      "  warnings.warn(\"Liblinear failed to converge, increase \"\n",
      "/Users/burak.cakan/opt/anaconda3/lib/python3.8/site-packages/sklearn/svm/_base.py:985: ConvergenceWarning: Liblinear failed to converge, increase the number of iterations.\n",
      "  warnings.warn(\"Liblinear failed to converge, increase \"\n",
      "/Users/burak.cakan/opt/anaconda3/lib/python3.8/site-packages/sklearn/svm/_base.py:985: ConvergenceWarning: Liblinear failed to converge, increase the number of iterations.\n",
      "  warnings.warn(\"Liblinear failed to converge, increase \"\n",
      "/Users/burak.cakan/opt/anaconda3/lib/python3.8/site-packages/sklearn/svm/_base.py:985: ConvergenceWarning: Liblinear failed to converge, increase the number of iterations.\n",
      "  warnings.warn(\"Liblinear failed to converge, increase \"\n",
      "/Users/burak.cakan/opt/anaconda3/lib/python3.8/site-packages/sklearn/svm/_base.py:985: ConvergenceWarning: Liblinear failed to converge, increase the number of iterations.\n",
      "  warnings.warn(\"Liblinear failed to converge, increase \"\n",
      "/Users/burak.cakan/opt/anaconda3/lib/python3.8/site-packages/sklearn/svm/_base.py:985: ConvergenceWarning: Liblinear failed to converge, increase the number of iterations.\n",
      "  warnings.warn(\"Liblinear failed to converge, increase \"\n",
      "/Users/burak.cakan/opt/anaconda3/lib/python3.8/site-packages/sklearn/svm/_base.py:985: ConvergenceWarning: Liblinear failed to converge, increase the number of iterations.\n",
      "  warnings.warn(\"Liblinear failed to converge, increase \"\n",
      "/Users/burak.cakan/opt/anaconda3/lib/python3.8/site-packages/sklearn/svm/_base.py:985: ConvergenceWarning: Liblinear failed to converge, increase the number of iterations.\n",
      "  warnings.warn(\"Liblinear failed to converge, increase \"\n",
      "/Users/burak.cakan/opt/anaconda3/lib/python3.8/site-packages/sklearn/svm/_base.py:985: ConvergenceWarning: Liblinear failed to converge, increase the number of iterations.\n",
      "  warnings.warn(\"Liblinear failed to converge, increase \"\n",
      "/Users/burak.cakan/opt/anaconda3/lib/python3.8/site-packages/sklearn/svm/_base.py:985: ConvergenceWarning: Liblinear failed to converge, increase the number of iterations.\n",
      "  warnings.warn(\"Liblinear failed to converge, increase \"\n",
      "/Users/burak.cakan/opt/anaconda3/lib/python3.8/site-packages/sklearn/svm/_base.py:985: ConvergenceWarning: Liblinear failed to converge, increase the number of iterations.\n",
      "  warnings.warn(\"Liblinear failed to converge, increase \"\n",
      "/Users/burak.cakan/opt/anaconda3/lib/python3.8/site-packages/sklearn/svm/_base.py:985: ConvergenceWarning: Liblinear failed to converge, increase the number of iterations.\n",
      "  warnings.warn(\"Liblinear failed to converge, increase \"\n",
      "/Users/burak.cakan/opt/anaconda3/lib/python3.8/site-packages/sklearn/svm/_base.py:985: ConvergenceWarning: Liblinear failed to converge, increase the number of iterations.\n",
      "  warnings.warn(\"Liblinear failed to converge, increase \"\n",
      "/Users/burak.cakan/opt/anaconda3/lib/python3.8/site-packages/sklearn/svm/_base.py:985: ConvergenceWarning: Liblinear failed to converge, increase the number of iterations.\n",
      "  warnings.warn(\"Liblinear failed to converge, increase \"\n",
      "/Users/burak.cakan/opt/anaconda3/lib/python3.8/site-packages/sklearn/svm/_base.py:985: ConvergenceWarning: Liblinear failed to converge, increase the number of iterations.\n",
      "  warnings.warn(\"Liblinear failed to converge, increase \"\n",
      "/Users/burak.cakan/opt/anaconda3/lib/python3.8/site-packages/sklearn/svm/_base.py:985: ConvergenceWarning: Liblinear failed to converge, increase the number of iterations.\n",
      "  warnings.warn(\"Liblinear failed to converge, increase \"\n",
      "/Users/burak.cakan/opt/anaconda3/lib/python3.8/site-packages/sklearn/svm/_base.py:985: ConvergenceWarning: Liblinear failed to converge, increase the number of iterations.\n",
      "  warnings.warn(\"Liblinear failed to converge, increase \"\n",
      "/Users/burak.cakan/opt/anaconda3/lib/python3.8/site-packages/sklearn/svm/_base.py:985: ConvergenceWarning: Liblinear failed to converge, increase the number of iterations.\n",
      "  warnings.warn(\"Liblinear failed to converge, increase \"\n",
      "/Users/burak.cakan/opt/anaconda3/lib/python3.8/site-packages/sklearn/svm/_base.py:985: ConvergenceWarning: Liblinear failed to converge, increase the number of iterations.\n",
      "  warnings.warn(\"Liblinear failed to converge, increase \"\n",
      "/Users/burak.cakan/opt/anaconda3/lib/python3.8/site-packages/sklearn/svm/_base.py:985: ConvergenceWarning: Liblinear failed to converge, increase the number of iterations.\n",
      "  warnings.warn(\"Liblinear failed to converge, increase \"\n",
      "/Users/burak.cakan/opt/anaconda3/lib/python3.8/site-packages/sklearn/svm/_base.py:985: ConvergenceWarning: Liblinear failed to converge, increase the number of iterations.\n",
      "  warnings.warn(\"Liblinear failed to converge, increase \"\n",
      "/Users/burak.cakan/opt/anaconda3/lib/python3.8/site-packages/sklearn/svm/_base.py:985: ConvergenceWarning: Liblinear failed to converge, increase the number of iterations.\n",
      "  warnings.warn(\"Liblinear failed to converge, increase \"\n",
      "/Users/burak.cakan/opt/anaconda3/lib/python3.8/site-packages/sklearn/svm/_base.py:985: ConvergenceWarning: Liblinear failed to converge, increase the number of iterations.\n",
      "  warnings.warn(\"Liblinear failed to converge, increase \"\n",
      "/Users/burak.cakan/opt/anaconda3/lib/python3.8/site-packages/sklearn/svm/_base.py:985: ConvergenceWarning: Liblinear failed to converge, increase the number of iterations.\n",
      "  warnings.warn(\"Liblinear failed to converge, increase \"\n",
      "/Users/burak.cakan/opt/anaconda3/lib/python3.8/site-packages/sklearn/svm/_base.py:985: ConvergenceWarning: Liblinear failed to converge, increase the number of iterations.\n",
      "  warnings.warn(\"Liblinear failed to converge, increase \"\n",
      "/Users/burak.cakan/opt/anaconda3/lib/python3.8/site-packages/sklearn/svm/_base.py:985: ConvergenceWarning: Liblinear failed to converge, increase the number of iterations.\n",
      "  warnings.warn(\"Liblinear failed to converge, increase \"\n",
      "/Users/burak.cakan/opt/anaconda3/lib/python3.8/site-packages/sklearn/svm/_base.py:985: ConvergenceWarning: Liblinear failed to converge, increase the number of iterations.\n",
      "  warnings.warn(\"Liblinear failed to converge, increase \"\n",
      "/Users/burak.cakan/opt/anaconda3/lib/python3.8/site-packages/sklearn/svm/_base.py:985: ConvergenceWarning: Liblinear failed to converge, increase the number of iterations.\n",
      "  warnings.warn(\"Liblinear failed to converge, increase \"\n",
      "/Users/burak.cakan/opt/anaconda3/lib/python3.8/site-packages/sklearn/svm/_base.py:985: ConvergenceWarning: Liblinear failed to converge, increase the number of iterations.\n",
      "  warnings.warn(\"Liblinear failed to converge, increase \"\n"
     ]
    },
    {
     "name": "stderr",
     "output_type": "stream",
     "text": [
      "/Users/burak.cakan/opt/anaconda3/lib/python3.8/site-packages/sklearn/svm/_base.py:985: ConvergenceWarning: Liblinear failed to converge, increase the number of iterations.\n",
      "  warnings.warn(\"Liblinear failed to converge, increase \"\n",
      "/Users/burak.cakan/opt/anaconda3/lib/python3.8/site-packages/sklearn/svm/_base.py:985: ConvergenceWarning: Liblinear failed to converge, increase the number of iterations.\n",
      "  warnings.warn(\"Liblinear failed to converge, increase \"\n",
      "/Users/burak.cakan/opt/anaconda3/lib/python3.8/site-packages/sklearn/svm/_base.py:985: ConvergenceWarning: Liblinear failed to converge, increase the number of iterations.\n",
      "  warnings.warn(\"Liblinear failed to converge, increase \"\n",
      "/Users/burak.cakan/opt/anaconda3/lib/python3.8/site-packages/sklearn/svm/_base.py:985: ConvergenceWarning: Liblinear failed to converge, increase the number of iterations.\n",
      "  warnings.warn(\"Liblinear failed to converge, increase \"\n",
      "/Users/burak.cakan/opt/anaconda3/lib/python3.8/site-packages/sklearn/svm/_base.py:985: ConvergenceWarning: Liblinear failed to converge, increase the number of iterations.\n",
      "  warnings.warn(\"Liblinear failed to converge, increase \"\n",
      "/Users/burak.cakan/opt/anaconda3/lib/python3.8/site-packages/sklearn/svm/_base.py:985: ConvergenceWarning: Liblinear failed to converge, increase the number of iterations.\n",
      "  warnings.warn(\"Liblinear failed to converge, increase \"\n",
      "/Users/burak.cakan/opt/anaconda3/lib/python3.8/site-packages/sklearn/svm/_base.py:985: ConvergenceWarning: Liblinear failed to converge, increase the number of iterations.\n",
      "  warnings.warn(\"Liblinear failed to converge, increase \"\n",
      "/Users/burak.cakan/opt/anaconda3/lib/python3.8/site-packages/sklearn/svm/_base.py:985: ConvergenceWarning: Liblinear failed to converge, increase the number of iterations.\n",
      "  warnings.warn(\"Liblinear failed to converge, increase \"\n",
      "/Users/burak.cakan/opt/anaconda3/lib/python3.8/site-packages/sklearn/svm/_base.py:985: ConvergenceWarning: Liblinear failed to converge, increase the number of iterations.\n",
      "  warnings.warn(\"Liblinear failed to converge, increase \"\n",
      "/Users/burak.cakan/opt/anaconda3/lib/python3.8/site-packages/sklearn/svm/_base.py:985: ConvergenceWarning: Liblinear failed to converge, increase the number of iterations.\n",
      "  warnings.warn(\"Liblinear failed to converge, increase \"\n",
      "/Users/burak.cakan/opt/anaconda3/lib/python3.8/site-packages/sklearn/svm/_base.py:985: ConvergenceWarning: Liblinear failed to converge, increase the number of iterations.\n",
      "  warnings.warn(\"Liblinear failed to converge, increase \"\n",
      "/Users/burak.cakan/opt/anaconda3/lib/python3.8/site-packages/sklearn/svm/_base.py:985: ConvergenceWarning: Liblinear failed to converge, increase the number of iterations.\n",
      "  warnings.warn(\"Liblinear failed to converge, increase \"\n",
      "/Users/burak.cakan/opt/anaconda3/lib/python3.8/site-packages/sklearn/svm/_base.py:985: ConvergenceWarning: Liblinear failed to converge, increase the number of iterations.\n",
      "  warnings.warn(\"Liblinear failed to converge, increase \"\n",
      "/Users/burak.cakan/opt/anaconda3/lib/python3.8/site-packages/sklearn/svm/_base.py:985: ConvergenceWarning: Liblinear failed to converge, increase the number of iterations.\n",
      "  warnings.warn(\"Liblinear failed to converge, increase \"\n",
      "/Users/burak.cakan/opt/anaconda3/lib/python3.8/site-packages/sklearn/svm/_base.py:985: ConvergenceWarning: Liblinear failed to converge, increase the number of iterations.\n",
      "  warnings.warn(\"Liblinear failed to converge, increase \"\n",
      "/Users/burak.cakan/opt/anaconda3/lib/python3.8/site-packages/sklearn/svm/_base.py:985: ConvergenceWarning: Liblinear failed to converge, increase the number of iterations.\n",
      "  warnings.warn(\"Liblinear failed to converge, increase \"\n",
      "/Users/burak.cakan/opt/anaconda3/lib/python3.8/site-packages/sklearn/svm/_base.py:985: ConvergenceWarning: Liblinear failed to converge, increase the number of iterations.\n",
      "  warnings.warn(\"Liblinear failed to converge, increase \"\n",
      "/Users/burak.cakan/opt/anaconda3/lib/python3.8/site-packages/sklearn/svm/_base.py:985: ConvergenceWarning: Liblinear failed to converge, increase the number of iterations.\n",
      "  warnings.warn(\"Liblinear failed to converge, increase \"\n",
      "/Users/burak.cakan/opt/anaconda3/lib/python3.8/site-packages/sklearn/svm/_base.py:985: ConvergenceWarning: Liblinear failed to converge, increase the number of iterations.\n",
      "  warnings.warn(\"Liblinear failed to converge, increase \"\n",
      "/Users/burak.cakan/opt/anaconda3/lib/python3.8/site-packages/sklearn/svm/_base.py:985: ConvergenceWarning: Liblinear failed to converge, increase the number of iterations.\n",
      "  warnings.warn(\"Liblinear failed to converge, increase \"\n",
      "/Users/burak.cakan/opt/anaconda3/lib/python3.8/site-packages/sklearn/svm/_base.py:985: ConvergenceWarning: Liblinear failed to converge, increase the number of iterations.\n",
      "  warnings.warn(\"Liblinear failed to converge, increase \"\n",
      "/Users/burak.cakan/opt/anaconda3/lib/python3.8/site-packages/sklearn/svm/_base.py:985: ConvergenceWarning: Liblinear failed to converge, increase the number of iterations.\n",
      "  warnings.warn(\"Liblinear failed to converge, increase \"\n",
      "/Users/burak.cakan/opt/anaconda3/lib/python3.8/site-packages/sklearn/svm/_base.py:985: ConvergenceWarning: Liblinear failed to converge, increase the number of iterations.\n",
      "  warnings.warn(\"Liblinear failed to converge, increase \"\n",
      "/Users/burak.cakan/opt/anaconda3/lib/python3.8/site-packages/sklearn/svm/_base.py:985: ConvergenceWarning: Liblinear failed to converge, increase the number of iterations.\n",
      "  warnings.warn(\"Liblinear failed to converge, increase \"\n",
      "/Users/burak.cakan/opt/anaconda3/lib/python3.8/site-packages/sklearn/svm/_base.py:985: ConvergenceWarning: Liblinear failed to converge, increase the number of iterations.\n",
      "  warnings.warn(\"Liblinear failed to converge, increase \"\n",
      "/Users/burak.cakan/opt/anaconda3/lib/python3.8/site-packages/sklearn/svm/_base.py:985: ConvergenceWarning: Liblinear failed to converge, increase the number of iterations.\n",
      "  warnings.warn(\"Liblinear failed to converge, increase \"\n",
      "/Users/burak.cakan/opt/anaconda3/lib/python3.8/site-packages/sklearn/svm/_base.py:985: ConvergenceWarning: Liblinear failed to converge, increase the number of iterations.\n",
      "  warnings.warn(\"Liblinear failed to converge, increase \"\n"
     ]
    },
    {
     "name": "stdout",
     "output_type": "stream",
     "text": [
      "0.7405999999999999\n"
     ]
    },
    {
     "name": "stderr",
     "output_type": "stream",
     "text": [
      "/Users/burak.cakan/opt/anaconda3/lib/python3.8/site-packages/sklearn/svm/_base.py:985: ConvergenceWarning: Liblinear failed to converge, increase the number of iterations.\n",
      "  warnings.warn(\"Liblinear failed to converge, increase \"\n"
     ]
    }
   ],
   "source": [
    "# Part 5.4 with 10 different samples: \n",
    "mean_acc = []\n",
    "for i in range(10):\n",
    "    xns = sample(xn,500)\n",
    "    xps = sample(xp,500)\n",
    "\n",
    "    x = xns + xps\n",
    "    y = [0]*500 + [1]*500\n",
    "    \n",
    "    pca = PCA(0.9)\n",
    "    pca.fit(x)\n",
    "    transformed = pca.fit_transform(x)\n",
    "    clf = LinearSVC()\n",
    "    scores = cross_val_score(clf, transformed, y, cv=10)\n",
    "    n = np.mean(scores)\n",
    "    mean_acc.append(n)\n",
    "    \n",
    "average_acc = sum(mean_acc)/len(mean_acc)\n",
    "print(average_acc)\n",
    "\n",
    "    "
   ]
  },
  {
   "cell_type": "markdown",
   "metadata": {},
   "source": [
    "#Part 5.5\n",
    "In the mean of compating with part 2, according to scatter plots of LDA and PCA just above, LDA had a better performance for separating but both of them cannot give a clear separation.\n",
    "In the mean of compating with part 3, mean accuracy score is about 0.86. In PCA, we have using the model with less dimensions. Thus, we have sacrificed some of accuracy. And after dimentionality reduction in pca, my accuracy value is 0.74."
   ]
  }
 ],
 "metadata": {
  "kernelspec": {
   "display_name": "Python 3",
   "language": "python",
   "name": "python3"
  },
  "language_info": {
   "codemirror_mode": {
    "name": "ipython",
    "version": 3
   },
   "file_extension": ".py",
   "mimetype": "text/x-python",
   "name": "python",
   "nbconvert_exporter": "python",
   "pygments_lexer": "ipython3",
   "version": "3.8.5"
  }
 },
 "nbformat": 4,
 "nbformat_minor": 5
}
