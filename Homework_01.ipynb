{
 "cells": [
  {
   "cell_type": "markdown",
   "metadata": {},
   "source": [
    "# Question 1\n",
    "\n",
    "Write a python function that returns $2\\sin(x^2) + \\ln(|x|) + 1$ for a given real number $x$."
   ]
  },
  {
   "cell_type": "code",
   "execution_count": 4,
   "metadata": {},
   "outputs": [],
   "source": [
    "def equation(x):\n",
    "    val=2*math.sin(x*x)+math.log(abs(x))+1\n",
    "    return val"
   ]
  },
  {
   "cell_type": "markdown",
   "metadata": {},
   "source": [
    "# Question 2\n",
    "\n",
    "Write a python function that takes\n",
    "\n",
    "* A function `f(x)`\n",
    "* A pair of real numbers `(a,b)`\n",
    "* An integer `N`\n",
    "\n",
    "as input and returns the Riemann sum of `f(x)` on the interval `[a,b]` with `N` equal subdivisions."
   ]
  },
  {
   "cell_type": "code",
   "execution_count": 1,
   "metadata": {},
   "outputs": [
    {
     "name": "stdout",
     "output_type": "stream",
     "text": [
      "4.19055994630069\n"
     ]
    }
   ],
   "source": [
    "def f(x):\n",
    "\treturn x**(1/2)\n",
    "\n",
    "def reiman_calc(function,a,b,N): \n",
    "\n",
    "\tinterval=b-a\n",
    "\twidth=interval/N\n",
    "\trieman=0\n",
    "\tfor i in range (1,N):\n",
    "\t\ttemp = function(a+width*i)\n",
    "\t\trieman=rieman+temp\n",
    "\n",
    "\treturn rieman\n",
    "\n",
    "result = reiman_calc(f,0.5,3.5,4)\n",
    "print(result)"
   ]
  },
  {
   "cell_type": "markdown",
   "metadata": {},
   "source": [
    "# Question 3\n",
    "\n",
    "* Pull 100 uniformly random numbers from the interval $[0,1]$ as an array `xs`.\n",
    "* Add 0 at the beginning of the array, and 1.0 at the end.\n",
    "* Sort the array `xs` from smallest to the largest.\n",
    "* Calculate its discrete derivative `ys`, i.e. let $y_i = x_{i+1} - x_i$"
   ]
  },
  {
   "cell_type": "code",
   "execution_count": 2,
   "metadata": {},
   "outputs": [],
   "source": [
    "import random\n",
    "\n",
    "xs = []\n",
    "xs.append(0.0)\n",
    "\n",
    "for i in range(100):\n",
    "\tx = random.uniform(0.0,1.0)\n",
    "\txs.append(x) \n",
    "\n",
    "xs.append(1.0)\n",
    "xs.sort()\n",
    "\n",
    "ys = []\n",
    "for i in range(101):\n",
    "\tys.append(xs[i+1]-xs[i])"
   ]
  },
  {
   "cell_type": "markdown",
   "metadata": {},
   "source": [
    "# Question 4\n",
    "\n",
    "* Pull 100 uniformly random numbers from the interval $[0,1]$ into an array `xs`.\n",
    "* Pull 100 random numbers from the Gaussion distribution with $\\mu=0$ and $\\sigma=1.0$ into an array `ys`.\n",
    "* Scatter plot `xs` against `ys` using `matplotlib`\n"
   ]
  },
  {
   "cell_type": "code",
   "execution_count": 3,
   "metadata": {},
   "outputs": [
    {
     "data": {
      "image/png": "[encoded data removed]",
      "text/plain": [
       "<Figure size 432x288 with 1 Axes>"
      ]
     },
     "metadata": {
      "needs_background": "light"
     },
     "output_type": "display_data"
    }
   ],
   "source": [
    "import random\n",
    "import matplotlib.pyplot as plt\n",
    "\n",
    "xs = []\n",
    "\n",
    "for i in range(100):\n",
    "\tx = random.uniform(0.0,1.0)\n",
    "\txs.append(x) \n",
    "\n",
    "ys = []\n",
    "for i in range(100):\n",
    "\ty = random.gauss(0,1.0)\n",
    "\tys.append(y)\n",
    "\n",
    "plt.scatter(xs,ys)\n",
    "plt.show()"
   ]
  },
  {
   "cell_type": "markdown",
   "metadata": {},
   "source": [
    "# Question 5\n",
    "\n",
    "Using the `numpy` library\n",
    "\n",
    "* Pull a random $100\\times 100$ matrix\n",
    "* Calculate its 100-th power\n",
    "* Calculate its eigen-values\n",
    "* Calculate is [Singular Value Decomposition](https://numpy.org/doc/stable/reference/generated/numpy.linalg.svd.html)"
   ]
  },
  {
   "cell_type": "code",
   "execution_count": 4,
   "metadata": {},
   "outputs": [],
   "source": [
    "import numpy as np\n",
    "\n",
    "m = np.random.rand(100,100)\n",
    "p = np.linalg.matrix_power(m,100)\n",
    "e = np.linalg.eig(m)\n",
    "s = np.linalg.svd(m)"
   ]
  },
  {
   "cell_type": "markdown",
   "metadata": {},
   "source": [
    "# Question 6\n",
    "\n",
    "* Pull the text of a novel by Dickens from the website of [Gutenberg Project](https://www.gutenberg.org/)\n",
    "* Remove all non-alphanumeric characters \n",
    "* Split the text into words and convert them into lower case\n",
    "* Count the number of distinct words in the  text\n",
    "* Count how many times each word occurs within the text"
   ]
  },
  {
   "cell_type": "code",
   "execution_count": 5,
   "metadata": {},
   "outputs": [],
   "source": [
    "import requests\n",
    "from bs4 import BeautifulSoup as bs\n",
    "import re\n",
    "import string\n",
    "from collections import Counter\n",
    "\n",
    "r = requests.get('https://www.gutenberg.org/files/766/766-h/766-h.htm#link2HCH0001')\n",
    "page = r.content\n",
    "s = bs(page, 'html.parser')\n",
    "text = s.find_all(text = True)\n",
    "output = ''\n",
    "blacklist = ['/n', '/r']\n",
    "\n",
    "for t in text:\n",
    "\tif t.parent.name not in blacklist:\n",
    "\t\toutput += '{} '.format(t)\n",
    "\n",
    "words = [re.sub('^[{0}]+|[{0}]+$'.format(string.punctuation), '', w) for w in output.split()]\n",
    "\n",
    "distinct_words = len(set(words))\n",
    "count_dict = dict(Counter(words).items())"
   ]
  },
  {
   "cell_type": "markdown",
   "metadata": {},
   "source": [
    "# Question 7\n",
    "\n",
    "* Write a python function `CountWords` that takes the URL for a text and returns the number of unique words within the text.\n",
    "* Write a python function `Top20Words` that takes the URL for a text and returns the most frequently appearing top 20 words within the text."
   ]
  },
  {
   "cell_type": "code",
   "execution_count": 6,
   "metadata": {},
   "outputs": [],
   "source": [
    "import requests\n",
    "from bs4 import BeautifulSoup as bs\n",
    "import re\n",
    "import string\n",
    "from collections import Counter\n",
    "\n",
    "def CountWords(url):\n",
    "\tr = requests.get(url)\n",
    "\tpage = r.content\n",
    "\ts = bs(page, 'html.parser')\n",
    "\ttext = s.find_all(text = True)\n",
    "\toutput = ''\n",
    "\tblacklist = ['/n', '/r']\n",
    "\n",
    "\tfor t in text:\n",
    "\t\tif t.parent.name not in blacklist:\n",
    "\t\t\toutput += '{} '.format(t)\n",
    "\n",
    "\twords = [re.sub('^[{0}]+|[{0}]+$'.format(string.punctuation), '', w) for w in output.split()]\n",
    "\n",
    "\tdistinct_words = len(set(words))\n",
    "\treturn distinct_words\n",
    "\n",
    "def Top20Words(url):\n",
    "\tr = requests.get(url)\n",
    "\tpage = r.content\n",
    "\ts = bs(page, 'html.parser')\n",
    "\ttext = s.find_all(text = True)\n",
    "\toutput = ''\n",
    "\tblacklist = ['/n', '/r']\n",
    "\n",
    "\tfor t in text:\n",
    "\t\tif t.parent.name not in blacklist:\n",
    "\t\t\toutput += '{} '.format(t)\n",
    "\n",
    "\twords = [re.sub('^[{0}]+|[{0}]+$'.format(string.punctuation), '', w) for w in output.split()]\n",
    "\n",
    "\tcount_dict = dict(Counter(words).items())\n",
    "\n",
    "\ttop_20_counts = sorted(count_dict.items(), key=lambda x: x[1], reverse=True)[:20]\n",
    "\ttop_20 = [item[0] for item in top_20_counts]\n",
    "\n",
    "\treturn top_20"
   ]
  },
  {
   "cell_type": "markdown",
   "metadata": {},
   "source": [
    "# Question 8\n",
    "\n",
    "* Pull the [IMKB](https://archive.ics.uci.edu/ml/machine-learning-databases/00247/data_akbilgic.xlsx) data from UCI using pandas.\n",
    "* Plot the TL based ISE and USD based ISE columns together in the same graph.\n",
    "* Calculate how many times `NIKKEI` was higher than `FTSE`."
   ]
  },
  {
   "cell_type": "code",
   "execution_count": 7,
   "metadata": {},
   "outputs": [
    {
     "name": "stderr",
     "output_type": "stream",
     "text": [
      "/Users/burak.cakan/opt/anaconda3/lib/python3.8/site-packages/openpyxl/worksheet/_reader.py:300: UserWarning: Unknown extension is not supported and will be removed\n",
      "  warn(msg)\n"
     ]
    },
    {
     "data": {
      "image/png": "[encoded data removed]",
      "text/plain": [
       "<Figure size 432x288 with 1 Axes>"
      ]
     },
     "metadata": {
      "needs_background": "light"
     },
     "output_type": "display_data"
    }
   ],
   "source": [
    "import pandas as pd \n",
    "import matplotlib.pyplot as plt\n",
    "\n",
    "data = pd.read_excel('https://archive.ics.uci.edu/ml/machine-learning-databases/00247/data_akbilgic.xlsx', header = [0, 1], index_col = 0, engine = 'openpyxl')\n",
    "data.plot.line(y = [0 ,1])\n",
    "plt.show()\n",
    "\n",
    "dlist = data.values.tolist()\n",
    "\n",
    "count = 0\n",
    "for i in range(len(dlist)):\n",
    "\tif dlist[i][5] > dlist[i][4]:\n",
    "\t\tcount += 1"
   ]
  },
  {
   "cell_type": "markdown",
   "metadata": {},
   "source": [
    "# Question 9\n",
    "\n",
    "Using the [networkx](https://networkx.org/) library\n",
    "\n",
    "* Get the [adjacency matrix](https://en.wikipedia.org/wiki/Adjacency_matrix) of the [Peterson graph](https://en.wikipedia.org/wiki/Petersen_graph).\n",
    "* Calculate its eigen-values and eigen-vectors using the [numpy](https://numpy.org/) library.\n",
    "* Repeat the same for a [random 3-regular graph on 10 vertices](https://networkx.org/documentation/networkx-1.10/reference/generated/networkx.generators.random_graphs.random_regular_graph.html)."
   ]
  },
  {
   "cell_type": "code",
   "execution_count": 8,
   "metadata": {},
   "outputs": [],
   "source": [
    "import networkx as nx \n",
    "import numpy as np\n",
    "\n",
    "pet = nx.petersen_graph()\n",
    "adj = nx.linalg.graphmatrix.adjacency_matrix(pet)\n",
    "\n",
    "mx = nx.convert_matrix.to_numpy_matrix(pet)\n",
    "e_val, e_vec = np.linalg.eig(mx)"
   ]
  },
  {
   "cell_type": "code",
   "execution_count": 9,
   "metadata": {},
   "outputs": [],
   "source": [
    "import networkx as nx \n",
    "import numpy as np\n",
    "\n",
    "g = nx.generators.random_graphs.random_regular_graph(3,10)\n",
    "adj = nx.linalg.graphmatrix.adjacency_matrix(g)\n",
    "\n",
    "mx = nx.convert_matrix.to_numpy_matrix(g)\n",
    "e_val, e_vec = np.linalg.eig(mx)"
   ]
  },
  {
   "cell_type": "code",
   "execution_count": null,
   "metadata": {},
   "outputs": [],
   "source": []
  }
 ],
 "metadata": {
  "kernelspec": {
   "display_name": "Python 3",
   "language": "python",
   "name": "python3"
  },
  "language_info": {
   "codemirror_mode": {
    "name": "ipython",
    "version": 3
   },
   "file_extension": ".py",
   "mimetype": "text/x-python",
   "name": "python",
   "nbconvert_exporter": "python",
   "pygments_lexer": "ipython3",
   "version": "3.8.5"
  }
 },
 "nbformat": 4,
 "nbformat_minor": 4
}
