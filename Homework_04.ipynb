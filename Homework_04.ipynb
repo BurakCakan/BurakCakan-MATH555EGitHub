{
 "cells": [
  {
   "cell_type": "code",
   "execution_count": 18,
   "metadata": {},
   "outputs": [],
   "source": [
    "import pandas as pd\n",
    "import numpy as np\n",
    "import matplotlib.mlab as mlab\n",
    "import matplotlib.pyplot as plt\n",
    "from sklearn.tree import DecisionTreeClassifier\n",
    "from sklearn.tree import DecisionTreeRegressor\n",
    "from sklearn.model_selection import train_test_split\n",
    "from sklearn import tree\n",
    "from sklearn.metrics import accuracy_score\n",
    "from sklearn.ensemble import RandomForestClassifier\n",
    "from sklearn.ensemble import RandomForestRegressor\n",
    "import xgboost as xgb\n",
    "from scipy.stats import t\n",
    "from sklearn.metrics import mean_squared_error, r2_score \n",
    "import re\n",
    "from sklearn.neighbors import KNeighborsClassifier\n",
    "from sklearn.ensemble import BaggingClassifier, AdaBoostClassifier\n",
    "from sklearn.neural_network import MLPClassifier\n",
    "from datetime import date"
   ]
  },
  {
   "cell_type": "markdown",
   "metadata": {},
   "source": [
    "# Homework #4\n",
    "\n",
    "\n",
    "The howework is due May 23rd 11:59PM."
   ]
  },
  {
   "cell_type": "markdown",
   "metadata": {},
   "source": [
    "## 1. Bike sharing dataset\n",
    "\n",
    "This is a dataset of bike sharing data from 2011 and 2012 from Washington D.C. and is \n",
    "publicly available in [here](http://capitalbikeshare.com/system-data). Read the [README](./data/bike_sharing/Readme.txt) for details.\n",
    "\n",
    "For this question, construct  \n",
    "\n",
    "* a decision tree model\n",
    "* a random forest\n",
    "* a XGBoost tree model\n",
    "\n",
    "to predict\n",
    "\n",
    "1. the weather situation ('weathersit' column) using other columns.\n",
    "2. the number of bikes ('cnt' column) using other columns."
   ]
  },
  {
   "cell_type": "code",
   "execution_count": 149,
   "metadata": {},
   "outputs": [
    {
     "data": {
      "text/html": [
       "<div>\n",
       "<style scoped>\n",
       "    .dataframe tbody tr th:only-of-type {\n",
       "        vertical-align: middle;\n",
       "    }\n",
       "\n",
       "    .dataframe tbody tr th {\n",
       "        vertical-align: top;\n",
       "    }\n",
       "\n",
       "    .dataframe thead th {\n",
       "        text-align: right;\n",
       "    }\n",
       "</style>\n",
       "<table border=\"1\" class=\"dataframe\">\n",
       "  <thead>\n",
       "    <tr style=\"text-align: right;\">\n",
       "      <th></th>\n",
       "      <th>instant</th>\n",
       "      <th>dteday</th>\n",
       "      <th>season</th>\n",
       "      <th>yr</th>\n",
       "      <th>mnth</th>\n",
       "      <th>holiday</th>\n",
       "      <th>weekday</th>\n",
       "      <th>workingday</th>\n",
       "      <th>weathersit</th>\n",
       "      <th>temp</th>\n",
       "      <th>atemp</th>\n",
       "      <th>hum</th>\n",
       "      <th>windspeed</th>\n",
       "      <th>casual</th>\n",
       "      <th>registered</th>\n",
       "      <th>cnt</th>\n",
       "    </tr>\n",
       "  </thead>\n",
       "  <tbody>\n",
       "    <tr>\n",
       "      <th>0</th>\n",
       "      <td>1</td>\n",
       "      <td>2011-01-01</td>\n",
       "      <td>1</td>\n",
       "      <td>0</td>\n",
       "      <td>1</td>\n",
       "      <td>0</td>\n",
       "      <td>6</td>\n",
       "      <td>0</td>\n",
       "      <td>2</td>\n",
       "      <td>0.344167</td>\n",
       "      <td>0.363625</td>\n",
       "      <td>0.805833</td>\n",
       "      <td>0.160446</td>\n",
       "      <td>331</td>\n",
       "      <td>654</td>\n",
       "      <td>985</td>\n",
       "    </tr>\n",
       "    <tr>\n",
       "      <th>1</th>\n",
       "      <td>2</td>\n",
       "      <td>2011-01-02</td>\n",
       "      <td>1</td>\n",
       "      <td>0</td>\n",
       "      <td>1</td>\n",
       "      <td>0</td>\n",
       "      <td>0</td>\n",
       "      <td>0</td>\n",
       "      <td>2</td>\n",
       "      <td>0.363478</td>\n",
       "      <td>0.353739</td>\n",
       "      <td>0.696087</td>\n",
       "      <td>0.248539</td>\n",
       "      <td>131</td>\n",
       "      <td>670</td>\n",
       "      <td>801</td>\n",
       "    </tr>\n",
       "    <tr>\n",
       "      <th>2</th>\n",
       "      <td>3</td>\n",
       "      <td>2011-01-03</td>\n",
       "      <td>1</td>\n",
       "      <td>0</td>\n",
       "      <td>1</td>\n",
       "      <td>0</td>\n",
       "      <td>1</td>\n",
       "      <td>1</td>\n",
       "      <td>1</td>\n",
       "      <td>0.196364</td>\n",
       "      <td>0.189405</td>\n",
       "      <td>0.437273</td>\n",
       "      <td>0.248309</td>\n",
       "      <td>120</td>\n",
       "      <td>1229</td>\n",
       "      <td>1349</td>\n",
       "    </tr>\n",
       "    <tr>\n",
       "      <th>3</th>\n",
       "      <td>4</td>\n",
       "      <td>2011-01-04</td>\n",
       "      <td>1</td>\n",
       "      <td>0</td>\n",
       "      <td>1</td>\n",
       "      <td>0</td>\n",
       "      <td>2</td>\n",
       "      <td>1</td>\n",
       "      <td>1</td>\n",
       "      <td>0.200000</td>\n",
       "      <td>0.212122</td>\n",
       "      <td>0.590435</td>\n",
       "      <td>0.160296</td>\n",
       "      <td>108</td>\n",
       "      <td>1454</td>\n",
       "      <td>1562</td>\n",
       "    </tr>\n",
       "    <tr>\n",
       "      <th>4</th>\n",
       "      <td>5</td>\n",
       "      <td>2011-01-05</td>\n",
       "      <td>1</td>\n",
       "      <td>0</td>\n",
       "      <td>1</td>\n",
       "      <td>0</td>\n",
       "      <td>3</td>\n",
       "      <td>1</td>\n",
       "      <td>1</td>\n",
       "      <td>0.226957</td>\n",
       "      <td>0.229270</td>\n",
       "      <td>0.436957</td>\n",
       "      <td>0.186900</td>\n",
       "      <td>82</td>\n",
       "      <td>1518</td>\n",
       "      <td>1600</td>\n",
       "    </tr>\n",
       "    <tr>\n",
       "      <th>...</th>\n",
       "      <td>...</td>\n",
       "      <td>...</td>\n",
       "      <td>...</td>\n",
       "      <td>...</td>\n",
       "      <td>...</td>\n",
       "      <td>...</td>\n",
       "      <td>...</td>\n",
       "      <td>...</td>\n",
       "      <td>...</td>\n",
       "      <td>...</td>\n",
       "      <td>...</td>\n",
       "      <td>...</td>\n",
       "      <td>...</td>\n",
       "      <td>...</td>\n",
       "      <td>...</td>\n",
       "      <td>...</td>\n",
       "    </tr>\n",
       "    <tr>\n",
       "      <th>726</th>\n",
       "      <td>727</td>\n",
       "      <td>2012-12-27</td>\n",
       "      <td>1</td>\n",
       "      <td>1</td>\n",
       "      <td>12</td>\n",
       "      <td>0</td>\n",
       "      <td>4</td>\n",
       "      <td>1</td>\n",
       "      <td>2</td>\n",
       "      <td>0.254167</td>\n",
       "      <td>0.226642</td>\n",
       "      <td>0.652917</td>\n",
       "      <td>0.350133</td>\n",
       "      <td>247</td>\n",
       "      <td>1867</td>\n",
       "      <td>2114</td>\n",
       "    </tr>\n",
       "    <tr>\n",
       "      <th>727</th>\n",
       "      <td>728</td>\n",
       "      <td>2012-12-28</td>\n",
       "      <td>1</td>\n",
       "      <td>1</td>\n",
       "      <td>12</td>\n",
       "      <td>0</td>\n",
       "      <td>5</td>\n",
       "      <td>1</td>\n",
       "      <td>2</td>\n",
       "      <td>0.253333</td>\n",
       "      <td>0.255046</td>\n",
       "      <td>0.590000</td>\n",
       "      <td>0.155471</td>\n",
       "      <td>644</td>\n",
       "      <td>2451</td>\n",
       "      <td>3095</td>\n",
       "    </tr>\n",
       "    <tr>\n",
       "      <th>728</th>\n",
       "      <td>729</td>\n",
       "      <td>2012-12-29</td>\n",
       "      <td>1</td>\n",
       "      <td>1</td>\n",
       "      <td>12</td>\n",
       "      <td>0</td>\n",
       "      <td>6</td>\n",
       "      <td>0</td>\n",
       "      <td>2</td>\n",
       "      <td>0.253333</td>\n",
       "      <td>0.242400</td>\n",
       "      <td>0.752917</td>\n",
       "      <td>0.124383</td>\n",
       "      <td>159</td>\n",
       "      <td>1182</td>\n",
       "      <td>1341</td>\n",
       "    </tr>\n",
       "    <tr>\n",
       "      <th>729</th>\n",
       "      <td>730</td>\n",
       "      <td>2012-12-30</td>\n",
       "      <td>1</td>\n",
       "      <td>1</td>\n",
       "      <td>12</td>\n",
       "      <td>0</td>\n",
       "      <td>0</td>\n",
       "      <td>0</td>\n",
       "      <td>1</td>\n",
       "      <td>0.255833</td>\n",
       "      <td>0.231700</td>\n",
       "      <td>0.483333</td>\n",
       "      <td>0.350754</td>\n",
       "      <td>364</td>\n",
       "      <td>1432</td>\n",
       "      <td>1796</td>\n",
       "    </tr>\n",
       "    <tr>\n",
       "      <th>730</th>\n",
       "      <td>731</td>\n",
       "      <td>2012-12-31</td>\n",
       "      <td>1</td>\n",
       "      <td>1</td>\n",
       "      <td>12</td>\n",
       "      <td>0</td>\n",
       "      <td>1</td>\n",
       "      <td>1</td>\n",
       "      <td>2</td>\n",
       "      <td>0.215833</td>\n",
       "      <td>0.223487</td>\n",
       "      <td>0.577500</td>\n",
       "      <td>0.154846</td>\n",
       "      <td>439</td>\n",
       "      <td>2290</td>\n",
       "      <td>2729</td>\n",
       "    </tr>\n",
       "  </tbody>\n",
       "</table>\n",
       "<p>731 rows × 16 columns</p>\n",
       "</div>"
      ],
      "text/plain": [
       "     instant      dteday  season  yr  mnth  holiday  weekday  workingday  \\\n",
       "0          1  2011-01-01       1   0     1        0        6           0   \n",
       "1          2  2011-01-02       1   0     1        0        0           0   \n",
       "2          3  2011-01-03       1   0     1        0        1           1   \n",
       "3          4  2011-01-04       1   0     1        0        2           1   \n",
       "4          5  2011-01-05       1   0     1        0        3           1   \n",
       "..       ...         ...     ...  ..   ...      ...      ...         ...   \n",
       "726      727  2012-12-27       1   1    12        0        4           1   \n",
       "727      728  2012-12-28       1   1    12        0        5           1   \n",
       "728      729  2012-12-29       1   1    12        0        6           0   \n",
       "729      730  2012-12-30       1   1    12        0        0           0   \n",
       "730      731  2012-12-31       1   1    12        0        1           1   \n",
       "\n",
       "     weathersit      temp     atemp       hum  windspeed  casual  registered  \\\n",
       "0             2  0.344167  0.363625  0.805833   0.160446     331         654   \n",
       "1             2  0.363478  0.353739  0.696087   0.248539     131         670   \n",
       "2             1  0.196364  0.189405  0.437273   0.248309     120        1229   \n",
       "3             1  0.200000  0.212122  0.590435   0.160296     108        1454   \n",
       "4             1  0.226957  0.229270  0.436957   0.186900      82        1518   \n",
       "..          ...       ...       ...       ...        ...     ...         ...   \n",
       "726           2  0.254167  0.226642  0.652917   0.350133     247        1867   \n",
       "727           2  0.253333  0.255046  0.590000   0.155471     644        2451   \n",
       "728           2  0.253333  0.242400  0.752917   0.124383     159        1182   \n",
       "729           1  0.255833  0.231700  0.483333   0.350754     364        1432   \n",
       "730           2  0.215833  0.223487  0.577500   0.154846     439        2290   \n",
       "\n",
       "      cnt  \n",
       "0     985  \n",
       "1     801  \n",
       "2    1349  \n",
       "3    1562  \n",
       "4    1600  \n",
       "..    ...  \n",
       "726  2114  \n",
       "727  3095  \n",
       "728  1341  \n",
       "729  1796  \n",
       "730  2729  \n",
       "\n",
       "[731 rows x 16 columns]"
      ]
     },
     "execution_count": 149,
     "metadata": {},
     "output_type": "execute_result"
    }
   ],
   "source": [
    "bike = pd.read_csv('/Users/burak.cakan/Desktop/HW4/data/bike_sharing/day.csv')\n",
    "bike"
   ]
  },
  {
   "cell_type": "code",
   "execution_count": 150,
   "metadata": {},
   "outputs": [],
   "source": [
    "def doExperiment(xs,ys,model,ts=0.25):\n",
    "    xtrain,xtest,ytrain,ytest = train_test_split(xs,ys,test_size=ts)\n",
    "    model.fit(xtrain,ytrain)\n",
    "    pred = model.predict(xtest)\n",
    "    acc_score=accuracy_score(ytest, pred)\n",
    "    return acc_score\n",
    "N=5"
   ]
  },
  {
   "cell_type": "code",
   "execution_count": 151,
   "metadata": {},
   "outputs": [],
   "source": [
    "def visualizeR(dataset):\n",
    "    plt.plot('max_depth','acc_gini', data=dataset, label='gini')\n",
    "    plt.plot('max_depth','acc_entropy', data=dataset, label='entropy')\n",
    "    plt.xlabel('max_depth')\n",
    "    plt.ylabel('accuracy')\n",
    "    plt.legend()"
   ]
  },
  {
   "cell_type": "markdown",
   "metadata": {},
   "source": [
    "# Prediction of the weather situation:"
   ]
  },
  {
   "cell_type": "markdown",
   "metadata": {},
   "source": [
    "## a. Decision Tree Model"
   ]
  },
  {
   "cell_type": "markdown",
   "metadata": {},
   "source": [
    "Only 6 columns have an effect on weather. Not to have a conflict between month and season when get_dummies is used, I added 12 to the season. By this way, 13,14,15 and 16 are new season values instead of 1,2,3,4."
   ]
  },
  {
   "cell_type": "code",
   "execution_count": 152,
   "metadata": {},
   "outputs": [],
   "source": [
    "bike['season']=bike['season']+12\n",
    "season_dummy = pd.get_dummies(bike['season'])\n",
    "month_dummy = pd.get_dummies(bike['mnth'])\n",
    "\n",
    "features=['temp','atemp','hum','windspeed'] \n",
    "target=['weathersit']\n",
    "\n",
    "xs=pd.concat([month_dummy, season_dummy,bike[features]], axis=1)\n",
    "ys=bike[target]"
   ]
  },
  {
   "cell_type": "code",
   "execution_count": 153,
   "metadata": {},
   "outputs": [
    {
     "data": {
      "image/png": "[encoded data removed]",
      "text/plain": [
       "<Figure size 432x288 with 1 Axes>"
      ]
     },
     "metadata": {
      "needs_background": "light"
     },
     "output_type": "display_data"
    }
   ],
   "source": [
    "max_depth = []\n",
    "acc_gini = []\n",
    "acc_entropy = []\n",
    "for i in range(1,50):\n",
    "    accuracy=doExperiment(xs,ys,DecisionTreeClassifier(criterion='gini',max_depth=i))\n",
    "    acc_gini.append(accuracy)\n",
    "    \n",
    "    accuracy=doExperiment(xs,ys,DecisionTreeClassifier(criterion='entropy',max_depth=i))\n",
    "    acc_entropy.append(accuracy)\n",
    "\n",
    "    max_depth.append(i)\n",
    "\n",
    "d = pd.DataFrame({'acc_gini':pd.Series(acc_gini), \n",
    "                  'acc_entropy':pd.Series(acc_entropy),\n",
    "                  'max_depth':pd.Series(max_depth)})\n",
    "visualizeR(d)"
   ]
  },
  {
   "cell_type": "markdown",
   "metadata": {},
   "source": [
    "Best prediction is as below:"
   ]
  },
  {
   "cell_type": "code",
   "execution_count": 154,
   "metadata": {},
   "outputs": [
    {
     "name": "stdout",
     "output_type": "stream",
     "text": [
      "Maximum accuracy in Desicion Tree Model:  0.7978142076502732\n",
      "For the maximum accuracy, max_depth:  1\n"
     ]
    }
   ],
   "source": [
    "if max(acc_gini) > max(acc_entropy):\n",
    "    method='gini'\n",
    "    depth=acc_gini.index(max(acc_gini))+1\n",
    "    print('Maximum accuracy in Desicion Tree Model: ', max(acc_gini))\n",
    "    print('For the maximum accuracy, max_depth: ',acc_gini.index(max(acc_gini))+1)\n",
    "else:\n",
    "    method='entropy'\n",
    "    depth=acc_entropy.index(max(acc_entropy))+1\n",
    "    print('Maximum accuracy in Desicion Tree Model: ', max(acc_entropy))\n",
    "    print('For the maximum accuracy, max_depth: ',acc_entropy.index(max(acc_entropy))+1)"
   ]
  },
  {
   "cell_type": "code",
   "execution_count": 155,
   "metadata": {},
   "outputs": [
    {
     "name": "stdout",
     "output_type": "stream",
     "text": [
      "95% Confidence Interval of Accuracy Score:\n"
     ]
    },
    {
     "data": {
      "text/plain": [
       "(0.733774779628733, 0.7372634717373874)"
      ]
     },
     "execution_count": 155,
     "metadata": {},
     "output_type": "execute_result"
    }
   ],
   "source": [
    "print('95% Confidence Interval of Accuracy Score:')\n",
    "accuracies = np.array([doExperiment( xs,\n",
    "                                     ys,\n",
    "                                     DecisionTreeClassifier(criterion=method,max_depth=depth))\n",
    "                        for i in range(N)])\n",
    "t.interval(0.95,N-1,loc=accuracies.mean(),scale=accuracies.var())"
   ]
  },
  {
   "cell_type": "markdown",
   "metadata": {},
   "source": [
    "## b. Random Forest "
   ]
  },
  {
   "cell_type": "code",
   "execution_count": 156,
   "metadata": {},
   "outputs": [
    {
     "name": "stderr",
     "output_type": "stream",
     "text": [
      "<ipython-input-150-f20b9c00d5af>:3: DataConversionWarning: A column-vector y was passed when a 1d array was expected. Please change the shape of y to (n_samples,), for example using ravel().\n",
      "  model.fit(xtrain,ytrain)\n",
      "<ipython-input-150-f20b9c00d5af>:3: DataConversionWarning: A column-vector y was passed when a 1d array was expected. Please change the shape of y to (n_samples,), for example using ravel().\n",
      "  model.fit(xtrain,ytrain)\n",
      "<ipython-input-150-f20b9c00d5af>:3: DataConversionWarning: A column-vector y was passed when a 1d array was expected. Please change the shape of y to (n_samples,), for example using ravel().\n",
      "  model.fit(xtrain,ytrain)\n",
      "<ipython-input-150-f20b9c00d5af>:3: DataConversionWarning: A column-vector y was passed when a 1d array was expected. Please change the shape of y to (n_samples,), for example using ravel().\n",
      "  model.fit(xtrain,ytrain)\n",
      "<ipython-input-150-f20b9c00d5af>:3: DataConversionWarning: A column-vector y was passed when a 1d array was expected. Please change the shape of y to (n_samples,), for example using ravel().\n",
      "  model.fit(xtrain,ytrain)\n",
      "<ipython-input-150-f20b9c00d5af>:3: DataConversionWarning: A column-vector y was passed when a 1d array was expected. Please change the shape of y to (n_samples,), for example using ravel().\n",
      "  model.fit(xtrain,ytrain)\n",
      "<ipython-input-150-f20b9c00d5af>:3: DataConversionWarning: A column-vector y was passed when a 1d array was expected. Please change the shape of y to (n_samples,), for example using ravel().\n",
      "  model.fit(xtrain,ytrain)\n",
      "<ipython-input-150-f20b9c00d5af>:3: DataConversionWarning: A column-vector y was passed when a 1d array was expected. Please change the shape of y to (n_samples,), for example using ravel().\n",
      "  model.fit(xtrain,ytrain)\n",
      "<ipython-input-150-f20b9c00d5af>:3: DataConversionWarning: A column-vector y was passed when a 1d array was expected. Please change the shape of y to (n_samples,), for example using ravel().\n",
      "  model.fit(xtrain,ytrain)\n",
      "<ipython-input-150-f20b9c00d5af>:3: DataConversionWarning: A column-vector y was passed when a 1d array was expected. Please change the shape of y to (n_samples,), for example using ravel().\n",
      "  model.fit(xtrain,ytrain)\n",
      "<ipython-input-150-f20b9c00d5af>:3: DataConversionWarning: A column-vector y was passed when a 1d array was expected. Please change the shape of y to (n_samples,), for example using ravel().\n",
      "  model.fit(xtrain,ytrain)\n",
      "<ipython-input-150-f20b9c00d5af>:3: DataConversionWarning: A column-vector y was passed when a 1d array was expected. Please change the shape of y to (n_samples,), for example using ravel().\n",
      "  model.fit(xtrain,ytrain)\n",
      "<ipython-input-150-f20b9c00d5af>:3: DataConversionWarning: A column-vector y was passed when a 1d array was expected. Please change the shape of y to (n_samples,), for example using ravel().\n",
      "  model.fit(xtrain,ytrain)\n",
      "<ipython-input-150-f20b9c00d5af>:3: DataConversionWarning: A column-vector y was passed when a 1d array was expected. Please change the shape of y to (n_samples,), for example using ravel().\n",
      "  model.fit(xtrain,ytrain)\n",
      "<ipython-input-150-f20b9c00d5af>:3: DataConversionWarning: A column-vector y was passed when a 1d array was expected. Please change the shape of y to (n_samples,), for example using ravel().\n",
      "  model.fit(xtrain,ytrain)\n",
      "<ipython-input-150-f20b9c00d5af>:3: DataConversionWarning: A column-vector y was passed when a 1d array was expected. Please change the shape of y to (n_samples,), for example using ravel().\n",
      "  model.fit(xtrain,ytrain)\n",
      "<ipython-input-150-f20b9c00d5af>:3: DataConversionWarning: A column-vector y was passed when a 1d array was expected. Please change the shape of y to (n_samples,), for example using ravel().\n",
      "  model.fit(xtrain,ytrain)\n",
      "<ipython-input-150-f20b9c00d5af>:3: DataConversionWarning: A column-vector y was passed when a 1d array was expected. Please change the shape of y to (n_samples,), for example using ravel().\n",
      "  model.fit(xtrain,ytrain)\n",
      "<ipython-input-150-f20b9c00d5af>:3: DataConversionWarning: A column-vector y was passed when a 1d array was expected. Please change the shape of y to (n_samples,), for example using ravel().\n",
      "  model.fit(xtrain,ytrain)\n",
      "<ipython-input-150-f20b9c00d5af>:3: DataConversionWarning: A column-vector y was passed when a 1d array was expected. Please change the shape of y to (n_samples,), for example using ravel().\n",
      "  model.fit(xtrain,ytrain)\n",
      "<ipython-input-150-f20b9c00d5af>:3: DataConversionWarning: A column-vector y was passed when a 1d array was expected. Please change the shape of y to (n_samples,), for example using ravel().\n",
      "  model.fit(xtrain,ytrain)\n",
      "<ipython-input-150-f20b9c00d5af>:3: DataConversionWarning: A column-vector y was passed when a 1d array was expected. Please change the shape of y to (n_samples,), for example using ravel().\n",
      "  model.fit(xtrain,ytrain)\n",
      "<ipython-input-150-f20b9c00d5af>:3: DataConversionWarning: A column-vector y was passed when a 1d array was expected. Please change the shape of y to (n_samples,), for example using ravel().\n",
      "  model.fit(xtrain,ytrain)\n",
      "<ipython-input-150-f20b9c00d5af>:3: DataConversionWarning: A column-vector y was passed when a 1d array was expected. Please change the shape of y to (n_samples,), for example using ravel().\n",
      "  model.fit(xtrain,ytrain)\n",
      "<ipython-input-150-f20b9c00d5af>:3: DataConversionWarning: A column-vector y was passed when a 1d array was expected. Please change the shape of y to (n_samples,), for example using ravel().\n",
      "  model.fit(xtrain,ytrain)\n",
      "<ipython-input-150-f20b9c00d5af>:3: DataConversionWarning: A column-vector y was passed when a 1d array was expected. Please change the shape of y to (n_samples,), for example using ravel().\n",
      "  model.fit(xtrain,ytrain)\n",
      "<ipython-input-150-f20b9c00d5af>:3: DataConversionWarning: A column-vector y was passed when a 1d array was expected. Please change the shape of y to (n_samples,), for example using ravel().\n",
      "  model.fit(xtrain,ytrain)\n",
      "<ipython-input-150-f20b9c00d5af>:3: DataConversionWarning: A column-vector y was passed when a 1d array was expected. Please change the shape of y to (n_samples,), for example using ravel().\n",
      "  model.fit(xtrain,ytrain)\n",
      "<ipython-input-150-f20b9c00d5af>:3: DataConversionWarning: A column-vector y was passed when a 1d array was expected. Please change the shape of y to (n_samples,), for example using ravel().\n",
      "  model.fit(xtrain,ytrain)\n",
      "<ipython-input-150-f20b9c00d5af>:3: DataConversionWarning: A column-vector y was passed when a 1d array was expected. Please change the shape of y to (n_samples,), for example using ravel().\n",
      "  model.fit(xtrain,ytrain)\n",
      "<ipython-input-150-f20b9c00d5af>:3: DataConversionWarning: A column-vector y was passed when a 1d array was expected. Please change the shape of y to (n_samples,), for example using ravel().\n",
      "  model.fit(xtrain,ytrain)\n",
      "<ipython-input-150-f20b9c00d5af>:3: DataConversionWarning: A column-vector y was passed when a 1d array was expected. Please change the shape of y to (n_samples,), for example using ravel().\n",
      "  model.fit(xtrain,ytrain)\n",
      "<ipython-input-150-f20b9c00d5af>:3: DataConversionWarning: A column-vector y was passed when a 1d array was expected. Please change the shape of y to (n_samples,), for example using ravel().\n",
      "  model.fit(xtrain,ytrain)\n",
      "<ipython-input-150-f20b9c00d5af>:3: DataConversionWarning: A column-vector y was passed when a 1d array was expected. Please change the shape of y to (n_samples,), for example using ravel().\n",
      "  model.fit(xtrain,ytrain)\n",
      "<ipython-input-150-f20b9c00d5af>:3: DataConversionWarning: A column-vector y was passed when a 1d array was expected. Please change the shape of y to (n_samples,), for example using ravel().\n",
      "  model.fit(xtrain,ytrain)\n",
      "<ipython-input-150-f20b9c00d5af>:3: DataConversionWarning: A column-vector y was passed when a 1d array was expected. Please change the shape of y to (n_samples,), for example using ravel().\n",
      "  model.fit(xtrain,ytrain)\n",
      "<ipython-input-150-f20b9c00d5af>:3: DataConversionWarning: A column-vector y was passed when a 1d array was expected. Please change the shape of y to (n_samples,), for example using ravel().\n",
      "  model.fit(xtrain,ytrain)\n",
      "<ipython-input-150-f20b9c00d5af>:3: DataConversionWarning: A column-vector y was passed when a 1d array was expected. Please change the shape of y to (n_samples,), for example using ravel().\n",
      "  model.fit(xtrain,ytrain)\n"
     ]
    },
    {
     "name": "stderr",
     "output_type": "stream",
     "text": [
      "<ipython-input-150-f20b9c00d5af>:3: DataConversionWarning: A column-vector y was passed when a 1d array was expected. Please change the shape of y to (n_samples,), for example using ravel().\n",
      "  model.fit(xtrain,ytrain)\n",
      "<ipython-input-150-f20b9c00d5af>:3: DataConversionWarning: A column-vector y was passed when a 1d array was expected. Please change the shape of y to (n_samples,), for example using ravel().\n",
      "  model.fit(xtrain,ytrain)\n",
      "<ipython-input-150-f20b9c00d5af>:3: DataConversionWarning: A column-vector y was passed when a 1d array was expected. Please change the shape of y to (n_samples,), for example using ravel().\n",
      "  model.fit(xtrain,ytrain)\n",
      "<ipython-input-150-f20b9c00d5af>:3: DataConversionWarning: A column-vector y was passed when a 1d array was expected. Please change the shape of y to (n_samples,), for example using ravel().\n",
      "  model.fit(xtrain,ytrain)\n",
      "<ipython-input-150-f20b9c00d5af>:3: DataConversionWarning: A column-vector y was passed when a 1d array was expected. Please change the shape of y to (n_samples,), for example using ravel().\n",
      "  model.fit(xtrain,ytrain)\n",
      "<ipython-input-150-f20b9c00d5af>:3: DataConversionWarning: A column-vector y was passed when a 1d array was expected. Please change the shape of y to (n_samples,), for example using ravel().\n",
      "  model.fit(xtrain,ytrain)\n",
      "<ipython-input-150-f20b9c00d5af>:3: DataConversionWarning: A column-vector y was passed when a 1d array was expected. Please change the shape of y to (n_samples,), for example using ravel().\n",
      "  model.fit(xtrain,ytrain)\n",
      "<ipython-input-150-f20b9c00d5af>:3: DataConversionWarning: A column-vector y was passed when a 1d array was expected. Please change the shape of y to (n_samples,), for example using ravel().\n",
      "  model.fit(xtrain,ytrain)\n",
      "<ipython-input-150-f20b9c00d5af>:3: DataConversionWarning: A column-vector y was passed when a 1d array was expected. Please change the shape of y to (n_samples,), for example using ravel().\n",
      "  model.fit(xtrain,ytrain)\n",
      "<ipython-input-150-f20b9c00d5af>:3: DataConversionWarning: A column-vector y was passed when a 1d array was expected. Please change the shape of y to (n_samples,), for example using ravel().\n",
      "  model.fit(xtrain,ytrain)\n",
      "<ipython-input-150-f20b9c00d5af>:3: DataConversionWarning: A column-vector y was passed when a 1d array was expected. Please change the shape of y to (n_samples,), for example using ravel().\n",
      "  model.fit(xtrain,ytrain)\n"
     ]
    },
    {
     "data": {
      "image/png": "[encoded data removed]",
      "text/plain": [
       "<Figure size 432x288 with 1 Axes>"
      ]
     },
     "metadata": {
      "needs_background": "light"
     },
     "output_type": "display_data"
    }
   ],
   "source": [
    "max_depth = []\n",
    "acc_gini = []\n",
    "acc_entropy = []\n",
    "for i in range(1,50):\n",
    "    accuracy=doExperiment(xs,ys,RandomForestClassifier(criterion='gini', max_depth=i))\n",
    "    acc_gini.append(accuracy)\n",
    "\n",
    "    accuracy=doExperiment(xs,ys,DecisionTreeClassifier(criterion='entropy', max_depth=i))\n",
    "    acc_entropy.append(accuracy)\n",
    "    \n",
    "    max_depth.append(i)\n",
    "\n",
    "e = pd.DataFrame({'acc_gini':pd.Series(acc_gini), \n",
    "                  'acc_entropy':pd.Series(acc_entropy),\n",
    "                  'max_depth':pd.Series(max_depth)})\n",
    "\n",
    "visualizeR(e)"
   ]
  },
  {
   "cell_type": "code",
   "execution_count": 157,
   "metadata": {},
   "outputs": [
    {
     "name": "stdout",
     "output_type": "stream",
     "text": [
      "Maximum accuracy in Random Forest Model:  0.8306010928961749\n",
      "For the maximum accuracy, max_depth:  38\n"
     ]
    }
   ],
   "source": [
    "if max(acc_gini) > max(acc_entropy):\n",
    "    method='gini'\n",
    "    depth=acc_gini.index(max(acc_gini))+1\n",
    "    print('Maximum accuracy in Random Forest Model: ', max(acc_gini))\n",
    "    print('For the maximum accuracy, max_depth: ',acc_gini.index(max(acc_gini))+1)\n",
    "else:\n",
    "    method='entropy'\n",
    "    depth=acc_entropy.index(max(acc_entropy))+1\n",
    "    print('Maximum accuracy in Random Forest Model: ', max(acc_entropy))\n",
    "    print('For the maximum accuracy, max_depth: ',acc_entropy.index(max(acc_entropy))+1)"
   ]
  },
  {
   "cell_type": "code",
   "execution_count": 158,
   "metadata": {},
   "outputs": [
    {
     "name": "stdout",
     "output_type": "stream",
     "text": [
      "95% Confidence Interval of Accuracy Score:\n"
     ]
    },
    {
     "name": "stderr",
     "output_type": "stream",
     "text": [
      "<ipython-input-150-f20b9c00d5af>:3: DataConversionWarning: A column-vector y was passed when a 1d array was expected. Please change the shape of y to (n_samples,), for example using ravel().\n",
      "  model.fit(xtrain,ytrain)\n",
      "<ipython-input-150-f20b9c00d5af>:3: DataConversionWarning: A column-vector y was passed when a 1d array was expected. Please change the shape of y to (n_samples,), for example using ravel().\n",
      "  model.fit(xtrain,ytrain)\n",
      "<ipython-input-150-f20b9c00d5af>:3: DataConversionWarning: A column-vector y was passed when a 1d array was expected. Please change the shape of y to (n_samples,), for example using ravel().\n",
      "  model.fit(xtrain,ytrain)\n",
      "<ipython-input-150-f20b9c00d5af>:3: DataConversionWarning: A column-vector y was passed when a 1d array was expected. Please change the shape of y to (n_samples,), for example using ravel().\n",
      "  model.fit(xtrain,ytrain)\n",
      "<ipython-input-150-f20b9c00d5af>:3: DataConversionWarning: A column-vector y was passed when a 1d array was expected. Please change the shape of y to (n_samples,), for example using ravel().\n",
      "  model.fit(xtrain,ytrain)\n"
     ]
    },
    {
     "data": {
      "text/plain": [
       "(0.7833582242441218, 0.7882264752094302)"
      ]
     },
     "execution_count": 158,
     "metadata": {},
     "output_type": "execute_result"
    }
   ],
   "source": [
    "print('95% Confidence Interval of Accuracy Score:')\n",
    "accuracies = np.array([doExperiment( xs,\n",
    "                                     ys,\n",
    "                                     RandomForestClassifier(criterion=method,max_depth=depth))\n",
    "                        for i in range(N)])\n",
    "t.interval(0.95,N-1,loc=accuracies.mean(),scale=accuracies.var())"
   ]
  },
  {
   "cell_type": "markdown",
   "metadata": {},
   "source": [
    "## c. XGBoost "
   ]
  },
  {
   "cell_type": "code",
   "execution_count": 159,
   "metadata": {},
   "outputs": [
    {
     "name": "stderr",
     "output_type": "stream",
     "text": [
      "/Users/burak.cakan/opt/anaconda3/lib/python3.8/site-packages/xgboost/sklearn.py:1146: UserWarning: The use of label encoder in XGBClassifier is deprecated and will be removed in a future release. To remove this warning, do the following: 1) Pass option use_label_encoder=False when constructing XGBClassifier object; and 2) Encode your labels (y) as integers starting with 0, i.e. 0, 1, 2, ..., [num_class - 1].\n",
      "  warnings.warn(label_encoder_deprecation_msg, UserWarning)\n",
      "/Users/burak.cakan/opt/anaconda3/lib/python3.8/site-packages/sklearn/utils/validation.py:63: DataConversionWarning: A column-vector y was passed when a 1d array was expected. Please change the shape of y to (n_samples, ), for example using ravel().\n",
      "  return f(*args, **kwargs)\n"
     ]
    },
    {
     "name": "stdout",
     "output_type": "stream",
     "text": [
      "[13:01:47] WARNING: /Users/travis/build/dmlc/xgboost/src/learner.cc:1095: Starting in XGBoost 1.3.0, the default evaluation metric used with the objective 'multi:softprob' was changed from 'merror' to 'mlogloss'. Explicitly set eval_metric if you'd like to restore the old behavior.\n"
     ]
    },
    {
     "name": "stderr",
     "output_type": "stream",
     "text": [
      "/Users/burak.cakan/opt/anaconda3/lib/python3.8/site-packages/xgboost/sklearn.py:1146: UserWarning: The use of label encoder in XGBClassifier is deprecated and will be removed in a future release. To remove this warning, do the following: 1) Pass option use_label_encoder=False when constructing XGBClassifier object; and 2) Encode your labels (y) as integers starting with 0, i.e. 0, 1, 2, ..., [num_class - 1].\n",
      "  warnings.warn(label_encoder_deprecation_msg, UserWarning)\n",
      "/Users/burak.cakan/opt/anaconda3/lib/python3.8/site-packages/sklearn/utils/validation.py:63: DataConversionWarning: A column-vector y was passed when a 1d array was expected. Please change the shape of y to (n_samples, ), for example using ravel().\n",
      "  return f(*args, **kwargs)\n"
     ]
    },
    {
     "name": "stdout",
     "output_type": "stream",
     "text": [
      "[13:01:47] WARNING: /Users/travis/build/dmlc/xgboost/src/learner.cc:1095: Starting in XGBoost 1.3.0, the default evaluation metric used with the objective 'multi:softprob' was changed from 'merror' to 'mlogloss'. Explicitly set eval_metric if you'd like to restore the old behavior.\n"
     ]
    },
    {
     "name": "stderr",
     "output_type": "stream",
     "text": [
      "/Users/burak.cakan/opt/anaconda3/lib/python3.8/site-packages/xgboost/sklearn.py:1146: UserWarning: The use of label encoder in XGBClassifier is deprecated and will be removed in a future release. To remove this warning, do the following: 1) Pass option use_label_encoder=False when constructing XGBClassifier object; and 2) Encode your labels (y) as integers starting with 0, i.e. 0, 1, 2, ..., [num_class - 1].\n",
      "  warnings.warn(label_encoder_deprecation_msg, UserWarning)\n",
      "/Users/burak.cakan/opt/anaconda3/lib/python3.8/site-packages/sklearn/utils/validation.py:63: DataConversionWarning: A column-vector y was passed when a 1d array was expected. Please change the shape of y to (n_samples, ), for example using ravel().\n",
      "  return f(*args, **kwargs)\n"
     ]
    },
    {
     "name": "stdout",
     "output_type": "stream",
     "text": [
      "[13:01:47] WARNING: /Users/travis/build/dmlc/xgboost/src/learner.cc:1095: Starting in XGBoost 1.3.0, the default evaluation metric used with the objective 'multi:softprob' was changed from 'merror' to 'mlogloss'. Explicitly set eval_metric if you'd like to restore the old behavior.\n"
     ]
    },
    {
     "name": "stderr",
     "output_type": "stream",
     "text": [
      "/Users/burak.cakan/opt/anaconda3/lib/python3.8/site-packages/xgboost/sklearn.py:1146: UserWarning: The use of label encoder in XGBClassifier is deprecated and will be removed in a future release. To remove this warning, do the following: 1) Pass option use_label_encoder=False when constructing XGBClassifier object; and 2) Encode your labels (y) as integers starting with 0, i.e. 0, 1, 2, ..., [num_class - 1].\n",
      "  warnings.warn(label_encoder_deprecation_msg, UserWarning)\n",
      "/Users/burak.cakan/opt/anaconda3/lib/python3.8/site-packages/sklearn/utils/validation.py:63: DataConversionWarning: A column-vector y was passed when a 1d array was expected. Please change the shape of y to (n_samples, ), for example using ravel().\n",
      "  return f(*args, **kwargs)\n"
     ]
    },
    {
     "name": "stdout",
     "output_type": "stream",
     "text": [
      "[13:01:48] WARNING: /Users/travis/build/dmlc/xgboost/src/learner.cc:1095: Starting in XGBoost 1.3.0, the default evaluation metric used with the objective 'multi:softprob' was changed from 'merror' to 'mlogloss'. Explicitly set eval_metric if you'd like to restore the old behavior.\n"
     ]
    },
    {
     "name": "stderr",
     "output_type": "stream",
     "text": [
      "/Users/burak.cakan/opt/anaconda3/lib/python3.8/site-packages/xgboost/sklearn.py:1146: UserWarning: The use of label encoder in XGBClassifier is deprecated and will be removed in a future release. To remove this warning, do the following: 1) Pass option use_label_encoder=False when constructing XGBClassifier object; and 2) Encode your labels (y) as integers starting with 0, i.e. 0, 1, 2, ..., [num_class - 1].\n",
      "  warnings.warn(label_encoder_deprecation_msg, UserWarning)\n",
      "/Users/burak.cakan/opt/anaconda3/lib/python3.8/site-packages/sklearn/utils/validation.py:63: DataConversionWarning: A column-vector y was passed when a 1d array was expected. Please change the shape of y to (n_samples, ), for example using ravel().\n",
      "  return f(*args, **kwargs)\n"
     ]
    },
    {
     "name": "stdout",
     "output_type": "stream",
     "text": [
      "[13:01:48] WARNING: /Users/travis/build/dmlc/xgboost/src/learner.cc:1095: Starting in XGBoost 1.3.0, the default evaluation metric used with the objective 'multi:softprob' was changed from 'merror' to 'mlogloss'. Explicitly set eval_metric if you'd like to restore the old behavior.\n"
     ]
    },
    {
     "data": {
      "text/plain": [
       "(0.7361676447262128, 0.7370563989896343)"
      ]
     },
     "execution_count": 159,
     "metadata": {},
     "output_type": "execute_result"
    }
   ],
   "source": [
    "accuracies = np.array([doExperiment(xs,\n",
    "                                     ys,\n",
    "                                     xgb.XGBClassifier())\n",
    "                        for i in range(N)])\n",
    "t.interval(0.95,N-1,loc=accuracies.mean(),scale=accuracies.var())"
   ]
  },
  {
   "cell_type": "markdown",
   "metadata": {},
   "source": [
    "According to three models for the prediction of weather, Random Forest had a slightly better performance than other two models."
   ]
  },
  {
   "cell_type": "markdown",
   "metadata": {},
   "source": [
    "# Prediction of the number of bikes:"
   ]
  },
  {
   "cell_type": "markdown",
   "metadata": {},
   "source": [
    "Casual and registered are dependent variables to the target variable (cnt). That's why, I excluded them. \n",
    "Because I was aiming to predict a continous and numeric response (cnt), I decided to regressors instead of classifiers."
   ]
  },
  {
   "cell_type": "code",
   "execution_count": 207,
   "metadata": {},
   "outputs": [],
   "source": [
    "def doExperiment2(xs,ys,model,ts=0.25):\n",
    "    xtrain,xtest,ytrain,ytest = train_test_split(xs,ys,test_size=ts)\n",
    "    model.fit(xtrain,ytrain)\n",
    "    return model.score(xtest,ytest)"
   ]
  },
  {
   "cell_type": "markdown",
   "metadata": {},
   "source": [
    "According to my research, model.score calculates R2 score when the regressors are used."
   ]
  },
  {
   "cell_type": "code",
   "execution_count": 11,
   "metadata": {},
   "outputs": [],
   "source": [
    "def visualizeR(dataset):\n",
    "    plt.plot('max_depth','acc_values', data=dataset, label='score')\n",
    "    plt.xlabel('max_depth')\n",
    "    plt.ylabel('accuracy')\n",
    "    plt.legend()"
   ]
  },
  {
   "cell_type": "code",
   "execution_count": 10,
   "metadata": {},
   "outputs": [],
   "source": [
    "def depthSelect(accuracy_val):\n",
    "    depth=accuracy_val.index(max(accuracy_val))+1\n",
    "    print('Maximum score in Desicion Tree Regression: ', max(accuracy_val))\n",
    "    print('For the maximum score, max_depth: ',accuracy_val.index(max(accuracy_val))+1)\n",
    "    return depth"
   ]
  },
  {
   "cell_type": "code",
   "execution_count": 164,
   "metadata": {},
   "outputs": [],
   "source": [
    "bike['yr']=bike['yr']+17\n",
    "bike['holiday']=bike['holiday']+19\n",
    "bike['weekday']=bike['weekday']+21\n",
    "bike['workingday']=bike['workingday']+28\n",
    "bike['weathersit']=bike['weathersit']+30\n",
    "\n",
    "features=['temp','atemp','hum','windspeed'] \n",
    "target=['cnt']\n",
    "\n",
    "xs=pd.concat([pd.get_dummies(bike['season']),pd.get_dummies(bike['yr']), \n",
    "              pd.get_dummies(bike['mnth']),pd.get_dummies(bike['holiday']),\n",
    "              pd.get_dummies(bike['weekday']),pd.get_dummies(bike['workingday']),\n",
    "              pd.get_dummies(bike['weathersit']),bike[features]],axis=1)\n",
    "ys=bike[target]"
   ]
  },
  {
   "cell_type": "markdown",
   "metadata": {},
   "source": [
    "## a. Decision Tree Model: "
   ]
  },
  {
   "cell_type": "code",
   "execution_count": 165,
   "metadata": {},
   "outputs": [
    {
     "data": {
      "image/png": "[encoded data removed]",
      "text/plain": [
       "<Figure size 432x288 with 1 Axes>"
      ]
     },
     "metadata": {
      "needs_background": "light"
     },
     "output_type": "display_data"
    }
   ],
   "source": [
    "max_depth = []\n",
    "acc_values = []\n",
    "for i in range(1,50):\n",
    "    accuracy=doExperiment2(xs,ys,DecisionTreeRegressor(max_depth=i))\n",
    "    acc_values.append(accuracy)\n",
    "    max_depth.append(i)\n",
    "\n",
    "d = pd.DataFrame({'acc_values':pd.Series(acc_values),'max_depth':pd.Series(max_depth)})\n",
    "visualizeR(d)"
   ]
  },
  {
   "cell_type": "code",
   "execution_count": 166,
   "metadata": {},
   "outputs": [
    {
     "name": "stdout",
     "output_type": "stream",
     "text": [
      "Maximum score in Desicion Tree Regression:  0.8257985674075198\n",
      "For the maximum score, max_depth:  44\n"
     ]
    }
   ],
   "source": [
    "depth = depthSelect(acc_values)"
   ]
  },
  {
   "cell_type": "code",
   "execution_count": 168,
   "metadata": {},
   "outputs": [
    {
     "name": "stdout",
     "output_type": "stream",
     "text": [
      "95% Confidence Interval of Model Score:\n"
     ]
    },
    {
     "data": {
      "text/plain": [
       "(0.7390515770744094, 0.7593091398289759)"
      ]
     },
     "execution_count": 168,
     "metadata": {},
     "output_type": "execute_result"
    }
   ],
   "source": [
    "print('95% Confidence Interval of Model Score:')\n",
    "accuracies = np.array([doExperiment2( xs,\n",
    "                                     ys,\n",
    "                                     DecisionTreeRegressor(max_depth=depth))\n",
    "                        for i in range(N)])\n",
    "t.interval(0.95,N-1,loc=accuracies.mean(),scale=accuracies.var())"
   ]
  },
  {
   "cell_type": "markdown",
   "metadata": {},
   "source": [
    "## b. Random Forest Model:"
   ]
  },
  {
   "cell_type": "code",
   "execution_count": 169,
   "metadata": {},
   "outputs": [
    {
     "name": "stderr",
     "output_type": "stream",
     "text": [
      "<ipython-input-161-bd586ea02bf8>:3: DataConversionWarning: A column-vector y was passed when a 1d array was expected. Please change the shape of y to (n_samples,), for example using ravel().\n",
      "  model.fit(xtrain,ytrain)\n",
      "<ipython-input-161-bd586ea02bf8>:3: DataConversionWarning: A column-vector y was passed when a 1d array was expected. Please change the shape of y to (n_samples,), for example using ravel().\n",
      "  model.fit(xtrain,ytrain)\n",
      "<ipython-input-161-bd586ea02bf8>:3: DataConversionWarning: A column-vector y was passed when a 1d array was expected. Please change the shape of y to (n_samples,), for example using ravel().\n",
      "  model.fit(xtrain,ytrain)\n",
      "<ipython-input-161-bd586ea02bf8>:3: DataConversionWarning: A column-vector y was passed when a 1d array was expected. Please change the shape of y to (n_samples,), for example using ravel().\n",
      "  model.fit(xtrain,ytrain)\n",
      "<ipython-input-161-bd586ea02bf8>:3: DataConversionWarning: A column-vector y was passed when a 1d array was expected. Please change the shape of y to (n_samples,), for example using ravel().\n",
      "  model.fit(xtrain,ytrain)\n",
      "<ipython-input-161-bd586ea02bf8>:3: DataConversionWarning: A column-vector y was passed when a 1d array was expected. Please change the shape of y to (n_samples,), for example using ravel().\n",
      "  model.fit(xtrain,ytrain)\n",
      "<ipython-input-161-bd586ea02bf8>:3: DataConversionWarning: A column-vector y was passed when a 1d array was expected. Please change the shape of y to (n_samples,), for example using ravel().\n",
      "  model.fit(xtrain,ytrain)\n",
      "<ipython-input-161-bd586ea02bf8>:3: DataConversionWarning: A column-vector y was passed when a 1d array was expected. Please change the shape of y to (n_samples,), for example using ravel().\n",
      "  model.fit(xtrain,ytrain)\n",
      "<ipython-input-161-bd586ea02bf8>:3: DataConversionWarning: A column-vector y was passed when a 1d array was expected. Please change the shape of y to (n_samples,), for example using ravel().\n",
      "  model.fit(xtrain,ytrain)\n",
      "<ipython-input-161-bd586ea02bf8>:3: DataConversionWarning: A column-vector y was passed when a 1d array was expected. Please change the shape of y to (n_samples,), for example using ravel().\n",
      "  model.fit(xtrain,ytrain)\n",
      "<ipython-input-161-bd586ea02bf8>:3: DataConversionWarning: A column-vector y was passed when a 1d array was expected. Please change the shape of y to (n_samples,), for example using ravel().\n",
      "  model.fit(xtrain,ytrain)\n",
      "<ipython-input-161-bd586ea02bf8>:3: DataConversionWarning: A column-vector y was passed when a 1d array was expected. Please change the shape of y to (n_samples,), for example using ravel().\n",
      "  model.fit(xtrain,ytrain)\n",
      "<ipython-input-161-bd586ea02bf8>:3: DataConversionWarning: A column-vector y was passed when a 1d array was expected. Please change the shape of y to (n_samples,), for example using ravel().\n",
      "  model.fit(xtrain,ytrain)\n",
      "<ipython-input-161-bd586ea02bf8>:3: DataConversionWarning: A column-vector y was passed when a 1d array was expected. Please change the shape of y to (n_samples,), for example using ravel().\n",
      "  model.fit(xtrain,ytrain)\n",
      "<ipython-input-161-bd586ea02bf8>:3: DataConversionWarning: A column-vector y was passed when a 1d array was expected. Please change the shape of y to (n_samples,), for example using ravel().\n",
      "  model.fit(xtrain,ytrain)\n",
      "<ipython-input-161-bd586ea02bf8>:3: DataConversionWarning: A column-vector y was passed when a 1d array was expected. Please change the shape of y to (n_samples,), for example using ravel().\n",
      "  model.fit(xtrain,ytrain)\n",
      "<ipython-input-161-bd586ea02bf8>:3: DataConversionWarning: A column-vector y was passed when a 1d array was expected. Please change the shape of y to (n_samples,), for example using ravel().\n",
      "  model.fit(xtrain,ytrain)\n",
      "<ipython-input-161-bd586ea02bf8>:3: DataConversionWarning: A column-vector y was passed when a 1d array was expected. Please change the shape of y to (n_samples,), for example using ravel().\n",
      "  model.fit(xtrain,ytrain)\n",
      "<ipython-input-161-bd586ea02bf8>:3: DataConversionWarning: A column-vector y was passed when a 1d array was expected. Please change the shape of y to (n_samples,), for example using ravel().\n",
      "  model.fit(xtrain,ytrain)\n",
      "<ipython-input-161-bd586ea02bf8>:3: DataConversionWarning: A column-vector y was passed when a 1d array was expected. Please change the shape of y to (n_samples,), for example using ravel().\n",
      "  model.fit(xtrain,ytrain)\n",
      "<ipython-input-161-bd586ea02bf8>:3: DataConversionWarning: A column-vector y was passed when a 1d array was expected. Please change the shape of y to (n_samples,), for example using ravel().\n",
      "  model.fit(xtrain,ytrain)\n",
      "<ipython-input-161-bd586ea02bf8>:3: DataConversionWarning: A column-vector y was passed when a 1d array was expected. Please change the shape of y to (n_samples,), for example using ravel().\n",
      "  model.fit(xtrain,ytrain)\n",
      "<ipython-input-161-bd586ea02bf8>:3: DataConversionWarning: A column-vector y was passed when a 1d array was expected. Please change the shape of y to (n_samples,), for example using ravel().\n",
      "  model.fit(xtrain,ytrain)\n",
      "<ipython-input-161-bd586ea02bf8>:3: DataConversionWarning: A column-vector y was passed when a 1d array was expected. Please change the shape of y to (n_samples,), for example using ravel().\n",
      "  model.fit(xtrain,ytrain)\n",
      "<ipython-input-161-bd586ea02bf8>:3: DataConversionWarning: A column-vector y was passed when a 1d array was expected. Please change the shape of y to (n_samples,), for example using ravel().\n",
      "  model.fit(xtrain,ytrain)\n",
      "<ipython-input-161-bd586ea02bf8>:3: DataConversionWarning: A column-vector y was passed when a 1d array was expected. Please change the shape of y to (n_samples,), for example using ravel().\n",
      "  model.fit(xtrain,ytrain)\n",
      "<ipython-input-161-bd586ea02bf8>:3: DataConversionWarning: A column-vector y was passed when a 1d array was expected. Please change the shape of y to (n_samples,), for example using ravel().\n",
      "  model.fit(xtrain,ytrain)\n",
      "<ipython-input-161-bd586ea02bf8>:3: DataConversionWarning: A column-vector y was passed when a 1d array was expected. Please change the shape of y to (n_samples,), for example using ravel().\n",
      "  model.fit(xtrain,ytrain)\n",
      "<ipython-input-161-bd586ea02bf8>:3: DataConversionWarning: A column-vector y was passed when a 1d array was expected. Please change the shape of y to (n_samples,), for example using ravel().\n",
      "  model.fit(xtrain,ytrain)\n",
      "<ipython-input-161-bd586ea02bf8>:3: DataConversionWarning: A column-vector y was passed when a 1d array was expected. Please change the shape of y to (n_samples,), for example using ravel().\n",
      "  model.fit(xtrain,ytrain)\n",
      "<ipython-input-161-bd586ea02bf8>:3: DataConversionWarning: A column-vector y was passed when a 1d array was expected. Please change the shape of y to (n_samples,), for example using ravel().\n",
      "  model.fit(xtrain,ytrain)\n",
      "<ipython-input-161-bd586ea02bf8>:3: DataConversionWarning: A column-vector y was passed when a 1d array was expected. Please change the shape of y to (n_samples,), for example using ravel().\n",
      "  model.fit(xtrain,ytrain)\n",
      "<ipython-input-161-bd586ea02bf8>:3: DataConversionWarning: A column-vector y was passed when a 1d array was expected. Please change the shape of y to (n_samples,), for example using ravel().\n",
      "  model.fit(xtrain,ytrain)\n",
      "<ipython-input-161-bd586ea02bf8>:3: DataConversionWarning: A column-vector y was passed when a 1d array was expected. Please change the shape of y to (n_samples,), for example using ravel().\n",
      "  model.fit(xtrain,ytrain)\n",
      "<ipython-input-161-bd586ea02bf8>:3: DataConversionWarning: A column-vector y was passed when a 1d array was expected. Please change the shape of y to (n_samples,), for example using ravel().\n",
      "  model.fit(xtrain,ytrain)\n",
      "<ipython-input-161-bd586ea02bf8>:3: DataConversionWarning: A column-vector y was passed when a 1d array was expected. Please change the shape of y to (n_samples,), for example using ravel().\n",
      "  model.fit(xtrain,ytrain)\n",
      "<ipython-input-161-bd586ea02bf8>:3: DataConversionWarning: A column-vector y was passed when a 1d array was expected. Please change the shape of y to (n_samples,), for example using ravel().\n",
      "  model.fit(xtrain,ytrain)\n",
      "<ipython-input-161-bd586ea02bf8>:3: DataConversionWarning: A column-vector y was passed when a 1d array was expected. Please change the shape of y to (n_samples,), for example using ravel().\n",
      "  model.fit(xtrain,ytrain)\n"
     ]
    },
    {
     "name": "stderr",
     "output_type": "stream",
     "text": [
      "<ipython-input-161-bd586ea02bf8>:3: DataConversionWarning: A column-vector y was passed when a 1d array was expected. Please change the shape of y to (n_samples,), for example using ravel().\n",
      "  model.fit(xtrain,ytrain)\n",
      "<ipython-input-161-bd586ea02bf8>:3: DataConversionWarning: A column-vector y was passed when a 1d array was expected. Please change the shape of y to (n_samples,), for example using ravel().\n",
      "  model.fit(xtrain,ytrain)\n",
      "<ipython-input-161-bd586ea02bf8>:3: DataConversionWarning: A column-vector y was passed when a 1d array was expected. Please change the shape of y to (n_samples,), for example using ravel().\n",
      "  model.fit(xtrain,ytrain)\n",
      "<ipython-input-161-bd586ea02bf8>:3: DataConversionWarning: A column-vector y was passed when a 1d array was expected. Please change the shape of y to (n_samples,), for example using ravel().\n",
      "  model.fit(xtrain,ytrain)\n",
      "<ipython-input-161-bd586ea02bf8>:3: DataConversionWarning: A column-vector y was passed when a 1d array was expected. Please change the shape of y to (n_samples,), for example using ravel().\n",
      "  model.fit(xtrain,ytrain)\n",
      "<ipython-input-161-bd586ea02bf8>:3: DataConversionWarning: A column-vector y was passed when a 1d array was expected. Please change the shape of y to (n_samples,), for example using ravel().\n",
      "  model.fit(xtrain,ytrain)\n",
      "<ipython-input-161-bd586ea02bf8>:3: DataConversionWarning: A column-vector y was passed when a 1d array was expected. Please change the shape of y to (n_samples,), for example using ravel().\n",
      "  model.fit(xtrain,ytrain)\n",
      "<ipython-input-161-bd586ea02bf8>:3: DataConversionWarning: A column-vector y was passed when a 1d array was expected. Please change the shape of y to (n_samples,), for example using ravel().\n",
      "  model.fit(xtrain,ytrain)\n",
      "<ipython-input-161-bd586ea02bf8>:3: DataConversionWarning: A column-vector y was passed when a 1d array was expected. Please change the shape of y to (n_samples,), for example using ravel().\n",
      "  model.fit(xtrain,ytrain)\n",
      "<ipython-input-161-bd586ea02bf8>:3: DataConversionWarning: A column-vector y was passed when a 1d array was expected. Please change the shape of y to (n_samples,), for example using ravel().\n",
      "  model.fit(xtrain,ytrain)\n",
      "<ipython-input-161-bd586ea02bf8>:3: DataConversionWarning: A column-vector y was passed when a 1d array was expected. Please change the shape of y to (n_samples,), for example using ravel().\n",
      "  model.fit(xtrain,ytrain)\n"
     ]
    },
    {
     "data": {
      "image/png": "[encoded data removed]",
      "text/plain": [
       "<Figure size 432x288 with 1 Axes>"
      ]
     },
     "metadata": {
      "needs_background": "light"
     },
     "output_type": "display_data"
    }
   ],
   "source": [
    "max_depth = []\n",
    "acc_values = []\n",
    "for i in range(1,50):\n",
    "    accuracy=doExperiment2(xs,ys,RandomForestRegressor(max_depth=i))\n",
    "    acc_values.append(accuracy)\n",
    "    max_depth.append(i)\n",
    "\n",
    "d = pd.DataFrame({'acc_values':pd.Series(acc_values),'max_depth':pd.Series(max_depth)})\n",
    "\n",
    "visualizeR(d)"
   ]
  },
  {
   "cell_type": "code",
   "execution_count": 170,
   "metadata": {},
   "outputs": [
    {
     "name": "stdout",
     "output_type": "stream",
     "text": [
      "Maximum score in Desicion Tree Regression:  0.9095475093031143\n",
      "For the maximum score, max_depth:  15\n"
     ]
    }
   ],
   "source": [
    "depth = depthSelect(acc_values)"
   ]
  },
  {
   "cell_type": "code",
   "execution_count": 171,
   "metadata": {},
   "outputs": [
    {
     "name": "stdout",
     "output_type": "stream",
     "text": [
      "95% Confidence Interval of Model Score:\n"
     ]
    },
    {
     "data": {
      "text/plain": [
       "(0.7582645806937277, 0.7679557645048553)"
      ]
     },
     "execution_count": 171,
     "metadata": {},
     "output_type": "execute_result"
    }
   ],
   "source": [
    "print('95% Confidence Interval of Model Score:')\n",
    "accuracies = np.array([doExperiment2( xs,\n",
    "                                      ys,\n",
    "                                      DecisionTreeRegressor(max_depth=depth))\n",
    "                        for i in range(N)])\n",
    "t.interval(0.95,N-1,loc=accuracies.mean(),scale=accuracies.var())"
   ]
  },
  {
   "cell_type": "markdown",
   "metadata": {},
   "source": [
    "## c. XGBoost Model: "
   ]
  },
  {
   "cell_type": "code",
   "execution_count": 135,
   "metadata": {},
   "outputs": [
    {
     "data": {
      "text/plain": [
       "(0.8777788790463982, 0.879259655781098)"
      ]
     },
     "execution_count": 135,
     "metadata": {},
     "output_type": "execute_result"
    }
   ],
   "source": [
    "accuracies = np.array([doExperiment2( xs,\n",
    "                                     ys,\n",
    "                                     xgb.XGBRegressor())\n",
    "                        for i in range(N)])\n",
    "t.interval(0.95,N-1,loc=accuracies.mean(),scale=accuracies.var())"
   ]
  },
  {
   "cell_type": "markdown",
   "metadata": {},
   "source": [
    "According to the models above for count of bikes, XGBoost performed better than other models."
   ]
  },
  {
   "cell_type": "markdown",
   "metadata": {},
   "source": [
    "## 2. Education datataset\n",
    "\n",
    "This dataset is taken from [Kaggle](https://www.kaggle.com/spscientist/students-performance-in-exams). For this dataset, construct a decision tree regression and a XGBoost regression model to predict\n",
    "\n",
    "1. math score\n",
    "2. reading score\n",
    "3. writing score\n",
    "\n",
    "Beware: you might have to transform the data first before you train and test your models."
   ]
  },
  {
   "cell_type": "code",
   "execution_count": 346,
   "metadata": {},
   "outputs": [
    {
     "data": {
      "text/html": [
       "<div>\n",
       "<style scoped>\n",
       "    .dataframe tbody tr th:only-of-type {\n",
       "        vertical-align: middle;\n",
       "    }\n",
       "\n",
       "    .dataframe tbody tr th {\n",
       "        vertical-align: top;\n",
       "    }\n",
       "\n",
       "    .dataframe thead th {\n",
       "        text-align: right;\n",
       "    }\n",
       "</style>\n",
       "<table border=\"1\" class=\"dataframe\">\n",
       "  <thead>\n",
       "    <tr style=\"text-align: right;\">\n",
       "      <th></th>\n",
       "      <th>gender</th>\n",
       "      <th>race/ethnicity</th>\n",
       "      <th>parental level of education</th>\n",
       "      <th>lunch</th>\n",
       "      <th>test preparation course</th>\n",
       "      <th>math score</th>\n",
       "      <th>reading score</th>\n",
       "      <th>writing score</th>\n",
       "    </tr>\n",
       "  </thead>\n",
       "  <tbody>\n",
       "    <tr>\n",
       "      <th>0</th>\n",
       "      <td>female</td>\n",
       "      <td>group B</td>\n",
       "      <td>bachelor's degree</td>\n",
       "      <td>standard</td>\n",
       "      <td>none</td>\n",
       "      <td>72</td>\n",
       "      <td>72</td>\n",
       "      <td>74</td>\n",
       "    </tr>\n",
       "    <tr>\n",
       "      <th>1</th>\n",
       "      <td>female</td>\n",
       "      <td>group C</td>\n",
       "      <td>some college</td>\n",
       "      <td>standard</td>\n",
       "      <td>completed</td>\n",
       "      <td>69</td>\n",
       "      <td>90</td>\n",
       "      <td>88</td>\n",
       "    </tr>\n",
       "    <tr>\n",
       "      <th>2</th>\n",
       "      <td>female</td>\n",
       "      <td>group B</td>\n",
       "      <td>master's degree</td>\n",
       "      <td>standard</td>\n",
       "      <td>none</td>\n",
       "      <td>90</td>\n",
       "      <td>95</td>\n",
       "      <td>93</td>\n",
       "    </tr>\n",
       "    <tr>\n",
       "      <th>3</th>\n",
       "      <td>male</td>\n",
       "      <td>group A</td>\n",
       "      <td>associate's degree</td>\n",
       "      <td>free/reduced</td>\n",
       "      <td>none</td>\n",
       "      <td>47</td>\n",
       "      <td>57</td>\n",
       "      <td>44</td>\n",
       "    </tr>\n",
       "    <tr>\n",
       "      <th>4</th>\n",
       "      <td>male</td>\n",
       "      <td>group C</td>\n",
       "      <td>some college</td>\n",
       "      <td>standard</td>\n",
       "      <td>none</td>\n",
       "      <td>76</td>\n",
       "      <td>78</td>\n",
       "      <td>75</td>\n",
       "    </tr>\n",
       "    <tr>\n",
       "      <th>...</th>\n",
       "      <td>...</td>\n",
       "      <td>...</td>\n",
       "      <td>...</td>\n",
       "      <td>...</td>\n",
       "      <td>...</td>\n",
       "      <td>...</td>\n",
       "      <td>...</td>\n",
       "      <td>...</td>\n",
       "    </tr>\n",
       "    <tr>\n",
       "      <th>995</th>\n",
       "      <td>female</td>\n",
       "      <td>group E</td>\n",
       "      <td>master's degree</td>\n",
       "      <td>standard</td>\n",
       "      <td>completed</td>\n",
       "      <td>88</td>\n",
       "      <td>99</td>\n",
       "      <td>95</td>\n",
       "    </tr>\n",
       "    <tr>\n",
       "      <th>996</th>\n",
       "      <td>male</td>\n",
       "      <td>group C</td>\n",
       "      <td>high school</td>\n",
       "      <td>free/reduced</td>\n",
       "      <td>none</td>\n",
       "      <td>62</td>\n",
       "      <td>55</td>\n",
       "      <td>55</td>\n",
       "    </tr>\n",
       "    <tr>\n",
       "      <th>997</th>\n",
       "      <td>female</td>\n",
       "      <td>group C</td>\n",
       "      <td>high school</td>\n",
       "      <td>free/reduced</td>\n",
       "      <td>completed</td>\n",
       "      <td>59</td>\n",
       "      <td>71</td>\n",
       "      <td>65</td>\n",
       "    </tr>\n",
       "    <tr>\n",
       "      <th>998</th>\n",
       "      <td>female</td>\n",
       "      <td>group D</td>\n",
       "      <td>some college</td>\n",
       "      <td>standard</td>\n",
       "      <td>completed</td>\n",
       "      <td>68</td>\n",
       "      <td>78</td>\n",
       "      <td>77</td>\n",
       "    </tr>\n",
       "    <tr>\n",
       "      <th>999</th>\n",
       "      <td>female</td>\n",
       "      <td>group D</td>\n",
       "      <td>some college</td>\n",
       "      <td>free/reduced</td>\n",
       "      <td>none</td>\n",
       "      <td>77</td>\n",
       "      <td>86</td>\n",
       "      <td>86</td>\n",
       "    </tr>\n",
       "  </tbody>\n",
       "</table>\n",
       "<p>1000 rows × 8 columns</p>\n",
       "</div>"
      ],
      "text/plain": [
       "     gender race/ethnicity parental level of education         lunch  \\\n",
       "0    female        group B           bachelor's degree      standard   \n",
       "1    female        group C                some college      standard   \n",
       "2    female        group B             master's degree      standard   \n",
       "3      male        group A          associate's degree  free/reduced   \n",
       "4      male        group C                some college      standard   \n",
       "..      ...            ...                         ...           ...   \n",
       "995  female        group E             master's degree      standard   \n",
       "996    male        group C                 high school  free/reduced   \n",
       "997  female        group C                 high school  free/reduced   \n",
       "998  female        group D                some college      standard   \n",
       "999  female        group D                some college  free/reduced   \n",
       "\n",
       "    test preparation course  math score  reading score  writing score  \n",
       "0                      none          72             72             74  \n",
       "1                 completed          69             90             88  \n",
       "2                      none          90             95             93  \n",
       "3                      none          47             57             44  \n",
       "4                      none          76             78             75  \n",
       "..                      ...         ...            ...            ...  \n",
       "995               completed          88             99             95  \n",
       "996                    none          62             55             55  \n",
       "997               completed          59             71             65  \n",
       "998               completed          68             78             77  \n",
       "999                    none          77             86             86  \n",
       "\n",
       "[1000 rows x 8 columns]"
      ]
     },
     "execution_count": 346,
     "metadata": {},
     "output_type": "execute_result"
    }
   ],
   "source": [
    "education = pd.read_csv('/Users/burak.cakan/Desktop/HW4/StudentsPerformance.csv')\n",
    "education"
   ]
  },
  {
   "cell_type": "markdown",
   "metadata": {},
   "source": [
    "At that point, I used one-hot encoding for categorical variables. Then, I decided to normalize score values because it is possible to dominate other features which are 0 or 1, with their values ranging from 0 to 100."
   ]
  },
  {
   "cell_type": "code",
   "execution_count": 347,
   "metadata": {},
   "outputs": [],
   "source": [
    "from sklearn.preprocessing import Normalizer\n",
    "yy=pd.concat([education['math score'],education['reading score'],education['writing score']],axis=1)\n",
    "transformer = Normalizer().fit(yy)  \n",
    "aa=transformer.transform(yy)\n",
    "yst_1=pd.DataFrame({'math score':aa[:,0],'reading score':aa[:,1],'writing score':aa[:,2]})\n",
    "\n",
    "ys_1=education['math score']\n",
    "ys_2=education['reading score']\n",
    "ys_3=education['writing score']\n",
    "xs=pd.concat([pd.get_dummies(education['gender']),pd.get_dummies(education['race/ethnicity']), \n",
    "              pd.get_dummies(education['parental level of education']),pd.get_dummies(education['lunch']),\n",
    "              pd.get_dummies(education['test preparation course']),yst_1['reading score'],yst_1['writing score']],axis=1)"
   ]
  },
  {
   "cell_type": "markdown",
   "metadata": {},
   "source": [
    "Accuracy measure is not so meaningful for regression models. To understand the quality of the regression models, best measures are described as r2 and adjusted r2 in literature. Hence, I modified the return value of the prediction function which is stated below. "
   ]
  },
  {
   "cell_type": "code",
   "execution_count": 25,
   "metadata": {},
   "outputs": [],
   "source": [
    "def doExperiment2(xs,ys,model,ts=0.2):\n",
    "    xtrain,xtest,ytrain,ytest = train_test_split(xs,ys,test_size=ts)\n",
    "    model.fit(xtrain,ytrain)\n",
    "    pred=model.predict(xtest)\n",
    "    #mse_val=mean_squared_error(ytest,pred,squared=True)\n",
    "    r2 = r2_score(ytest,pred)\n",
    "    #n = pred.shape[0]\n",
    "    #k = xtrain.shape[1]\n",
    "    #adj_r_sq = 1 - (1 - r2)*(n-1)/(n-1-k)\n",
    "    return r2\n"
   ]
  },
  {
   "cell_type": "markdown",
   "metadata": {},
   "source": [
    "## a. Math Score Prediction"
   ]
  },
  {
   "cell_type": "code",
   "execution_count": 349,
   "metadata": {},
   "outputs": [
    {
     "data": {
      "image/png": "[encoded data removed]",
      "text/plain": [
       "<Figure size 432x288 with 1 Axes>"
      ]
     },
     "metadata": {
      "needs_background": "light"
     },
     "output_type": "display_data"
    }
   ],
   "source": [
    "max_depth  = []\n",
    "acc_values = []\n",
    "for i in range(1,100):\n",
    "    accuracy=doExperiment2(xs,yst_1['math score'],DecisionTreeRegressor(criterion='mse', splitter='best',max_depth=i))\n",
    "    acc_values.append(accuracy)\n",
    "    max_depth.append(i)\n",
    "\n",
    "d = pd.DataFrame({'acc_values':pd.Series(acc_values),'max_depth':pd.Series(max_depth)})\n",
    "visualizeR(d)"
   ]
  },
  {
   "cell_type": "code",
   "execution_count": 350,
   "metadata": {},
   "outputs": [
    {
     "name": "stdout",
     "output_type": "stream",
     "text": [
      "Maximum score in Desicion Tree Regression:  0.9797800621731698\n",
      "For the maximum score, max_depth:  15\n"
     ]
    }
   ],
   "source": [
    "depth = depthSelect(acc_values)"
   ]
  },
  {
   "cell_type": "code",
   "execution_count": 351,
   "metadata": {},
   "outputs": [
    {
     "name": "stdout",
     "output_type": "stream",
     "text": [
      "95% Confidence Interval of Model Score:\n"
     ]
    },
    {
     "data": {
      "text/plain": [
       "(0.8427307995447183, 0.9132662581214458)"
      ]
     },
     "execution_count": 351,
     "metadata": {},
     "output_type": "execute_result"
    }
   ],
   "source": [
    "print('95% Confidence Interval of Model Score:')\n",
    "accuracies = np.array([doExperiment2( xs,\n",
    "                                      yst_1['math score'],\n",
    "                                      DecisionTreeRegressor(max_depth=depth))\n",
    "                        for i in range(N)])\n",
    "t.interval(0.95,N-1,loc=accuracies.mean(),scale=accuracies.var())"
   ]
  },
  {
   "cell_type": "code",
   "execution_count": 352,
   "metadata": {},
   "outputs": [
    {
     "data": {
      "image/png": "[encoded data removed]",
      "text/plain": [
       "<Figure size 432x288 with 1 Axes>"
      ]
     },
     "metadata": {
      "needs_background": "light"
     },
     "output_type": "display_data"
    }
   ],
   "source": [
    "max_depth = []\n",
    "acc_values = []\n",
    "for i in range(1,100):\n",
    "    accuracy=doExperiment2(xs,yst_1['math score'],xgb.XGBRegressor(max_depth=i,eta=0.1,n_estimators=1000))\n",
    "    acc_values.append(accuracy)\n",
    "    max_depth.append(i)\n",
    "\n",
    "d = pd.DataFrame({'acc_values':pd.Series(acc_values),'max_depth':pd.Series(max_depth)})\n",
    "visualizeR(d)"
   ]
  },
  {
   "cell_type": "code",
   "execution_count": 353,
   "metadata": {},
   "outputs": [
    {
     "name": "stdout",
     "output_type": "stream",
     "text": [
      "Maximum score in Desicion Tree Regression:  0.9927347491554679\n",
      "For the maximum score, max_depth:  2\n"
     ]
    }
   ],
   "source": [
    "depth = depthSelect(acc_values)"
   ]
  },
  {
   "cell_type": "code",
   "execution_count": 354,
   "metadata": {},
   "outputs": [
    {
     "data": {
      "text/plain": [
       "(0.8694745666923459, 0.9347086543025686)"
      ]
     },
     "execution_count": 354,
     "metadata": {},
     "output_type": "execute_result"
    }
   ],
   "source": [
    "accuracies = np.array([doExperiment2( xs,\n",
    "                                      yst_1['math score'],\n",
    "                                      xgb.XGBRegressor(max_depth=depth,eta=0.1,n_estimators=1000))\n",
    "                        for i in range(N)])\n",
    "t.interval(0.95,N-1,loc=accuracies.mean(),scale=accuracies.var())"
   ]
  },
  {
   "cell_type": "markdown",
   "metadata": {},
   "source": [
    "## b. Reading Score Prediction "
   ]
  },
  {
   "cell_type": "code",
   "execution_count": 355,
   "metadata": {},
   "outputs": [],
   "source": [
    "xs=pd.concat([pd.get_dummies(education['gender']),pd.get_dummies(education['race/ethnicity']), \n",
    "              pd.get_dummies(education['parental level of education']),pd.get_dummies(education['lunch']),\n",
    "              pd.get_dummies(education['test preparation course']),yst_1['math score'],yst_1['writing score']],axis=1)\n"
   ]
  },
  {
   "cell_type": "code",
   "execution_count": 356,
   "metadata": {},
   "outputs": [
    {
     "data": {
      "image/png": "[encoded data removed]",
      "text/plain": [
       "<Figure size 432x288 with 1 Axes>"
      ]
     },
     "metadata": {
      "needs_background": "light"
     },
     "output_type": "display_data"
    }
   ],
   "source": [
    "max_depth  = []\n",
    "acc_values = []\n",
    "for i in range(1,100):\n",
    "    accuracy=doExperiment2(xs,yst_1['reading score'],DecisionTreeRegressor(criterion='mse', splitter='best',max_depth=i))\n",
    "    acc_values.append(accuracy)\n",
    "    max_depth.append(i)\n",
    "\n",
    "d = pd.DataFrame({'acc_values':pd.Series(acc_values),'max_depth':pd.Series(max_depth)})\n",
    "visualizeR(d)"
   ]
  },
  {
   "cell_type": "code",
   "execution_count": 357,
   "metadata": {},
   "outputs": [
    {
     "name": "stdout",
     "output_type": "stream",
     "text": [
      "Maximum score in Desicion Tree Regression:  0.964708117215167\n",
      "For the maximum score, max_depth:  14\n"
     ]
    }
   ],
   "source": [
    "depth = depthSelect(acc_values)"
   ]
  },
  {
   "cell_type": "code",
   "execution_count": 358,
   "metadata": {},
   "outputs": [
    {
     "name": "stdout",
     "output_type": "stream",
     "text": [
      "95% Confidence Interval of Model Score:\n"
     ]
    },
    {
     "data": {
      "text/plain": [
       "(0.879596175142556, 0.8944411830074953)"
      ]
     },
     "execution_count": 358,
     "metadata": {},
     "output_type": "execute_result"
    }
   ],
   "source": [
    "print('95% Confidence Interval of Model Score:')\n",
    "accuracies = np.array([doExperiment2( xs,\n",
    "                                      yst_1['reading score'],\n",
    "                                      DecisionTreeRegressor(max_depth=depth))\n",
    "                        for i in range(N)])\n",
    "t.interval(0.95,N-1,loc=accuracies.mean(),scale=accuracies.var())"
   ]
  },
  {
   "cell_type": "code",
   "execution_count": 359,
   "metadata": {},
   "outputs": [
    {
     "data": {
      "image/png": "[encoded data removed]",
      "text/plain": [
       "<Figure size 432x288 with 1 Axes>"
      ]
     },
     "metadata": {
      "needs_background": "light"
     },
     "output_type": "display_data"
    }
   ],
   "source": [
    "max_depth = []\n",
    "acc_values = []\n",
    "for i in range(1,100):\n",
    "    accuracy=doExperiment2(xs,yst_1['reading score'],xgb.XGBRegressor(max_depth=i,eta=0.1,n_estimators=1000))\n",
    "    acc_values.append(accuracy)\n",
    "    max_depth.append(i)\n",
    "\n",
    "d = pd.DataFrame({'acc_values':pd.Series(acc_values),'max_depth':pd.Series(max_depth)})\n",
    "visualizeR(d)"
   ]
  },
  {
   "cell_type": "code",
   "execution_count": 360,
   "metadata": {},
   "outputs": [
    {
     "name": "stdout",
     "output_type": "stream",
     "text": [
      "Maximum score in Desicion Tree Regression:  0.9889406152735545\n",
      "For the maximum score, max_depth:  83\n"
     ]
    }
   ],
   "source": [
    "depth = depthSelect(acc_values)"
   ]
  },
  {
   "cell_type": "code",
   "execution_count": 361,
   "metadata": {},
   "outputs": [
    {
     "data": {
      "text/plain": [
       "(0.9424332673884555, 0.9557015941502207)"
      ]
     },
     "execution_count": 361,
     "metadata": {},
     "output_type": "execute_result"
    }
   ],
   "source": [
    "accuracies = np.array([doExperiment2( xs,\n",
    "                                      yst_1['reading score'],\n",
    "                                      xgb.XGBRegressor(max_depth=depth,eta=0.1,n_estimators=1000))\n",
    "                        for i in range(N)])\n",
    "t.interval(0.95,N-1,loc=accuracies.mean(),scale=accuracies.var())"
   ]
  },
  {
   "cell_type": "markdown",
   "metadata": {},
   "source": [
    "## Writing Score Prediction "
   ]
  },
  {
   "cell_type": "code",
   "execution_count": 363,
   "metadata": {},
   "outputs": [],
   "source": [
    "xs=pd.concat([pd.get_dummies(education['gender']),pd.get_dummies(education['race/ethnicity']), \n",
    "              pd.get_dummies(education['parental level of education']),pd.get_dummies(education['lunch']),\n",
    "              pd.get_dummies(education['test preparation course']),yst_1['math score'],yst_1['reading score']],axis=1)\n"
   ]
  },
  {
   "cell_type": "code",
   "execution_count": 364,
   "metadata": {},
   "outputs": [
    {
     "data": {
      "image/png": "[encoded data removed]",
      "text/plain": [
       "<Figure size 432x288 with 1 Axes>"
      ]
     },
     "metadata": {
      "needs_background": "light"
     },
     "output_type": "display_data"
    }
   ],
   "source": [
    "max_depth  = []\n",
    "acc_values = []\n",
    "for i in range(1,100):\n",
    "    accuracy=doExperiment2(xs,yst_1['writing score'],DecisionTreeRegressor(criterion='mse', splitter='best',max_depth=i))\n",
    "    acc_values.append(accuracy)\n",
    "    max_depth.append(i)\n",
    "\n",
    "d = pd.DataFrame({'acc_values':pd.Series(acc_values),'max_depth':pd.Series(max_depth)})\n",
    "visualizeR(d)"
   ]
  },
  {
   "cell_type": "code",
   "execution_count": 365,
   "metadata": {},
   "outputs": [
    {
     "name": "stdout",
     "output_type": "stream",
     "text": [
      "Maximum score in Desicion Tree Regression:  0.9687359358964442\n",
      "For the maximum score, max_depth:  62\n"
     ]
    }
   ],
   "source": [
    "depth = depthSelect(acc_values)"
   ]
  },
  {
   "cell_type": "code",
   "execution_count": 367,
   "metadata": {},
   "outputs": [
    {
     "name": "stdout",
     "output_type": "stream",
     "text": [
      "95% Confidence Interval of Model Score:\n"
     ]
    },
    {
     "data": {
      "text/plain": [
       "(0.9199070568924989, 0.9302851525249253)"
      ]
     },
     "execution_count": 367,
     "metadata": {},
     "output_type": "execute_result"
    }
   ],
   "source": [
    "print('95% Confidence Interval of Model Score:')\n",
    "accuracies = np.array([doExperiment2( xs,\n",
    "                                      yst_1['writing score'],\n",
    "                                      DecisionTreeRegressor(max_depth=depth))\n",
    "                        for i in range(N)])\n",
    "t.interval(0.95,N-1,loc=accuracies.mean(),scale=accuracies.var())"
   ]
  },
  {
   "cell_type": "code",
   "execution_count": 368,
   "metadata": {},
   "outputs": [
    {
     "data": {
      "image/png": "[encoded data removed]",
      "text/plain": [
       "<Figure size 432x288 with 1 Axes>"
      ]
     },
     "metadata": {
      "needs_background": "light"
     },
     "output_type": "display_data"
    }
   ],
   "source": [
    "max_depth = []\n",
    "acc_values = []\n",
    "for i in range(1,100):\n",
    "    accuracy=doExperiment2(xs,yst_1['writing score'],xgb.XGBRegressor(max_depth=i,eta=0.1,n_estimators=1000))\n",
    "    acc_values.append(accuracy)\n",
    "    max_depth.append(i)\n",
    "\n",
    "d = pd.DataFrame({'acc_values':pd.Series(acc_values),'max_depth':pd.Series(max_depth)})\n",
    "visualizeR(d)"
   ]
  },
  {
   "cell_type": "code",
   "execution_count": 369,
   "metadata": {},
   "outputs": [
    {
     "name": "stdout",
     "output_type": "stream",
     "text": [
      "Maximum score in Desicion Tree Regression:  0.9865024091655004\n",
      "For the maximum score, max_depth:  59\n"
     ]
    }
   ],
   "source": [
    "depth = depthSelect(acc_values)"
   ]
  },
  {
   "cell_type": "code",
   "execution_count": 370,
   "metadata": {},
   "outputs": [
    {
     "data": {
      "text/plain": [
       "(0.9141745536775271, 0.9247664577905409)"
      ]
     },
     "execution_count": 370,
     "metadata": {},
     "output_type": "execute_result"
    }
   ],
   "source": [
    "accuracies = np.array([doExperiment2( xs,\n",
    "                                      yst_1['writing score'],\n",
    "                                      xgb.XGBRegressor(max_depth=depth,eta=0.1,n_estimators=1000))\n",
    "                        for i in range(N)])\n",
    "t.interval(0.95,N-1,loc=accuracies.mean(),scale=accuracies.var())"
   ]
  },
  {
   "cell_type": "markdown",
   "metadata": {},
   "source": [
    "# 3. booking.com Challenge\n",
    "\n",
    "This dataset is taken from [Booking.com Challenge ACM WSDM 2021](https://www.bookingchallenge.com/).\n",
    "\n",
    "The original challenge was to predict the final destination city of the trip by looking at the data at hand for each user. For this question, you are free to do whatever you like. Do something interesting with the data :)"
   ]
  },
  {
   "cell_type": "code",
   "execution_count": 2,
   "metadata": {},
   "outputs": [],
   "source": [
    "booking = pd.read_csv('/Users/burak.cakan/Desktop/booking_dataset/train_set.csv')\n",
    "\n",
    "features=['checkin','checkout','device_class','affiliate_id','booker_country']\n",
    "target=['city_id'] \n",
    "\n",
    "\n",
    "xtrain=booking[features]\n",
    "ytrain=booking[target]\n",
    "\n",
    "booking = pd.read_csv('/Users/burak.cakan/Desktop/booking_dataset/test_set.csv')\n",
    "xtest=booking[features]\n",
    "ytest=booking[target]\n"
   ]
  },
  {
   "cell_type": "markdown",
   "metadata": {},
   "source": [
    "Like the original problem, I wanted to predict the city_id in order to promote the user.\n",
    "I assumed checkin, checkout, device_class, affiliate_id and booker_country as independent features. \n",
    "Because the dataset is large enough, I only wanted to use train_set.csv file and split this file into train and test.\n",
    "And 'hotel_country' and city_id should be dependent, so I chose one of them as target."
   ]
  },
  {
   "cell_type": "code",
   "execution_count": 3,
   "metadata": {},
   "outputs": [
    {
     "data": {
      "text/html": [
       "<div>\n",
       "<style scoped>\n",
       "    .dataframe tbody tr th:only-of-type {\n",
       "        vertical-align: middle;\n",
       "    }\n",
       "\n",
       "    .dataframe tbody tr th {\n",
       "        vertical-align: top;\n",
       "    }\n",
       "\n",
       "    .dataframe thead th {\n",
       "        text-align: right;\n",
       "    }\n",
       "</style>\n",
       "<table border=\"1\" class=\"dataframe\">\n",
       "  <thead>\n",
       "    <tr style=\"text-align: right;\">\n",
       "      <th></th>\n",
       "      <th>city_id</th>\n",
       "    </tr>\n",
       "  </thead>\n",
       "  <tbody>\n",
       "    <tr>\n",
       "      <th>0</th>\n",
       "      <td>8183</td>\n",
       "    </tr>\n",
       "    <tr>\n",
       "      <th>1</th>\n",
       "      <td>15626</td>\n",
       "    </tr>\n",
       "    <tr>\n",
       "      <th>2</th>\n",
       "      <td>60902</td>\n",
       "    </tr>\n",
       "    <tr>\n",
       "      <th>3</th>\n",
       "      <td>30628</td>\n",
       "    </tr>\n",
       "    <tr>\n",
       "      <th>4</th>\n",
       "      <td>38677</td>\n",
       "    </tr>\n",
       "    <tr>\n",
       "      <th>...</th>\n",
       "      <td>...</td>\n",
       "    </tr>\n",
       "    <tr>\n",
       "      <th>1166830</th>\n",
       "      <td>20345</td>\n",
       "    </tr>\n",
       "    <tr>\n",
       "      <th>1166831</th>\n",
       "      <td>17944</td>\n",
       "    </tr>\n",
       "    <tr>\n",
       "      <th>1166832</th>\n",
       "      <td>47075</td>\n",
       "    </tr>\n",
       "    <tr>\n",
       "      <th>1166833</th>\n",
       "      <td>228</td>\n",
       "    </tr>\n",
       "    <tr>\n",
       "      <th>1166834</th>\n",
       "      <td>62930</td>\n",
       "    </tr>\n",
       "  </tbody>\n",
       "</table>\n",
       "<p>1166835 rows × 1 columns</p>\n",
       "</div>"
      ],
      "text/plain": [
       "         city_id\n",
       "0           8183\n",
       "1          15626\n",
       "2          60902\n",
       "3          30628\n",
       "4          38677\n",
       "...          ...\n",
       "1166830    20345\n",
       "1166831    17944\n",
       "1166832    47075\n",
       "1166833      228\n",
       "1166834    62930\n",
       "\n",
       "[1166835 rows x 1 columns]"
      ]
     },
     "execution_count": 3,
     "metadata": {},
     "output_type": "execute_result"
    }
   ],
   "source": [
    "ytrain"
   ]
  },
  {
   "cell_type": "markdown",
   "metadata": {},
   "source": [
    "I checked the data types of each feature in my dataset:"
   ]
  },
  {
   "cell_type": "code",
   "execution_count": 4,
   "metadata": {},
   "outputs": [
    {
     "name": "stdout",
     "output_type": "stream",
     "text": [
      "<class 'pandas.core.frame.DataFrame'>\n",
      "RangeIndex: 378667 entries, 0 to 378666\n",
      "Data columns (total 9 columns):\n",
      " #   Column          Non-Null Count   Dtype \n",
      "---  ------          --------------   ----- \n",
      " 0   user_id         378667 non-null  int64 \n",
      " 1   checkin         378667 non-null  object\n",
      " 2   checkout        378667 non-null  object\n",
      " 3   device_class    378667 non-null  object\n",
      " 4   affiliate_id    378667 non-null  int64 \n",
      " 5   booker_country  378667 non-null  object\n",
      " 6   utrip_id        378667 non-null  object\n",
      " 7   city_id         378667 non-null  int64 \n",
      " 8   hotel_country   308005 non-null  object\n",
      "dtypes: int64(3), object(6)\n",
      "memory usage: 26.0+ MB\n"
     ]
    }
   ],
   "source": [
    "booking.info()"
   ]
  },
  {
   "cell_type": "markdown",
   "metadata": {},
   "source": [
    "At first, I wanted to apart the year, month and day from the date of checkin and checkout because apart from the full date, this one should be more meaningful becuse of possible seasonality in the habit of vacation."
   ]
  },
  {
   "cell_type": "code",
   "execution_count": 6,
   "metadata": {},
   "outputs": [],
   "source": [
    "aa=np.zeros((len(xtrain['checkin']),3))\n",
    "for i in range(len(xtrain['checkin'])):\n",
    "    #aa[i][0]=booking['checkin'][i]\n",
    "    x = re.split(\"\\-\", xtrain['checkin'][i])\n",
    "    for j in range(3):\n",
    "        aa[i][j]=x[j]\n",
    "checkin_xtrain_new=pd.DataFrame({'checkin_year':aa[:,0],'checkin_month':aa[:,1],'checkin_day':aa[:,2]}).astype('int64').astype('category')        \n",
    "\n",
    "bb=np.zeros((len(xtest['checkin']),3))\n",
    "for i in range(len(xtest['checkin'])):\n",
    "    x = re.split(\"\\-\", xtest['checkin'][i])\n",
    "    for j in range(3):\n",
    "        bb[i][j]=x[j]\n",
    "checkin_xtest_new=pd.DataFrame({'checkin_year':bb[:,0],'checkin_month':bb[:,1],'checkin_day':bb[:,2]}).astype('int64').astype('category')  \n",
    "\n",
    "cc=np.zeros((len(xtrain['checkout']),3))\n",
    "for i in range(len(xtrain['checkout'])):\n",
    "    x = re.split(\"\\-\", xtrain['checkout'][i])\n",
    "    for j in range(3):\n",
    "        aa[i][j]=x[j]\n",
    "checkout_xtrain_new=pd.DataFrame({'checkout_year':aa[:,0],'checkout_month':aa[:,1],'checkout_day':aa[:,2]}).astype('int64').astype('category')        \n",
    "\n",
    "dd=np.zeros((len(xtest['checkout']),3))\n",
    "for i in range(len(xtest['checkout'])):\n",
    "    x = re.split(\"\\-\", xtest['checkout'][i])\n",
    "    for j in range(3):\n",
    "        bb[i][j]=x[j]\n",
    "checkout_xtest_new=pd.DataFrame({'checkout_year':bb[:,0],'checkout_month':bb[:,1],'checkout_day':bb[:,2]}).astype('int64').astype('category')   \n",
    "\n",
    "\n",
    "dummy_dates_train=pd.concat([checkin_xtrain_new,checkout_xtrain_new],axis=1)\n",
    "dummy_dates_test=pd.concat([checkin_xtest_new,checkout_xtest_new],axis=1)\n",
    "\n",
    "\n"
   ]
  },
  {
   "cell_type": "markdown",
   "metadata": {},
   "source": [
    "Then,I concataneted other features with the aparted date columns."
   ]
  },
  {
   "cell_type": "code",
   "execution_count": 54,
   "metadata": {},
   "outputs": [],
   "source": [
    "dummies_train=pd.concat([pd.get_dummies(dummy_dates_train),\n",
    "                         pd.get_dummies(xtrain['device_class']),\n",
    "                         pd.get_dummies(xtrain['affiliate_id']),\n",
    "                         pd.get_dummies(xtrain['booker_country'])],axis=1)\n"
   ]
  },
  {
   "cell_type": "code",
   "execution_count": 28,
   "metadata": {},
   "outputs": [
    {
     "name": "stdout",
     "output_type": "stream",
     "text": [
      "<class 'pandas.core.frame.DataFrame'>\n",
      "RangeIndex: 1166835 entries, 0 to 1166834\n",
      "Columns: 3353 entries, checkin_year_2015 to The Devilfire Empire\n",
      "dtypes: uint8(3353)\n",
      "memory usage: 3.6 GB\n"
     ]
    }
   ],
   "source": [
    "dummies_train.info()"
   ]
  },
  {
   "cell_type": "code",
   "execution_count": 8,
   "metadata": {},
   "outputs": [],
   "source": [
    "dummies_test=pd.concat([pd.get_dummies(dummy_dates_test),\n",
    "                         pd.get_dummies(xtest['device_class']),\n",
    "                         pd.get_dummies(xtest['affiliate_id']),\n",
    "                         pd.get_dummies(xtest['booker_country'])],axis=1)\n"
   ]
  },
  {
   "cell_type": "code",
   "execution_count": 9,
   "metadata": {},
   "outputs": [
    {
     "name": "stdout",
     "output_type": "stream",
     "text": [
      "<class 'pandas.core.frame.DataFrame'>\n",
      "RangeIndex: 378667 entries, 0 to 378666\n",
      "Columns: 2122 entries, checkin_year_2015 to The Devilfire Empire\n",
      "dtypes: uint8(2122)\n",
      "memory usage: 766.3 MB\n"
     ]
    }
   ],
   "source": [
    "dummies_test.info()"
   ]
  },
  {
   "cell_type": "code",
   "execution_count": 14,
   "metadata": {},
   "outputs": [],
   "source": [
    "def doExperiment(xs,ys,model,ts=0.2):\n",
    "    xtrain,xtest,ytrain,ytest = train_test_split(xs,ys,test_size=ts)\n",
    "    model.fit(xtrain,ytrain)\n",
    "    return model.score(xtest,ytest)\n",
    "N=5"
   ]
  },
  {
   "cell_type": "markdown",
   "metadata": {},
   "source": [
    "Because of high speed and convenience to categorical data, I wanted to use decision tree classifier. \n",
    "Firstly, I wanted to find a good depth value from 0 to 10."
   ]
  },
  {
   "cell_type": "code",
   "execution_count": 15,
   "metadata": {},
   "outputs": [
    {
     "data": {
      "image/png": "[encoded data removed]",
      "text/plain": [
       "<Figure size 432x288 with 1 Axes>"
      ]
     },
     "metadata": {
      "needs_background": "light"
     },
     "output_type": "display_data"
    }
   ],
   "source": [
    "max_depth = []\n",
    "acc_values = []\n",
    "for i in range(1,10):\n",
    "    accuracy=doExperiment(dummies_train,ytrain,DecisionTreeClassifier(criterion='gini',max_depth=i))\n",
    "    acc_values.append(accuracy)\n",
    "    max_depth.append(i)\n",
    "\n",
    "d = pd.DataFrame({'acc_values':pd.Series(acc_values),'max_depth':pd.Series(max_depth)})\n",
    "visualizeR(d)"
   ]
  },
  {
   "cell_type": "markdown",
   "metadata": {},
   "source": [
    "This full data took too much time, so I decided to move forward with taking samples.\n",
    "And I wanted to investigate broader range of depth."
   ]
  },
  {
   "cell_type": "code",
   "execution_count": null,
   "metadata": {},
   "outputs": [],
   "source": [
    "sample_xs = dummies_train.sample(frac=0.1, random_state=1)\n",
    "sample_ys = ytrain.sample(frac=0.1, random_state=1)\n",
    "\n",
    "max_depth = []\n",
    "acc_values = []\n",
    "for i in range(1,100):\n",
    "    accuracy=doExperiment(sample_xs,sample_ys,DecisionTreeClassifier(criterion='gini',max_depth=i))\n",
    "    acc_values.append(accuracy)\n",
    "    max_depth.append(i)\n",
    "\n",
    "d = pd.DataFrame({'acc_values':pd.Series(acc_values),'max_depth':pd.Series(max_depth)})\n",
    "\n"
   ]
  },
  {
   "cell_type": "markdown",
   "metadata": {},
   "source": [
    "As you see below, the result is very bad at all:"
   ]
  },
  {
   "cell_type": "code",
   "execution_count": 12,
   "metadata": {},
   "outputs": [
    {
     "data": {
      "image/png": "[encoded data removed]",
      "text/plain": [
       "<Figure size 432x288 with 1 Axes>"
      ]
     },
     "metadata": {
      "needs_background": "light"
     },
     "output_type": "display_data"
    }
   ],
   "source": [
    "visualizeR(d)"
   ]
  },
  {
   "cell_type": "markdown",
   "metadata": {},
   "source": [
    "Then I wanted to make some modifications and implementations on dataset. \n",
    "1. I will calculate the accomaditon period by subtracting checkin and checkout dates. \n",
    "2. Because I am using accomodation period, I didn't need checkout date.\n",
    "3. The year can be eliminated."
   ]
  },
  {
   "cell_type": "code",
   "execution_count": 5,
   "metadata": {},
   "outputs": [],
   "source": [
    "aa=np.zeros((len(xtrain['checkin']),3))\n",
    "for i in range(len(xtrain['checkin'])):\n",
    "    #aa[i][0]=booking['checkin'][i]\n",
    "    x = re.split(\"\\-\", xtrain['checkin'][i])\n",
    "    for j in range(3):\n",
    "        aa[i][j]=x[j]\n",
    "checkin_xtrain_new=pd.DataFrame({'checkin_year':aa[:,0],'checkin_month':aa[:,1]}).astype('int64').astype('category')        \n",
    "\n",
    "#dummy_dates_train=pd.concat([checkin_xtrain_new,checkout_xtrain_new],axis=1)\n",
    "\n",
    "dummies_train=pd.concat([pd.get_dummies(checkin_xtrain_new),\n",
    "                         pd.get_dummies(xtrain['device_class']),\n",
    "                         pd.get_dummies(xtrain['affiliate_id']),\n",
    "                         pd.get_dummies(xtrain['booker_country']),\n",
    "                         ytrain],\n",
    "                        axis=1)\n"
   ]
  },
  {
   "cell_type": "code",
   "execution_count": 6,
   "metadata": {},
   "outputs": [],
   "source": [
    "xtrain['checkin'] = pd.to_datetime(xtrain['checkin'])\n",
    "xtrain['checkout'] = pd.to_datetime(xtrain['checkout'])\n",
    "a=xtrain['checkout']-xtrain['checkin']\n",
    "accomodation_period = pd.DataFrame({'accomodation_period':a.dt.days})\n",
    "b= xtrain['checkin'].dt.day_name() \n",
    "checkin_day= pd.DataFrame({'checkin_day':b})\n",
    "calculated_features= pd.concat([accomodation_period, pd.get_dummies(checkin_day)],axis=1)\n",
    "\n",
    "new_train=pd.concat([dummies_train,calculated_features], axis=1)"
   ]
  },
  {
   "cell_type": "markdown",
   "metadata": {},
   "source": [
    "For bagging classifiers, ravel function was a must. So I modified my function:"
   ]
  },
  {
   "cell_type": "code",
   "execution_count": 15,
   "metadata": {},
   "outputs": [],
   "source": [
    "def doExperiment_bagging(xs,ys,model,ts=0.2):\n",
    "    xtrain,xtest,ytrain,ytest = train_test_split(xs,ys,test_size=ts)\n",
    "    model.fit(xtrain,ytrain.values.ravel())\n",
    "    return model.score(xtest,ytest.values.ravel())\n",
    "N=5"
   ]
  },
  {
   "cell_type": "markdown",
   "metadata": {},
   "source": [
    "Decision tree classifier didn't work again. Then I wanted to try other classifiers and regressor."
   ]
  },
  {
   "cell_type": "code",
   "execution_count": 23,
   "metadata": {},
   "outputs": [
    {
     "data": {
      "text/plain": [
       "(0.0178086729367518, 0.017815630773934638)"
      ]
     },
     "execution_count": 23,
     "metadata": {},
     "output_type": "execute_result"
    }
   ],
   "source": [
    "accuracies=[]\n",
    "N=20\n",
    "for i in range(N):\n",
    "    sample_dataset = new_train.sample(frac=0.05, random_state=1)\n",
    "    sample_ys = sample_dataset['city_id']\n",
    "    sample_xs = sample_dataset.loc[:, new_train.columns != 'city_id']\n",
    "    accuracy  = doExperiment(sample_xs,sample_ys,DecisionTreeClassifier(criterion='gini',max_depth=5))\n",
    "    accuracies.append(accuracy)\n",
    "    \n",
    "accuracies=np.array(accuracies)\n",
    "t.interval(0.95,N-1,loc=accuracies.mean(),scale=accuracies.var())"
   ]
  },
  {
   "cell_type": "code",
   "execution_count": 24,
   "metadata": {},
   "outputs": [
    {
     "data": {
      "text/plain": [
       "(0.0042155547103009654, 0.00421704448414586)"
      ]
     },
     "execution_count": 24,
     "metadata": {},
     "output_type": "execute_result"
    }
   ],
   "source": [
    "accuracies=[]\n",
    "N=20\n",
    "for i in range(N):\n",
    "    sample_dataset = new_train.sample(frac=0.05, random_state=1)\n",
    "    sample_ys = sample_dataset['city_id']\n",
    "    sample_xs = sample_dataset.loc[:, new_train.columns != 'city_id']\n",
    "    accuracy  = doExperiment(sample_xs,sample_ys,KNeighborsClassifier())\n",
    "    accuracies.append(accuracy)\n",
    "    \n",
    "accuracies=np.array(accuracies)\n",
    "t.interval(0.95,N-1,loc=accuracies.mean(),scale=accuracies.var())\n"
   ]
  },
  {
   "cell_type": "code",
   "execution_count": 26,
   "metadata": {},
   "outputs": [
    {
     "data": {
      "text/plain": [
       "(-0.0019204531089940808, -0.0019164718916689575)"
      ]
     },
     "execution_count": 26,
     "metadata": {},
     "output_type": "execute_result"
    }
   ],
   "source": [
    "accuracies=[]\n",
    "N=20\n",
    "for i in range(N):\n",
    "    sample_dataset = new_train.sample(frac=0.05, random_state=1)\n",
    "    sample_ys = sample_dataset['city_id']\n",
    "    sample_xs = sample_dataset.loc[:, new_train.columns != 'city_id']\n",
    "    accuracy  = doExperiment2(sample_xs,sample_ys,DecisionTreeRegressor(criterion='mse', splitter='best',max_depth=5))\n",
    "    accuracies.append(accuracy)\n",
    "    \n",
    "accuracies=np.array(accuracies)\n",
    "t.interval(0.95,N-1,loc=accuracies.mean(),scale=accuracies.var())"
   ]
  },
  {
   "cell_type": "code",
   "execution_count": 27,
   "metadata": {},
   "outputs": [
    {
     "data": {
      "text/plain": [
       "(-0.005857707928236923, -0.005850775180228406)"
      ]
     },
     "execution_count": 27,
     "metadata": {},
     "output_type": "execute_result"
    }
   ],
   "source": [
    "accuracies=[]\n",
    "N=20\n",
    "for i in range(N):\n",
    "    sample_dataset = new_train.sample(frac=0.05, random_state=1)\n",
    "    sample_ys = sample_dataset['city_id']\n",
    "    sample_xs = sample_dataset.loc[:, new_train.columns != 'city_id']\n",
    "    accuracy  = doExperiment2(sample_xs,sample_ys,xgb.XGBRegressor())\n",
    "    accuracies.append(accuracy)\n",
    "    \n",
    "accuracies=np.array(accuracies)\n",
    "t.interval(0.95,N-1,loc=accuracies.mean(),scale=accuracies.var())"
   ]
  },
  {
   "cell_type": "code",
   "execution_count": 28,
   "metadata": {},
   "outputs": [
    {
     "data": {
      "text/plain": [
       "(0.013499385052577072, 0.013503785741835474)"
      ]
     },
     "execution_count": 28,
     "metadata": {},
     "output_type": "execute_result"
    }
   ],
   "source": [
    "accuracies=[]\n",
    "N=20\n",
    "for i in range(N):\n",
    "    sample_dataset = new_train.sample(frac=0.05, random_state=1)\n",
    "    sample_ys = sample_dataset['city_id']\n",
    "    sample_xs = sample_dataset.loc[:, new_train.columns != 'city_id']\n",
    "    accuracy  = doExperiment_bagging(sample_xs,sample_ys,AdaBoostClassifier())\n",
    "    accuracies.append(accuracy)\n",
    "\n",
    "accuracies=np.array(accuracies)\n",
    "t.interval(0.95,N-1,loc=accuracies.mean(),scale=accuracies.var())"
   ]
  },
  {
   "cell_type": "code",
   "execution_count": 29,
   "metadata": {},
   "outputs": [
    {
     "name": "stderr",
     "output_type": "stream",
     "text": [
      "/Users/burak.cakan/opt/anaconda3/lib/python3.8/site-packages/sklearn/neural_network/_multilayer_perceptron.py:614: ConvergenceWarning: Stochastic Optimizer: Maximum iterations (200) reached and the optimization hasn't converged yet.\n",
      "  warnings.warn(\n",
      "/Users/burak.cakan/opt/anaconda3/lib/python3.8/site-packages/sklearn/neural_network/_multilayer_perceptron.py:614: ConvergenceWarning: Stochastic Optimizer: Maximum iterations (200) reached and the optimization hasn't converged yet.\n",
      "  warnings.warn(\n",
      "/Users/burak.cakan/opt/anaconda3/lib/python3.8/site-packages/sklearn/neural_network/_multilayer_perceptron.py:614: ConvergenceWarning: Stochastic Optimizer: Maximum iterations (200) reached and the optimization hasn't converged yet.\n",
      "  warnings.warn(\n",
      "/Users/burak.cakan/opt/anaconda3/lib/python3.8/site-packages/sklearn/neural_network/_multilayer_perceptron.py:619: UserWarning: Training interrupted by user.\n",
      "  warnings.warn(\"Training interrupted by user.\")\n",
      "/Users/burak.cakan/opt/anaconda3/lib/python3.8/site-packages/sklearn/neural_network/_multilayer_perceptron.py:619: UserWarning: Training interrupted by user.\n",
      "  warnings.warn(\"Training interrupted by user.\")\n",
      "ERROR:root:Internal Python error in the inspect module.\n",
      "Below is the traceback from this internal error.\n",
      "\n"
     ]
    },
    {
     "name": "stdout",
     "output_type": "stream",
     "text": [
      "Traceback (most recent call last):\n",
      "  File \"/Users/burak.cakan/opt/anaconda3/lib/python3.8/site-packages/IPython/core/interactiveshell.py\", line 3418, in run_code\n",
      "    exec(code_obj, self.user_global_ns, self.user_ns)\n",
      "  File \"<ipython-input-29-ca011fbbc7ad>\", line 8, in <module>\n",
      "    accuracy  = doExperiment_bagging(sample_xs,sample_ys,MLPClassifier())\n",
      "KeyboardInterrupt\n",
      "\n",
      "During handling of the above exception, another exception occurred:\n",
      "\n",
      "Traceback (most recent call last):\n",
      "  File \"/Users/burak.cakan/opt/anaconda3/lib/python3.8/site-packages/IPython/core/interactiveshell.py\", line 2045, in showtraceback\n",
      "    stb = value._render_traceback_()\n",
      "AttributeError: 'KeyboardInterrupt' object has no attribute '_render_traceback_'\n",
      "\n",
      "During handling of the above exception, another exception occurred:\n",
      "\n",
      "Traceback (most recent call last):\n",
      "  File \"/Users/burak.cakan/opt/anaconda3/lib/python3.8/site-packages/IPython/core/ultratb.py\", line 1170, in get_records\n",
      "    return _fixed_getinnerframes(etb, number_of_lines_of_context, tb_offset)\n",
      "  File \"/Users/burak.cakan/opt/anaconda3/lib/python3.8/site-packages/IPython/core/ultratb.py\", line 316, in wrapped\n",
      "    return f(*args, **kwargs)\n",
      "  File \"/Users/burak.cakan/opt/anaconda3/lib/python3.8/site-packages/IPython/core/ultratb.py\", line 350, in _fixed_getinnerframes\n",
      "    records = fix_frame_records_filenames(inspect.getinnerframes(etb, context))\n",
      "  File \"/Users/burak.cakan/opt/anaconda3/lib/python3.8/inspect.py\", line 1503, in getinnerframes\n",
      "    frameinfo = (tb.tb_frame,) + getframeinfo(tb, context)\n",
      "  File \"/Users/burak.cakan/opt/anaconda3/lib/python3.8/inspect.py\", line 1461, in getframeinfo\n",
      "    filename = getsourcefile(frame) or getfile(frame)\n",
      "  File \"/Users/burak.cakan/opt/anaconda3/lib/python3.8/inspect.py\", line 708, in getsourcefile\n",
      "    if getattr(getmodule(object, filename), '__loader__', None) is not None:\n",
      "  File \"/Users/burak.cakan/opt/anaconda3/lib/python3.8/inspect.py\", line 744, in getmodule\n",
      "    for modname, module in sys.modules.copy().items():\n",
      "KeyboardInterrupt\n"
     ]
    },
    {
     "name": "stderr",
     "output_type": "stream",
     "text": [
      "\n",
      "KeyboardInterrupt\n",
      "\n"
     ]
    }
   ],
   "source": [
    "accuracies=[]\n",
    "N=20\n",
    "for i in range(N):\n",
    "    sample_dataset = new_train.sample(frac=0.05, random_state=1)\n",
    "    sample_ys = sample_dataset['city_id']\n",
    "    sample_xs = sample_dataset.loc[:, new_train.columns != 'city_id']\n",
    "    accuracy  = doExperiment_bagging(sample_xs,sample_ys,MLPClassifier())\n",
    "    accuracies.append(accuracy)\n",
    "\n",
    "accuracies=np.array(accuracies)\n",
    "t.interval(0.95,N-1,loc=accuracies.mean(),scale=accuracies.var())"
   ]
  },
  {
   "cell_type": "markdown",
   "metadata": {},
   "source": [
    "Because MLP classier takes too much time, I cancelled manually in the fifth iteration."
   ]
  },
  {
   "cell_type": "code",
   "execution_count": 32,
   "metadata": {},
   "outputs": [
    {
     "data": {
      "text/plain": [
       "(0.0058055682705333645, 0.005806395051088026)"
      ]
     },
     "execution_count": 32,
     "metadata": {},
     "output_type": "execute_result"
    }
   ],
   "source": [
    "accuracies=np.array(accuracies)\n",
    "t.interval(0.95,3,loc=accuracies.mean(),scale=accuracies.var())"
   ]
  },
  {
   "cell_type": "markdown",
   "metadata": {},
   "source": [
    "As a result, I didn't end up finding a good predictive model. \n",
    "Because AdaBoostClassifier,XGBRegressor and MLPClassifier took nearly one day to compute separately,\n",
    "I couldn't rearrange the dataset and set a new model.\n",
    "With these findings, I can say that dataset is not appropriate for prediction."
   ]
  }
 ],
 "metadata": {
  "kernelspec": {
   "display_name": "Python 3",
   "language": "python",
   "name": "python3"
  }
 },
 "nbformat": 4,
 "nbformat_minor": 5
}
